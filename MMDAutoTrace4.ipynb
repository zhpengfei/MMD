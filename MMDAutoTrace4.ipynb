{
  "nbformat": 4,
  "nbformat_minor": 0,
  "metadata": {
    "colab": {
      "name": "MMDAutoTrace4.00.05.ipynb",
      "provenance": [],
      "gpuType": "T4",
      "toc_visible": true
    },
    "kernelspec": {
      "name": "python3",
      "display_name": "Python 3"
    },
    "language_info": {
      "name": "python"
    },
    "accelerator": "GPU"
  },
  "cells": [
    {
      "cell_type": "markdown",
      "source": [
        "# Colab版MMD自動トレースv4 へようこそ！(実行編)"
      ],
      "metadata": {
        "id": "Fyy5ukQ1Snmq"
      }
    },
    {
      "cell_type": "markdown",
      "source": [
        "# 始めに\n",
        "\n",
        "このツールの稼働状況やメンテナンス情報はTwitter（[@miu200521358](https://twitter.com/miu200521358)）にて行っています。\n",
        "\n",
        "エラーになる、起動しない、などの場合、まずは現在の配布状況をご確認ください。\n",
        "\n",
        "メンテ中以外でうまくいかない場合などのご相談はコミュニティの掲示板もしくはノートブックの共有からお願いします。\n",
        "\n",
        "https://discord.gg/HEuvWV2v7G"
      ],
      "metadata": {
        "id": "x0Du9XXeSsPi"
      }
    },
    {
      "cell_type": "markdown",
      "source": [
        "# 目次\n",
        "\n",
        "このノートブックでは、MMD自動トレースの準備と実行を行います\n",
        "\n",
        "ノートブックの使い方にはクセがあるので、「[準備編](https://colab.research.google.com/github/miu200521358/motion_trace_colab/blob/develop/MMDAutoTraceIntroduction.ipynb)」で使い方に慣れてください\n",
        "\n",
        "画面左上の「＝」（実際は三本線）をクリックして下さい。目次が開きます（既に開いている場合は次へ進んでください）\n",
        "\n",
        "![目次](https://drive.google.com/uc?export=view&id=1HGk4sJmcPtMbMwcJOvE3aU1GjvKinwA_)\n",
        "\n",
        "Googleドライブの直下に`autotrace`フォルダを作成してください\n",
        "\n",
        "（準備編で既に作られている場合は再作成不要です）\n",
        "\n",
        "ノートブックを上から順に確認し、以下手順をひとつずつ実行してください\n",
        "\n",
        "実行が必要なセルには番号を振ってあります。①から順番に実行してください\n",
        "\n",
        "- **「①　環境構築」**\n",
        "  - MMD自動トレースv4 用の環境を構築します。\n",
        "- **「②　MMD自動トレースv4 実行」**\n",
        "    - MMD自動トレースv4 を実行します。\n"
      ],
      "metadata": {
        "id": "CoaXwL-ASx6q"
      }
    },
    {
      "cell_type": "markdown",
      "source": [
        "# 起こる可能性のあるエラー・警告と対処方法"
      ],
      "metadata": {
        "id": "f-XzbSo-TgtU"
      }
    },
    {
      "cell_type": "markdown",
      "source": [
        "## GPU上限突破"
      ],
      "metadata": {
        "id": "aEQ4dKwATlsr"
      }
    },
    {
      "cell_type": "markdown",
      "source": [
        "下記のようなエラーが出た場合、GPUの使用量上限に達しました\n",
        "\n",
        "無料域の場合、24時間以上待っていただくと再度利用できるようになります\n",
        "\n",
        "![上限](https://drive.google.com/uc?export=view&id=1xxg5yM-wgNkAr1FboAM8DS2K-aqmtw5d)\n",
        "\n",
        "再度使えるようになったか確認するには、右上の「接続」アイコンをクリックしてください\n",
        "\n",
        "まだ使えない場合、再度上記ダイアログが出てきます\n",
        "\n",
        "接続できたらGPUが再び使用できるようになっています\n",
        "\n",
        "使える時間数は接続が完了した後のサイド画面で確認出来ます\n",
        "\n",
        "![上限](https://drive.google.com/uc?export=view&id=1o0m1dklnk9JFTqsAmkLFa8McvfUaMmqe)\n"
      ],
      "metadata": {
        "id": "Ma1e14jVToVi"
      }
    },
    {
      "cell_type": "markdown",
      "source": [
        "## 環境のクラッシュ"
      ],
      "metadata": {
        "id": "NrT6jPFBTq_x"
      }
    },
    {
      "cell_type": "markdown",
      "source": [
        "下記のようなエラーが出た場合、環境がクラッシュしました\n",
        "\n",
        "セッションを一度削除して、環境を作り直してください\n",
        "\n",
        "![クラッシュ](https://drive.google.com/uc?export=view&id=1qMoxfUggI_jDjrDifj7UgOrSmsEOMmHY)\n",
        "\n",
        "![クラッシュ](https://drive.google.com/uc?export=view&id=1WFHmCzEkCLi8XnHyl7goicNQPL67RHhX)\n",
        "\n",
        "![削除](https://drive.google.com/uc?export=view&id=12UaonO4UvI_HCnJI95od15_yagVIVsRD)\n",
        "\n",
        "![削除](https://drive.google.com/uc?export=view&id=1smRW97KjP8fqSy3E5dtfWJHpyBtEMKca)\n"
      ],
      "metadata": {
        "id": "TYONV48qTtSf"
      }
    },
    {
      "cell_type": "markdown",
      "source": [
        "## 環境の自動削除"
      ],
      "metadata": {
        "id": "n0N0LWYnTw0k"
      }
    },
    {
      "cell_type": "markdown",
      "source": [
        "下記のようなエラーが出た場合、時間経過や上記クラッシュなどによりColabから環境が既に破棄されています\n",
        "\n",
        "セッションを一度削除して、環境を作り直してください\n",
        "\n",
        "![Googleドライブ連携](https://drive.google.com/uc?export=view&id=1Oa5SNwStqzR6qVMEzxg8PdLmO3FTpr1l)\n"
      ],
      "metadata": {
        "id": "ywNefafZTyy8"
      }
    },
    {
      "cell_type": "markdown",
      "source": [
        "## GPU未使用警告"
      ],
      "metadata": {
        "id": "P-eZr-2ST1bk"
      }
    },
    {
      "cell_type": "markdown",
      "source": [
        "作業中に下記のような警告が出ることがありますが、【②-C】以外はそのまま進めていただいて問題ありません\n",
        "\n",
        "　（GPUを使うのはAIを実行する箇所だけですので、その他のセルを作業中に出る可能性があります）\n",
        "\n",
        "![警告](https://drive.google.com/uc?export=view&id=1mRW32urnPQ4LS4xrLEoPdp_XCqlq1HUF)\n"
      ],
      "metadata": {
        "id": "v28ncAfzT3db"
      }
    },
    {
      "cell_type": "markdown",
      "source": [
        "## ディスク容量残警告"
      ],
      "metadata": {
        "id": "uH6cRFVgmfh4"
      }
    },
    {
      "cell_type": "markdown",
      "source": [
        "下記のような警告が出てきたら、1回目は無視して大丈夫です\n",
        "\n",
        "2回目が出てきたら、途中でディスクがパンクする恐れがあるため、入力映像をキリのいいところで区切って分けて処理してください"
      ],
      "metadata": {
        "id": "cUxpejEEmlKM"
      }
    },
    {
      "cell_type": "markdown",
      "source": [
        "\n",
        "![容量オーバー](https://drive.google.com/uc?export=view&id=1EKt3nCK6ZYjgkNoflQNzSnW_0s4WnJYO)\n",
        "\n"
      ],
      "metadata": {
        "id": "Hae7pvkCmdps"
      }
    },
    {
      "cell_type": "markdown",
      "source": [
        "## インタラクティブな使用の確認"
      ],
      "metadata": {
        "id": "mec-tc5_jpd-"
      }
    },
    {
      "cell_type": "markdown",
      "source": [
        "下記のような確認が出てきたら、「私はロボットではありません」のチェックを入れてください\n",
        "\n",
        "Colabでは長時間（90分ほど）操作しないとこのダイアログが出てしまいます"
      ],
      "metadata": {
        "id": "ccwq3sUfjqrs"
      }
    },
    {
      "cell_type": "markdown",
      "source": [
        "\n",
        "![確認](https://drive.google.com/uc?export=view&id=1tuioznet4aC-RBtiuKrohxbQqeEvCYBU)\n",
        "\n"
      ],
      "metadata": {
        "id": "cHMC3jWmjsto"
      }
    },
    {
      "cell_type": "markdown",
      "source": [
        "# 利用規約"
      ],
      "metadata": {
        "id": "tUNmRfXodyvM"
      }
    },
    {
      "cell_type": "markdown",
      "source": [
        "MMD自動トレースをご利用、またはその結果を公開・配布する場合は、必ず利用規約のご確認をお願い致します\n",
        "\n",
        "JSONデータの利用やUnityへの適用等、MMD以外での使用の場合も同様です\n",
        "\n",
        "[MMD自動トレースv4 利用規約](https://github.com/miu200521358/mmd-auto-trace-4/wiki/03.%E5%88%A9%E7%94%A8%E8%A6%8F%E7%B4%84)\n",
        "\n",
        "[MMD自動トレースv4 使用技術・ライセンス](https://github.com/miu200521358/mmd-auto-trace-4/wiki/02.%E4%BD%BF%E7%94%A8%E6%8A%80%E8%A1%93)"
      ],
      "metadata": {
        "id": "UqHhDeUAUA3V"
      }
    },
    {
      "cell_type": "markdown",
      "source": [
        "# ①　環境構築"
      ],
      "metadata": {
        "id": "cGNYDeTFeFWW"
      }
    },
    {
      "cell_type": "markdown",
      "source": [
        "## ①-A　通知音のダウンロード\n",
        "\n",
        "通知音を[効果音ラボ](https://soundeffect-lab.info/)様よりダウンロードして、セルの実行を開始・完了・失敗、および全ての処理が完了した時に音が鳴るようにします\n",
        "\n",
        "下の【①-A】のセルを実行してください\n",
        "\n",
        "ダウンロードが完了すると、再生ボタンが表示されますので、それぞれの音を確認しておいてください\n",
        "\n"
      ],
      "metadata": {
        "id": "c2wqFlb4eTe2"
      }
    },
    {
      "cell_type": "code",
      "source": [
        "#@markdown ■■■■■■■■■■■■■■■■■■\n",
        "\n",
        "#@markdown 【①-A】　通知音のダウンロード\n",
        "\n",
        "#@markdown ■■■■■■■■■■■■■■■■■■\n",
        "\n",
        "from enum import Enum\n",
        "\n",
        "class SoundType(Enum):\n",
        "    START = 0\n",
        "    SUCCESS = 1\n",
        "    FAIL = 2\n",
        "    COMPLETE = 3\n",
        "\n",
        "# ----------------------------------\n",
        "\n",
        "! wget --no-check-certificate -c \"http://123.57.71.16/sceneswitch1.mp3\"\n",
        "! wget --no-check-certificate -c \"http://123.57.71.16/incorrect1.mp3\"\n",
        "! wget --no-check-certificate -c \"http://123.57.71.16/switch1.mp3\"\n",
        "! wget --no-check-certificate -c \"http://123.57.71.16/trumpet1.mp3\"\n",
        "\n",
        "\n",
        "from IPython.display import Audio, display\n",
        "import torch\n",
        "\n",
        "def play_sound(sound_type: SoundType, autoplay=True):\n",
        "    try:\n",
        "        if sound_type == SoundType.START:\n",
        "            file_name = \"/content/switch1.mp3\"\n",
        "        elif sound_type == SoundType.SUCCESS:\n",
        "            file_name = \"/content/sceneswitch1.mp3\"\n",
        "        elif sound_type == SoundType.COMPLETE:\n",
        "            file_name = \"/content/trumpet1.mp3\"\n",
        "        else:\n",
        "            file_name = \"/content/incorrect1.mp3\"\n",
        "\n",
        "        display(Audio(file_name, autoplay=autoplay, normalize=False))\n",
        "    except:\n",
        "        print(\"■■■■■■■■■■■■■■■\")\n",
        "        print(\"■　効果音が再生できませんでした\")\n",
        "        print(\"■■■■■■■■■■■■■■■\")\n",
        "\n",
        "# ----------------------------------\n",
        "\n",
        "exec_dict = {\n",
        "    '①-A': {'exec': False, 'premise': []},\n",
        "    '①-B': {'exec': False, 'premise': ['①-A', ]},\n",
        "    '①-C': {'exec': False, 'premise': ['①-A', '①-B', ]},\n",
        "    '①-D': {'exec': False, 'premise': ['①-A', '①-B', '①-C', ]},\n",
        "    '①-E': {'exec': False, 'premise': ['①-A', '①-B', '①-C', '①-D', ]},\n",
        "    '①-F': {'exec': False, 'premise': ['①-A', '①-B', '①-C', '①-D', '①-E', ]},\n",
        "    '②-A': {'exec': False, 'premise': ['①-A', '①-B', '①-C', '①-D', '①-E', '①-F', ]},\n",
        "    '②-B': {'exec': False, 'premise': ['①-A', '①-B', '①-C', '①-D', '①-E', '①-F', '②-A' ]},\n",
        "    '②-C': {'exec': False, 'premise': ['①-A', '①-B', '①-C', '①-D', '①-E', '①-F', '②-A', '②-B' ]},\n",
        "}\n",
        "\n",
        "NVIDIA_VISIBLE_DEVICES=all\n",
        "\n",
        "class IpyExit(SystemExit):\n",
        "    def __init__(self, text: str = None):\n",
        "        if text:\n",
        "            print(\"■■■■■■■■■■■■■■■\")\n",
        "            print(\"■　** ERROR **\")\n",
        "            print(f\"■　{text}\")\n",
        "            print(\"■■■■■■■■■■■■■■■\")\n",
        "        play_sound(SoundType.FAIL)\n",
        "        pass\n",
        "\n",
        "def check_exec_dict(cell_key: str, is_cpu=False):\n",
        "    if not is_cpu and not torch.cuda.is_available():\n",
        "        print(\"■■■■■■■■■■■■■■■\")\n",
        "        print(\"■　** ERROR **\")\n",
        "        print(\"■　GPUが有効になってません。\")\n",
        "        print(\"■　準備編を参考にしながらランタイムをGPUに変更してください。\")\n",
        "        print(\"■■■■■■■■■■■■■■■\")\n",
        "        raise IpyExit\n",
        "\n",
        "    if not exec_dict:\n",
        "        print(\"■■■■■■■■■■■■■■■\")\n",
        "        print(\"■　** ERROR **\")\n",
        "        print(\"■　セル【①-A】が実行されていない可能性があります。\")\n",
        "        print(\"■　目次から戻って実行してください。\")\n",
        "        print(\"■■■■■■■■■■■■■■■\")\n",
        "        raise IpyExit\n",
        "\n",
        "    for p in exec_dict[cell_key]['premise']:\n",
        "        # 事前に実行されるべきセルがすべて実行されているか\n",
        "        if not exec_dict[p]['exec']:\n",
        "            print(\"■■■■■■■■■■■■■■■\")\n",
        "            print(\"■　** ERROR **\")\n",
        "            print(f\"■　セル【{p}】が実行されていない可能性があります。\")\n",
        "            print(\"■　目次から戻って実行してください。\")\n",
        "            print(\"■■■■■■■■■■■■■■■\")\n",
        "            raise IpyExit\n",
        "\n",
        "    # 全部実行されていたらOK\n",
        "    play_sound(SoundType.START)\n",
        "    return True\n",
        "\n",
        "def finish_cell(cell_key: str):\n",
        "    play_sound(SoundType.SUCCESS)\n",
        "\n",
        "    print(\"■■■■■■■■■■■■■■■\")\n",
        "    print(\"■　** OK **\")\n",
        "    print(f\"■　セル【{cell_key}】の実行に成功しました。\")\n",
        "    print(\"■■■■■■■■■■■■■■■\")\n",
        "\n",
        "    exec_dict[cell_key]['exec'] = True\n",
        "\n",
        "# ----------------------------------\n",
        "\n",
        "# セル実行可否\n",
        "ckey = \"①-A\"\n",
        "check_exec_dict(ckey)\n",
        "\n",
        "# ----------------------------------\n",
        "\n",
        "# セル終了\n",
        "\n",
        "finish_cell(ckey)\n",
        "\n",
        "print(\"\")\n",
        "print(\"\")\n",
        "print(\"■ セル実行開始\")\n",
        "play_sound(SoundType.START, autoplay=False)\n",
        "\n",
        "print(\"\")\n",
        "print(\"\")\n",
        "print(\"■ セル実行失敗\")\n",
        "play_sound(SoundType.FAIL, autoplay=False)\n",
        "\n",
        "print(\"\")\n",
        "print(\"\")\n",
        "print(\"■ セル実行成功\")\n",
        "play_sound(SoundType.SUCCESS, autoplay=False)\n",
        "\n",
        "print(\"\")\n",
        "print(\"\")\n",
        "print(\"■ 自動トレース全て完了\")\n",
        "play_sound(SoundType.COMPLETE, autoplay=False)"
      ],
      "metadata": {
        "id": "ENPQ2HkzeZdl",
        "colab": {
          "base_uri": "https://localhost:8080/",
          "height": 1000
        },
        "outputId": "f7d94e4e-8911-43bd-c146-3ca9eff8ffec"
      },
      "execution_count": 1,
      "outputs": [
        {
          "output_type": "stream",
          "name": "stdout",
          "text": [
            "--2025-06-14 06:47:56--  http://123.57.71.16/sceneswitch1.mp3\n",
            "Connecting to 123.57.71.16:80... connected.\n",
            "HTTP request sent, awaiting response... 200 OK\n",
            "Length: 3178 (3.1K) [audio/mpeg]\n",
            "Saving to: ‘sceneswitch1.mp3’\n",
            "\n",
            "sceneswitch1.mp3    100%[===================>]   3.10K  --.-KB/s    in 0.07s   \n",
            "\n",
            "2025-06-14 06:47:59 (44.6 KB/s) - ‘sceneswitch1.mp3’ saved [3178/3178]\n",
            "\n",
            "--2025-06-14 06:47:59--  http://123.57.71.16/incorrect1.mp3\n",
            "Connecting to 123.57.71.16:80... connected.\n",
            "HTTP request sent, awaiting response... 200 OK\n",
            "Length: 3178 (3.1K) [audio/mpeg]\n",
            "Saving to: ‘incorrect1.mp3’\n",
            "\n",
            "incorrect1.mp3      100%[===================>]   3.10K  --.-KB/s    in 0s      \n",
            "\n",
            "2025-06-14 06:48:00 (312 MB/s) - ‘incorrect1.mp3’ saved [3178/3178]\n",
            "\n",
            "--2025-06-14 06:48:00--  http://123.57.71.16/switch1.mp3\n",
            "Connecting to 123.57.71.16:80... connected.\n",
            "HTTP request sent, awaiting response... 200 OK\n",
            "Length: 3178 (3.1K) [audio/mpeg]\n",
            "Saving to: ‘switch1.mp3’\n",
            "\n",
            "switch1.mp3         100%[===================>]   3.10K  --.-KB/s    in 0s      \n",
            "\n",
            "2025-06-14 06:48:01 (302 MB/s) - ‘switch1.mp3’ saved [3178/3178]\n",
            "\n",
            "--2025-06-14 06:48:01--  http://123.57.71.16/trumpet1.mp3\n",
            "Connecting to 123.57.71.16:80... connected.\n",
            "HTTP request sent, awaiting response... 200 OK\n",
            "Length: 3178 (3.1K) [audio/mpeg]\n",
            "Saving to: ‘trumpet1.mp3’\n",
            "\n",
            "trumpet1.mp3        100%[===================>]   3.10K  --.-KB/s    in 0s      \n",
            "\n",
            "2025-06-14 06:48:02 (310 MB/s) - ‘trumpet1.mp3’ saved [3178/3178]\n",
            "\n"
          ]
        },
        {
          "output_type": "display_data",
          "data": {
            "text/plain": [
              "<IPython.lib.display.Audio object>"
            ],
            "text/html": [
              "\n",
              "                <audio  controls=\"controls\" autoplay=\"autoplay\">\n",
              "                    <source src=\"data:audio/mpeg;base64,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\" type=\"audio/mpeg\" />\n",
              "                    Your browser does not support the audio element.\n",
              "                </audio>\n",
              "              "
            ]
          },
          "metadata": {}
        },
        {
          "output_type": "display_data",
          "data": {
            "text/plain": [
              "<IPython.lib.display.Audio object>"
            ],
            "text/html": [
              "\n",
              "                <audio  controls=\"controls\" autoplay=\"autoplay\">\n",
              "                    <source src=\"data:audio/mpeg;base64,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\" type=\"audio/mpeg\" />\n",
              "                    Your browser does not support the audio element.\n",
              "                </audio>\n",
              "              "
            ]
          },
          "metadata": {}
        },
        {
          "output_type": "stream",
          "name": "stdout",
          "text": [
            "■■■■■■■■■■■■■■■\n",
            "■　** OK **\n",
            "■　セル【①-A】の実行に成功しました。\n",
            "■■■■■■■■■■■■■■■\n",
            "\n",
            "\n",
            "■ セル実行開始\n"
          ]
        },
        {
          "output_type": "display_data",
          "data": {
            "text/plain": [
              "<IPython.lib.display.Audio object>"
            ],
            "text/html": [
              "\n",
              "                <audio  controls=\"controls\" >\n",
              "                    <source src=\"data:audio/mpeg;base64,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\" type=\"audio/mpeg\" />\n",
              "                    Your browser does not support the audio element.\n",
              "                </audio>\n",
              "              "
            ]
          },
          "metadata": {}
        },
        {
          "output_type": "stream",
          "name": "stdout",
          "text": [
            "\n",
            "\n",
            "■ セル実行失敗\n"
          ]
        },
        {
          "output_type": "display_data",
          "data": {
            "text/plain": [
              "<IPython.lib.display.Audio object>"
            ],
            "text/html": [
              "\n",
              "                <audio  controls=\"controls\" >\n",
              "                    <source src=\"data:audio/mpeg;base64,SUQzBAAAAAAAI1RTU0UAAAAPAAADTGF2ZjU3LjE0LjEwMAAAAAAAAAAAAAAA//OAAAAAAAAAAAAAAAAAAAAAAAAASW5mbwAAAA8AAAAOAAAMPQAhISEhISEhMzMzMzMzM0RERERERERVVVVVVVVVZmZmZmZmZnd3d3d3d3eIiIiIiIiImZmZmZmZmZmqqqqqqqqqu7u7u7u7u8zMzMzMzMzd3d3d3d3d7u7u7u7u7v////////8AAAAATGF2YzU3LjE1AAAAAAAAAAAAAAAAJAAAAAAAAAAADD0QTLGFAAAAAAAAAAAAAAAAAAAAAAAAAAAAAAAAAAAAAAAAAP/zgGQADQFe3mCgjACNSAHRkUAAAG0eMbjWYx4wA4x7v//13d3d//93dC///d3d+O7u7u7on/+heiIiO7u7/u7u4GBu5aJ//+iIiO7u7/9d3d3dERP///0QDAxbh4/MPDw8PABH///wADw8PH5h4eHn//AD+v+AHh4e//6PKPDWQMuf4nP/g/1g+f4nP+XD/rB//y4P8HwfB9//Lg+D5+mD4f/5cHwffxO//lwfB///lw+qAgCDJBwIjAAiFQCAHga1GBlQvjTAeb2TAzo0Z7v/84JkHRCVjTEfylAADgACGl2BEACyYGjEkkQfvgBEw28if+K0EFCWAaAfTeuF8xB4yghQUp//i4D0nDAnBkP/qa3HLImJQFADgGYIoThE//960EEXUmyE3TIoXFniGDgIuLPGTGYJz/////QIAOYRAi5fN0y+bkUNGQLhpgJBSYQQShGCAAUIICWwfUhi0ZDnXTCYs7fztyDFvZp6e4UfR9Cl4q3RGOk3It9P/TRou/+vo/9NsDAYDAgDAYDAgEIiAARjYUv5i9+zgIx7fGXMhf/zgmQcEYUxay/MPAEKEAYiKYAQACCdBT9eGtB+DJC7TuJDIDbRY/NUvSJqBAVa7V5wXheuI94LJtjQ9nv7f92hjgzoY6Z4M80O+8zX/pMx1hwIG9TR73zHvbXxu+/u0GDiBbG73oz0iwKR7+mvrFPrevT/+Sb7t/9f/6Z4HNOU7STX7czhmAAAqRBAy1+2rj5lkfv+v0L/R9/b+zfV/6t3s6f//Sv+8UJXej09aoiADjKlC+gOBiVNJ5yXzVWnmFjtbZLL4Nb+84NPfmHVUalk//OCZCMStYFxB+wwAYyAAhABwAAANZGQIwpxjAaWXvr0iwfATfclFA69RhE70N6Zttaz7N3y79+dfbv7r9aWh923PsUuhq23PjrVY6w5E/rczWzHO3j7KV+l75T/ve/TNpvn1vv/a+T/0pR+m7udf5yrdqXPjykDSzWLQn7r+VtOt/zluPe5P/t7kWMYdp+luxzpfZjx9e+s+Kb1djKN5LV9UE32Yf0yi94zfN3ClHgITNvs2M604q594JVEJLqc66q55EhL7MuT8PtVnARsOU7/84JkFxBVkXBTPMOZjRAGFMAAAABcuMpkoolzFBMAgapSu0pHVjAr0LWXg2DCQ0cE+lUW+YK5XEyRLHSQkC9DLIewRGcChJ/lbN9sEm2KePp4pCEGHdGkKqKiLRQmMEr2iwhwjaxa6cty+ktzTRiI4ucjKo4SxIcpc/3M/730BZCB97LpSjss1LZrQ999MUv6l91q1OpEj61fak6hRT5nVFqO1yyyjCVE2fTu78kRH9Dci/uQEJWFCXnQGWbRLDdGFuyki2CjVWZymZBakIIGuv/zgmQcEMU7cFMl5l2LqAYQAAAAAFOT9zLtAfHuzoSrmJWIBFz7P1PsSORahaka2r0qjeK6z2dDY+nkCeLeZYisIoVIoyYs7MOMYgGj27QghvbEDSnnYqp5dN6XUuWMnJulNsZHjPkPt/fnzX7FTv+KXMqVbkDVFouu///ix0b9vxNqxqljtFst0jd+L1/TbO9LEKapXOCnVKHrOz8fR97VSQ5umZ/21ylbVVxfpl6kXgkgemRIESAqjfcigeL4WxCrOBsFg03YrChPPthQ+1DC//OCZCMNxV14oyRiuYsAAhTAAAAA5lK4I9zoQZPItIHLtWAFFwQIIYJ/E1areYtSPJ53apjtbRnZXKofzmz3gWBzD1Ov4U19aUjveyP92381lIiEFOErl8L7yXcQ/zquBl/QwzXmFqFt+X2/09n6/po+rbvroItrJocvlPMf7B3d0zT9GUaY9oWaa/RVmrgU8CI00RNUibch8F01taEUJGRSrFUikuJUJQ05MvXFAEICY0DGkkyKhMlc1J6wnRzKqFHpERspxKgXZ9jlbQzGpRz/84JkRA1NJXazJMOFjVgCFYgAAADnZ98/+SnENJ+aF5Ltf6WQSA9uHBwn/xeYcKtGN9dfKf15//wYN6VgIQtaF/fh1l7lqpvo/rLvnHf7u9VWY9D07VCpJyksd2lEI+zRucxG3X2fLUxVjzT0U3nWpa+4EJVB2GyYtExpcbOkRc5SxMVtlaruN90X9unqJMXm0z+SbOxLcLXYy4Ey6sXBlAV3u5BxQjEkaJ61AA5VKKNktnIj1J8Ks8rYU89LYcPywQLKaWLEyrDYESLsFXsKiP/zgmRgDXDzcLcww6UNEAIMAABETJLqnkUvA5VSVnf4//cUFB+lCLWt31KO5X/t1PW7RXxVzvUAEM5YbmlSVFT9VqZhhDZpahhI+J69f3KcjpexPkmbpgClQHYep1KWIlUQmjAmwtHrPP/y2np3Fq2BdlHDpKXa3EpPEYokc2tj7sDtfdmXsxKCW0VphgNCkBXQ4dEG3TBchLdDDDr5Q2b5SmpMq0MsPl6t389/8jMU5MuDCirhUUhsFgo4XOltAqj4iEqRZKANjjiGpYyMMvrV//OCZHwNuTdswzDDlQxoAhowAEQAtF/dWLdy1PU84vdt3Uf7H0blfGo/er+VPfcJbjvp9fp2f6VqRja5EaT4FZMhUMwmJ4SnTQ+hRvM4zpTOL0WWSmTSKDHbyNotwciclRymtQUZIKPgVQUMm+ayHfWoczdFQxpVITYx5Q/yffuRZnDdd1bJwTGgcY5wmQSB0JwKMgVaXgEcRjwXb1v5QFBX0X+AF01frcjc++pUc9iuelWdViTinh1yxtbmoX/1ptb/SxtifYzkakOFKAmzjs7/84JkmA0ZB20XMMNnDNgGEAAAAAA4IJ/N1b/5AKWBcyUxRx2X2aOr1U6nmSLZGcW3Hmj53WLa/YBCjhQcXmWBBROHCiGg+6pDpAhJsMxt3WHmUnatVfEsepFrsz7X84fSy82Zk1MrS4ZZzNjJZzMqT3zhK1cI7faMCoKnTx4Ra0eEHkvlmdy2pTXUNszv+P9009xfbWevpfV5u3xexiF+a6SXa5iEESNjy29TtzZJ1zwsK0vweimjQkzHFICOCCCd+Y4Udc8ZwCtFzTBG0GhI4P/zgmS3DTlXXsOnjAENOAIMAUAAANAC6zpBA9eSRqC7LoJnWnIY0rEnK+rS2GcgRrrP6rmU0UNJjISlHLMOuK60A6prvtLbkKiCB09Wdnn0gbHHHWT1oeNbYA2dbK74zLn9dmCGTRv/1/44omF3pYwxZ0PuPJV2wdbiMOuzSxJnVrn///+PuDAL6Om3liB3TijT2Y0jLZbVhp2pe4MNRyW4yuC5N///fx1ruOPFhY45MD1ngfJ/neXNN9pN5VYzQRGjm7lJS442a/Kbm62squ8a//OCZNQa8Xs3Ec1gAAfABiihgBgCxFRWoBfp1W6X/t/zFt9nTae1ep3/7qP+y539f2f+z1f3fqqBIKQFQamwLCx1FCws2qrcrw3K9VVVVX+Mzf+zdCiTUBBUsDQwGvwVKhpT+5Xyuz/6eCsGlA08q4ShpQNcSnSp3KhqHfBWS/BW2WPfyF+YQuEKxC//MapQE8CtT+DUOwVO/iXxEDSg6VO4KqBoYDX/qPcGr/wVeCp0sHFA1/1A0MDv/lTvqPVHgafVTEFNRTMuOTkuNVVVVVX/84JkmQlscugB5AwAD7C1zAHBEABVVVVVVVVVVVVVVVVVVVVVVVVVVVVVVVVVVVVVVVVVVVVVVVVVVVVVVVVVVVVVVVVVVVVVVVVVVVVVVVVVVVVVVVVVVVVVVVVVVVVVVVVVVVVVVVVVVVVVVVVVVVVVVVVVVVVVVVVVVVVVVVVVVVVVVVVVVVVVVVVVVVVVVVVVVVVVVVVVVVVVVVVVVVVVVVVVVVVVVVVVVVVVVVVVVVVVVVVVVVVVVVVVVVVVVVVVVVVVVVVVVVVVVVVVVQ==\" type=\"audio/mpeg\" />\n",
              "                    Your browser does not support the audio element.\n",
              "                </audio>\n",
              "              "
            ]
          },
          "metadata": {}
        },
        {
          "output_type": "stream",
          "name": "stdout",
          "text": [
            "\n",
            "\n",
            "■ セル実行成功\n"
          ]
        },
        {
          "output_type": "display_data",
          "data": {
            "text/plain": [
              "<IPython.lib.display.Audio object>"
            ],
            "text/html": [
              "\n",
              "                <audio  controls=\"controls\" >\n",
              "                    <source src=\"data:audio/mpeg;base64,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\" type=\"audio/mpeg\" />\n",
              "                    Your browser does not support the audio element.\n",
              "                </audio>\n",
              "              "
            ]
          },
          "metadata": {}
        },
        {
          "output_type": "stream",
          "name": "stdout",
          "text": [
            "\n",
            "\n",
            "■ 自動トレース全て完了\n"
          ]
        },
        {
          "output_type": "display_data",
          "data": {
            "text/plain": [
              "<IPython.lib.display.Audio object>"
            ],
            "text/html": [
              "\n",
              "                <audio  controls=\"controls\" >\n",
              "                    <source src=\"data:audio/mpeg;base64,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\" type=\"audio/mpeg\" />\n",
              "                    Your browser does not support the audio element.\n",
              "                </audio>\n",
              "              "
            ]
          },
          "metadata": {}
        }
      ]
    },
    {
      "cell_type": "markdown",
      "source": [
        "## ①-B　GPUランタイムの確認\n",
        "\n",
        "ヘッダの \"ランタイム\"　＞　\"ランタイムのタイプを変更\"　＞　\"GPU\"　を選択して下さい\n",
        "\n",
        "詳しい手順は、「[MMD自動トレース 準備編](https://colab.research.google.com/github/miu200521358/motion_trace_colab/blob/master/AutoTraceIntroduction.ipynb)」を参考にしてください\n",
        "\n",
        "変更できたら、下の【①-B】のセルを実行して下さい"
      ],
      "metadata": {
        "id": "WKqIyaMoe2wP"
      }
    },
    {
      "cell_type": "code",
      "source": [
        "#@markdown ■■■■■■■■■■■■■■■■■■\n",
        "\n",
        "#@markdown 【①-B】　GPUランタイムの確認\n",
        "\n",
        "#@markdown ■■■■■■■■■■■■■■■■■■\n",
        "\n",
        "# セル実行可否\n",
        "ckey = \"①-B\"\n",
        "check_exec_dict(ckey)\n",
        "\n",
        "# ----------------------------------\n",
        "\n",
        "# OSバージョンとかもログに出す\n",
        "! cat /etc/os-release\n",
        "\n",
        "! nvidia-smi\n",
        "\n",
        "import subprocess\n",
        "try:\n",
        "    subprocess.check_output(\"nvidia-smi\", shell=True)\n",
        "except:\n",
        "    print(\"■■■■■■■■■■■■■■■\")\n",
        "    print(\"■　** ERROR **\")\n",
        "    print(\"■　nvidia-smiコマンドの実行に失敗しました。\")\n",
        "    print(\"■　① まだGPUを使ってない場合、ランタイムの設定を行っていない場合\")\n",
        "    print(\"■　　準備編を参考にしながら、ランタイムをGPUに設定してください\")\n",
        "    print(\"■　　※ランタイムを変更すると環境がリセットされるため、【①-A】からやり直してください\")\n",
        "    print(\"■　② GPUの利用上限に達して、CPUでしか使えない場合\")\n",
        "    print(\"■　　無料域の場合、24時間以上置いていただくと再度使用できるようになります\")\n",
        "    print(\"■■■■■■■■■■■■■■■\")\n",
        "\n",
        "# ----------------------------------\n",
        "\n",
        "# セル終了\n",
        "finish_cell(ckey)"
      ],
      "metadata": {
        "id": "_dGYRo6Me7Df",
        "colab": {
          "base_uri": "https://localhost:8080/",
          "height": 759
        },
        "outputId": "8c7d8c39-1eb9-465f-a829-1cded2e7d9cb"
      },
      "execution_count": 2,
      "outputs": [
        {
          "output_type": "display_data",
          "data": {
            "text/plain": [
              "<IPython.lib.display.Audio object>"
            ],
            "text/html": [
              "\n",
              "                <audio  controls=\"controls\" autoplay=\"autoplay\">\n",
              "                    <source src=\"data:audio/mpeg;base64,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\" type=\"audio/mpeg\" />\n",
              "                    Your browser does not support the audio element.\n",
              "                </audio>\n",
              "              "
            ]
          },
          "metadata": {}
        },
        {
          "output_type": "stream",
          "name": "stdout",
          "text": [
            "PRETTY_NAME=\"Ubuntu 22.04.4 LTS\"\n",
            "NAME=\"Ubuntu\"\n",
            "VERSION_ID=\"22.04\"\n",
            "VERSION=\"22.04.4 LTS (Jammy Jellyfish)\"\n",
            "VERSION_CODENAME=jammy\n",
            "ID=ubuntu\n",
            "ID_LIKE=debian\n",
            "HOME_URL=\"https://www.ubuntu.com/\"\n",
            "SUPPORT_URL=\"https://help.ubuntu.com/\"\n",
            "BUG_REPORT_URL=\"https://bugs.launchpad.net/ubuntu/\"\n",
            "PRIVACY_POLICY_URL=\"https://www.ubuntu.com/legal/terms-and-policies/privacy-policy\"\n",
            "UBUNTU_CODENAME=jammy\n",
            "Sat Jun 14 06:48:35 2025       \n",
            "+-----------------------------------------------------------------------------------------+\n",
            "| NVIDIA-SMI 550.54.15              Driver Version: 550.54.15      CUDA Version: 12.4     |\n",
            "|-----------------------------------------+------------------------+----------------------+\n",
            "| GPU  Name                 Persistence-M | Bus-Id          Disp.A | Volatile Uncorr. ECC |\n",
            "| Fan  Temp   Perf          Pwr:Usage/Cap |           Memory-Usage | GPU-Util  Compute M. |\n",
            "|                                         |                        |               MIG M. |\n",
            "|=========================================+========================+======================|\n",
            "|   0  Tesla T4                       Off |   00000000:00:04.0 Off |                    0 |\n",
            "| N/A   38C    P8              9W /   70W |       2MiB /  15360MiB |      0%      Default |\n",
            "|                                         |                        |                  N/A |\n",
            "+-----------------------------------------+------------------------+----------------------+\n",
            "                                                                                         \n",
            "+-----------------------------------------------------------------------------------------+\n",
            "| Processes:                                                                              |\n",
            "|  GPU   GI   CI        PID   Type   Process name                              GPU Memory |\n",
            "|        ID   ID                                                               Usage      |\n",
            "|=========================================================================================|\n",
            "|  No running processes found                                                             |\n",
            "+-----------------------------------------------------------------------------------------+\n"
          ]
        },
        {
          "output_type": "display_data",
          "data": {
            "text/plain": [
              "<IPython.lib.display.Audio object>"
            ],
            "text/html": [
              "\n",
              "                <audio  controls=\"controls\" autoplay=\"autoplay\">\n",
              "                    <source src=\"data:audio/mpeg;base64,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\" type=\"audio/mpeg\" />\n",
              "                    Your browser does not support the audio element.\n",
              "                </audio>\n",
              "              "
            ]
          },
          "metadata": {}
        },
        {
          "output_type": "stream",
          "name": "stdout",
          "text": [
            "■■■■■■■■■■■■■■■\n",
            "■　** OK **\n",
            "■　セル【①-B】の実行に成功しました。\n",
            "■■■■■■■■■■■■■■■\n"
          ]
        }
      ]
    },
    {
      "cell_type": "markdown",
      "source": [
        "## ①-C　Googleドライブとの連携\n",
        "\n",
        "下記目的のため、このColabページからあなたのGoogleドライブにアクセスする許可を与えてください\n",
        " - Googleドライブに保存されたトレース元動画を読み取る為\n",
        " - 自動トレース結果を保存する為\n",
        "\n",
        "※Googleドライブ内の「autotrace」フォルダ以外は触りません\n",
        "\n",
        "下の【①-C】のセルを実行して、サブウィンドウから全てのアクセス許可を付与して連携を許可してください"
      ],
      "metadata": {
        "id": "WfRS49WpfC0a"
      }
    },
    {
      "cell_type": "code",
      "source": [
        "#@markdown ■■■■■■■■■■■■■■■■■■\n",
        "\n",
        "#@markdown 【①-C】　Googleドライブとの連携\n",
        "\n",
        "#@markdown ■■■■■■■■■■■■■■■■■■\n",
        "\n",
        "# セル実行可否\n",
        "ckey = \"①-C\"\n",
        "check_exec_dict(ckey)\n",
        "\n",
        "# ----------------------------------\n",
        "\n",
        "from google.colab import drive\n",
        "import os\n",
        "\n",
        "# Googleドライブマウント\n",
        "drive.mount('/gdrive')\n",
        "\n",
        "# 起点ディレクトリ\n",
        "base_dir_path = \"/gdrive/My Drive/autotrace\"\n",
        "\n",
        "if os.path.exists(base_dir_path):\n",
        "    print(\"■■■■■■■■■■■■■■■\")\n",
        "    print(\"■　** OK **\")\n",
        "    print(\"■　autotraceフォルダ内との連携が成功しました。\")\n",
        "    print(\"■■■■■■■■■■■■■■■\")\n",
        "else:\n",
        "    print(\"■■■■■■■■■■■■■■■\")\n",
        "    print(\"■　** ERROR **\")\n",
        "    print(\"■　autotraceフォルダがGoogleドライブの直下に見つかりませんでした。\")\n",
        "    print(\"■　準備編を参考にしながら、autotraceフォルダを作成してください。\")\n",
        "    print(\"■　※スペルミスだった場合、ファイル名などの変更は行わず、新しいフォルダもしくはファイルで試してください。\")\n",
        "    print(\"■　　Googleドライブとの連携後の更新はうまく認識されません。\")\n",
        "    print(\"■　※少しタイムラグがあるので、修正した直後は認識されない場合があります。\")\n",
        "    print(\"■　　10秒くらい待ってからセルを再実行してください。\")\n",
        "    print(\"■■■■■■■■■■■■■■■\")\n",
        "    raise IpyExit\n",
        "\n",
        "# ----------------------------------\n",
        "\n",
        "# セル終了\n",
        "finish_cell(ckey)"
      ],
      "metadata": {
        "id": "QkEaktdxfcqE",
        "colab": {
          "base_uri": "https://localhost:8080/",
          "height": 290
        },
        "outputId": "4d5089b7-d0c7-4ab7-adcc-50c2f46b7875"
      },
      "execution_count": 3,
      "outputs": [
        {
          "output_type": "display_data",
          "data": {
            "text/plain": [
              "<IPython.lib.display.Audio object>"
            ],
            "text/html": [
              "\n",
              "                <audio  controls=\"controls\" autoplay=\"autoplay\">\n",
              "                    <source src=\"data:audio/mpeg;base64,SUQzBAAAAAAAI1RTU0UAAAAPAAADTGF2ZjU3LjE0LjEwMAAAAAAAAAAAAAAA//OAAAAAAAAAAAAAAAAAAAAAAAAASW5mbwAAAA8AAAAOAAAMPQAhISEhISEhMzMzMzMzM0RERERERERVVVVVVVVVZmZmZmZmZnd3d3d3d3eIiIiIiIiImZmZmZmZmZmqqqqqqqqqu7u7u7u7u8zMzMzMzMzd3d3d3d3d7u7u7u7u7v////////8AAAAATGF2YzU3LjE1AAAAAAAAAAAAAAAAJAAAAAAAAAAADD0QTLGFAAAAAAAAAAAAAAAAAAAAAAAAAAAAAAAAAAAAAAAAAP/zgGQADQFe3mCgjACNSAHRkUAAAG0eMbjWYx4wA4x7v//13d3d//93dC///d3d+O7u7u7on/+heiIiO7u7/u7u4GBu5aJ//+iIiO7u7/9d3d3dERP///0QDAxbh4/MPDw8PABH///wADw8PH5h4eHn//AD+v+AHh4e//6PKPDWQMuf4nP/g/1g+f4nP+XD/rB//y4P8HwfB9//Lg+D5+mD4f/5cHwffxO//lwfB///lw+qAgCDJBwIjAAiFQCAHga1GBlQvjTAeb2TAzo0Z7v/84JkHRCVjTEfylAADgACGl2BEACyYGjEkkQfvgBEw28if+K0EFCWAaAfTeuF8xB4yghQUp//i4D0nDAnBkP/qa3HLImJQFADgGYIoThE//960EEXUmyE3TIoXFniGDgIuLPGTGYJz/////QIAOYRAi5fN0y+bkUNGQLhpgJBSYQQShGCAAUIICWwfUhi0ZDnXTCYs7fztyDFvZp6e4UfR9Cl4q3RGOk3It9P/TRou/+vo/9NsDAYDAgDAYDAgEIiAARjYUv5i9+zgIx7fGXMhf/zgmQcEYUxay/MPAEKEAYiKYAQACCdBT9eGtB+DJC7TuJDIDbRY/NUvSJqBAVa7V5wXheuI94LJtjQ9nv7f92hjgzoY6Z4M80O+8zX/pMx1hwIG9TR73zHvbXxu+/u0GDiBbG73oz0iwKR7+mvrFPrevT/+Sb7t/9f/6Z4HNOU7STX7czhmAAAqRBAy1+2rj5lkfv+v0L/R9/b+zfV/6t3s6f//Sv+8UJXej09aoiADjKlC+gOBiVNJ5yXzVWnmFjtbZLL4Nb+84NPfmHVUalk//OCZCMStYFxB+wwAYyAAhABwAAANZGQIwpxjAaWXvr0iwfATfclFA69RhE70N6Zttaz7N3y79+dfbv7r9aWh923PsUuhq23PjrVY6w5E/rczWzHO3j7KV+l75T/ve/TNpvn1vv/a+T/0pR+m7udf5yrdqXPjykDSzWLQn7r+VtOt/zluPe5P/t7kWMYdp+luxzpfZjx9e+s+Kb1djKN5LV9UE32Yf0yi94zfN3ClHgITNvs2M604q594JVEJLqc66q55EhL7MuT8PtVnARsOU7/84JkFxBVkXBTPMOZjRAGFMAAAABcuMpkoolzFBMAgapSu0pHVjAr0LWXg2DCQ0cE+lUW+YK5XEyRLHSQkC9DLIewRGcChJ/lbN9sEm2KePp4pCEGHdGkKqKiLRQmMEr2iwhwjaxa6cty+ktzTRiI4ucjKo4SxIcpc/3M/730BZCB97LpSjss1LZrQ999MUv6l91q1OpEj61fak6hRT5nVFqO1yyyjCVE2fTu78kRH9Dci/uQEJWFCXnQGWbRLDdGFuyki2CjVWZymZBakIIGuv/zgmQcEMU7cFMl5l2LqAYQAAAAAFOT9zLtAfHuzoSrmJWIBFz7P1PsSORahaka2r0qjeK6z2dDY+nkCeLeZYisIoVIoyYs7MOMYgGj27QghvbEDSnnYqp5dN6XUuWMnJulNsZHjPkPt/fnzX7FTv+KXMqVbkDVFouu///ix0b9vxNqxqljtFst0jd+L1/TbO9LEKapXOCnVKHrOz8fR97VSQ5umZ/21ylbVVxfpl6kXgkgemRIESAqjfcigeL4WxCrOBsFg03YrChPPthQ+1DC//OCZCMNxV14oyRiuYsAAhTAAAAA5lK4I9zoQZPItIHLtWAFFwQIIYJ/E1areYtSPJ53apjtbRnZXKofzmz3gWBzD1Ov4U19aUjveyP92381lIiEFOErl8L7yXcQ/zquBl/QwzXmFqFt+X2/09n6/po+rbvroItrJocvlPMf7B3d0zT9GUaY9oWaa/RVmrgU8CI00RNUibch8F01taEUJGRSrFUikuJUJQ05MvXFAEICY0DGkkyKhMlc1J6wnRzKqFHpERspxKgXZ9jlbQzGpRz/84JkRA1NJXazJMOFjVgCFYgAAADnZ98/+SnENJ+aF5Ltf6WQSA9uHBwn/xeYcKtGN9dfKf15//wYN6VgIQtaF/fh1l7lqpvo/rLvnHf7u9VWY9D07VCpJyksd2lEI+zRucxG3X2fLUxVjzT0U3nWpa+4EJVB2GyYtExpcbOkRc5SxMVtlaruN90X9unqJMXm0z+SbOxLcLXYy4Ey6sXBlAV3u5BxQjEkaJ61AA5VKKNktnIj1J8Ks8rYU89LYcPywQLKaWLEyrDYESLsFXsKiP/zgmRgDXDzcLcww6UNEAIMAABETJLqnkUvA5VSVnf4//cUFB+lCLWt31KO5X/t1PW7RXxVzvUAEM5YbmlSVFT9VqZhhDZpahhI+J69f3KcjpexPkmbpgClQHYep1KWIlUQmjAmwtHrPP/y2np3Fq2BdlHDpKXa3EpPEYokc2tj7sDtfdmXsxKCW0VphgNCkBXQ4dEG3TBchLdDDDr5Q2b5SmpMq0MsPl6t389/8jMU5MuDCirhUUhsFgo4XOltAqj4iEqRZKANjjiGpYyMMvrV//OCZHwNuTdswzDDlQxoAhowAEQAtF/dWLdy1PU84vdt3Uf7H0blfGo/er+VPfcJbjvp9fp2f6VqRja5EaT4FZMhUMwmJ4SnTQ+hRvM4zpTOL0WWSmTSKDHbyNotwciclRymtQUZIKPgVQUMm+ayHfWoczdFQxpVITYx5Q/yffuRZnDdd1bJwTGgcY5wmQSB0JwKMgVaXgEcRjwXb1v5QFBX0X+AF01frcjc++pUc9iuelWdViTinh1yxtbmoX/1ptb/SxtifYzkakOFKAmzjs7/84JkmA0ZB20XMMNnDNgGEAAAAAA4IJ/N1b/5AKWBcyUxRx2X2aOr1U6nmSLZGcW3Hmj53WLa/YBCjhQcXmWBBROHCiGg+6pDpAhJsMxt3WHmUnatVfEsepFrsz7X84fSy82Zk1MrS4ZZzNjJZzMqT3zhK1cI7faMCoKnTx4Ra0eEHkvlmdy2pTXUNszv+P9009xfbWevpfV5u3xexiF+a6SXa5iEESNjy29TtzZJ1zwsK0vweimjQkzHFICOCCCd+Y4Udc8ZwCtFzTBG0GhI4P/zgmS3DTlXXsOnjAENOAIMAUAAANAC6zpBA9eSRqC7LoJnWnIY0rEnK+rS2GcgRrrP6rmU0UNJjISlHLMOuK60A6prvtLbkKiCB09Wdnn0gbHHHWT1oeNbYA2dbK74zLn9dmCGTRv/1/44omF3pYwxZ0PuPJV2wdbiMOuzSxJnVrn///+PuDAL6Om3liB3TijT2Y0jLZbVhp2pe4MNRyW4yuC5N///fx1ruOPFhY45MD1ngfJ/neXNN9pN5VYzQRGjm7lJS442a/Kbm62squ8a//OCZNQa8Xs3Ec1gAAfABiihgBgCxFRWoBfp1W6X/t/zFt9nTae1ep3/7qP+y539f2f+z1f3fqqBIKQFQamwLCx1FCws2qrcrw3K9VVVVX+Mzf+zdCiTUBBUsDQwGvwVKhpT+5Xyuz/6eCsGlA08q4ShpQNcSnSp3KhqHfBWS/BW2WPfyF+YQuEKxC//MapQE8CtT+DUOwVO/iXxEDSg6VO4KqBoYDX/qPcGr/wVeCp0sHFA1/1A0MDv/lTvqPVHgafVTEFNRTMuOTkuNVVVVVX/84JkmQlscugB5AwAD7C1zAHBEABVVVVVVVVVVVVVVVVVVVVVVVVVVVVVVVVVVVVVVVVVVVVVVVVVVVVVVVVVVVVVVVVVVVVVVVVVVVVVVVVVVVVVVVVVVVVVVVVVVVVVVVVVVVVVVVVVVVVVVVVVVVVVVVVVVVVVVVVVVVVVVVVVVVVVVVVVVVVVVVVVVVVVVVVVVVVVVVVVVVVVVVVVVVVVVVVVVVVVVVVVVVVVVVVVVVVVVVVVVVVVVVVVVVVVVVVVVVVVVVVVVVVVVVVVVQ==\" type=\"audio/mpeg\" />\n",
              "                    Your browser does not support the audio element.\n",
              "                </audio>\n",
              "              "
            ]
          },
          "metadata": {}
        },
        {
          "output_type": "stream",
          "name": "stdout",
          "text": [
            "Mounted at /gdrive\n",
            "■■■■■■■■■■■■■■■\n",
            "■　** OK **\n",
            "■　autotraceフォルダ内との連携が成功しました。\n",
            "■■■■■■■■■■■■■■■\n"
          ]
        },
        {
          "output_type": "display_data",
          "data": {
            "text/plain": [
              "<IPython.lib.display.Audio object>"
            ],
            "text/html": [
              "\n",
              "                <audio  controls=\"controls\" autoplay=\"autoplay\">\n",
              "                    <source src=\"data:audio/mpeg;base64,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\" type=\"audio/mpeg\" />\n",
              "                    Your browser does not support the audio element.\n",
              "                </audio>\n",
              "              "
            ]
          },
          "metadata": {}
        },
        {
          "output_type": "stream",
          "name": "stdout",
          "text": [
            "■■■■■■■■■■■■■■■\n",
            "■　** OK **\n",
            "■　セル【①-C】の実行に成功しました。\n",
            "■■■■■■■■■■■■■■■\n"
          ]
        }
      ]
    },
    {
      "cell_type": "markdown",
      "source": [
        "## ①-D　GoogleSDKとの連携\n",
        "\n",
        "miuのGoogleドライブから自動トレースに必要なデータをDLするため、`GoogleSDK` と連携します\n",
        "\n",
        "下の【①-D】のセルを実行して、セル【①-C】と同じく、新しく表示されたウィンドウから全てのアクセス許可を与えてください"
      ],
      "metadata": {
        "id": "TAPv-jy7fz4h"
      }
    },
    {
      "cell_type": "code",
      "source": [
        "#@markdown ■■■■■■■■■■■■■■■■■■\n",
        "\n",
        "#@markdown 【①-D】　Google SDK との連携\n",
        "\n",
        "#@markdown ■■■■■■■■■■■■■■■■■■\n",
        "\n",
        "# セル実行可否\n",
        "ckey = \"①-D\"\n",
        "check_exec_dict(ckey)\n",
        "\n",
        "# ----------------------------------\n",
        "\n",
        "# Googleドライブアクセスライブラリ\n",
        "!pip install -U -q PyDrive2\n",
        "\n",
        "from pydrive2.auth import GoogleAuth\n",
        "from pydrive2.drive import GoogleDrive\n",
        "from google.colab import auth\n",
        "from oauth2client.client import GoogleCredentials\n",
        "\n",
        "try:\n",
        "    auth.authenticate_user()\n",
        "    gauth = GoogleAuth()\n",
        "    gauth.credentials = GoogleCredentials.get_application_default()\n",
        "    drive = GoogleDrive(gauth)\n",
        "\n",
        "    print(\"■■■■■■■■■■■■■■■\")\n",
        "    print(\"■　** OK **\")\n",
        "    print(\"■　Google SDK との連携に成功しました。\")\n",
        "    print(\"■■■■■■■■■■■■■■■\")\n",
        "\n",
        "except Exception as e:\n",
        "    print(e.message)\n",
        "    print(\"■■■■■■■■■■■■■■■\")\n",
        "    print(\"■　** Error **\")\n",
        "    print(\"■　Google SDK との連携に失敗しました。\")\n",
        "    print(\"■　このノートブックを作者に共有してください。\")\n",
        "    print(\"■■■■■■■■■■■■■■■\")\n",
        "    raise IpyExit\n",
        "\n",
        "# ----------------------------------\n",
        "\n",
        "# セル終了\n",
        "finish_cell(ckey)"
      ],
      "metadata": {
        "id": "P51Ag4QigW1q",
        "colab": {
          "base_uri": "https://localhost:8080/",
          "height": 273
        },
        "outputId": "b45d9dfc-fcb4-42ba-ff59-b31f70d0170e"
      },
      "execution_count": 4,
      "outputs": [
        {
          "output_type": "display_data",
          "data": {
            "text/plain": [
              "<IPython.lib.display.Audio object>"
            ],
            "text/html": [
              "\n",
              "                <audio  controls=\"controls\" autoplay=\"autoplay\">\n",
              "                    <source src=\"data:audio/mpeg;base64,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\" type=\"audio/mpeg\" />\n",
              "                    Your browser does not support the audio element.\n",
              "                </audio>\n",
              "              "
            ]
          },
          "metadata": {}
        },
        {
          "output_type": "stream",
          "name": "stdout",
          "text": [
            "■■■■■■■■■■■■■■■\n",
            "■　** OK **\n",
            "■　Google SDK との連携に成功しました。\n",
            "■■■■■■■■■■■■■■■\n"
          ]
        },
        {
          "output_type": "display_data",
          "data": {
            "text/plain": [
              "<IPython.lib.display.Audio object>"
            ],
            "text/html": [
              "\n",
              "                <audio  controls=\"controls\" autoplay=\"autoplay\">\n",
              "                    <source src=\"data:audio/mpeg;base64,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\" type=\"audio/mpeg\" />\n",
              "                    Your browser does not support the audio element.\n",
              "                </audio>\n",
              "              "
            ]
          },
          "metadata": {}
        },
        {
          "output_type": "stream",
          "name": "stdout",
          "text": [
            "■■■■■■■■■■■■■■■\n",
            "■　** OK **\n",
            "■　セル【①-D】の実行に成功しました。\n",
            "■■■■■■■■■■■■■■■\n"
          ]
        }
      ]
    },
    {
      "cell_type": "markdown",
      "source": [
        "## ①-E　コードセットアップ\n",
        "\n",
        "MMD自動トレースのコードを構築します\n",
        "\n",
        "下の【①-E】のセルを実行して下さい\n",
        "\n",
        "たくさんメッセージが出て、セル内の処理完了まで15分くらいかかります\n",
        "\n",
        "**途中でコンパイルが走るので、動かなくなったように見える箇所があります**\n",
        "\n",
        "**ビックリしたり心配になって、セルを中断しないようお願いします。そのまま待っていれば終わります**\n",
        "\n",
        "`ERROR` という文字列が出る場合もありますが、自動トレースを実行するには問題ないエラーの可能性が高いので、一旦無視してそのまま進めて下さい"
      ],
      "metadata": {
        "id": "8hXO0YvKhLa_"
      }
    },
    {
      "cell_type": "code",
      "source": [
        "#@markdown ■■■■■■■■■■■■■■■■■■\n",
        "\n",
        "#@markdown 【①-E】　コードセットアップ\n",
        "\n",
        "#@markdown ■■■■■■■■■■■■■■■■■■\n",
        "\n",
        "# セル実行可否\n",
        "ckey = \"①-E\"\n",
        "check_exec_dict(ckey)\n",
        "\n",
        "# ----------------------------\n",
        "\n",
        "# 既存ディレクトリの削除  ---------\n",
        "! rm -r mmd-auto-trace-4\n",
        "\n",
        "# # 環境変数設定  ---------\n",
        "# ! DEBIAN_FRONTEND=noninteractive\n",
        "# ! apt-get update && apt-get install -y  -o Dpkg::Options::=\"--force-confdef\" -o Dpkg::Options::=\"--force-confold\" keyboard-configuration\n",
        "\n",
        "# # ライブラリの追加 ---------\n",
        "# ! sudo apt install libosmesa6-dev build-essential libgl1-mesa-dev libglu1-mesa-dev freeglut3-dev gcc libyaml-dev gcc\n",
        "\n",
        "# # CUDA 11.7 のインストール ---------\n",
        "\n",
        "# ! wget https://developer.download.nvidia.com/compute/cuda/repos/ubuntu2204/x86_64/cuda-ubuntu2204.pin\n",
        "# ! sudo mv cuda-ubuntu2204.pin /etc/apt/preferences.d/cuda-repository-pin-600\n",
        "# ! wget https://developer.download.nvidia.com/compute/cuda/11.7.0/local_installers/cuda-repo-ubuntu2204-11-7-local_11.7.0-515.43.04-1_amd64.deb\n",
        "# ! sudo dpkg -i cuda-repo-ubuntu2204-11-7-local_11.7.0-515.43.04-1_amd64.deb\n",
        "# ! sudo cp /var/cuda-repo-ubuntu2204-11-7-local/cuda-*-keyring.gpg /usr/share/keyrings/\n",
        "# ! sudo apt-get update\n",
        "# !apt-get -y install cuda-11-7\n",
        "\n",
        "# # CUDAのPATHを変更 ---------\n",
        "\n",
        "# ! !ls -d /usr/local/cuda-*\n",
        "\n",
        "# import os\n",
        "# p = os.getenv('PATH')\n",
        "# ld = os.getenv('LD_LIBRARY_PATH')\n",
        "# os.environ['PATH'] = f\"/usr/local/cuda-11.7/bin:{p}\"\n",
        "# os.environ['LD_LIBRARY_PATH'] = f\"/usr/local/cuda-11.7/lib64:{ld}\"\n",
        "\n",
        "# 再確認ログ ---------\n",
        "! nvcc --version\n",
        "\n",
        "# MMD自動トレースv4 clone  ---------\n",
        "version_tag = \"v4.0.5\"\n",
        "# version_tag = \"main\"\n",
        "\n",
        "! git clone  --recursive --depth 1 -b \"$version_tag\" \"https://github.com/miu200521358/mmd-auto-trace-4.git\"\n",
        "\n",
        "# pip のインストール\n",
        "!curl -sS https://bootstrap.pypa.io/get-pip.py | python3.10\n",
        "\n",
        "# # PyTorchのインストール ---------\n",
        "! python3.10 -m pip install torch==2.4.0 torchvision==0.19.0 torchaudio==2.4.0 --index-url https://download.pytorch.org/whl/cu124\n",
        "! python3.10 -m pip install -r /content/mmd-auto-trace-4/requirements.txt\n",
        "\n",
        "# ----------------------------\n",
        "\n",
        "# セル終了\n",
        "finish_cell(ckey)"
      ],
      "metadata": {
        "id": "Wm_DfN5bhaCl",
        "colab": {
          "base_uri": "https://localhost:8080/",
          "height": 1000
        },
        "outputId": "c8c5edd6-ca46-4442-fb92-45fafe182d2a"
      },
      "execution_count": 5,
      "outputs": [
        {
          "output_type": "display_data",
          "data": {
            "text/plain": [
              "<IPython.lib.display.Audio object>"
            ],
            "text/html": [
              "\n",
              "                <audio  controls=\"controls\" autoplay=\"autoplay\">\n",
              "                    <source src=\"data:audio/mpeg;base64,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\" type=\"audio/mpeg\" />\n",
              "                    Your browser does not support the audio element.\n",
              "                </audio>\n",
              "              "
            ]
          },
          "metadata": {}
        },
        {
          "output_type": "stream",
          "name": "stdout",
          "text": [
            "rm: cannot remove 'mmd-auto-trace-4': No such file or directory\n",
            "nvcc: NVIDIA (R) Cuda compiler driver\n",
            "Copyright (c) 2005-2024 NVIDIA Corporation\n",
            "Built on Thu_Jun__6_02:18:23_PDT_2024\n",
            "Cuda compilation tools, release 12.5, V12.5.82\n",
            "Build cuda_12.5.r12.5/compiler.34385749_0\n",
            "Cloning into 'mmd-auto-trace-4'...\n",
            "remote: Enumerating objects: 122, done.\u001b[K\n",
            "remote: Counting objects: 100% (122/122), done.\u001b[K\n",
            "remote: Compressing objects: 100% (104/104), done.\u001b[K\n",
            "remote: Total 122 (delta 20), reused 81 (delta 12), pack-reused 0 (from 0)\u001b[K\n",
            "Receiving objects: 100% (122/122), 15.26 MiB | 15.40 MiB/s, done.\n",
            "Resolving deltas: 100% (20/20), done.\n",
            "Note: switching to '7aac3214184d46638bf5e52b2ccd5c9563ebcaee'.\n",
            "\n",
            "You are in 'detached HEAD' state. You can look around, make experimental\n",
            "changes and commit them, and you can discard any commits you make in this\n",
            "state without impacting any branches by switching back to a branch.\n",
            "\n",
            "If you want to create a new branch to retain commits you create, you may\n",
            "do so (now or later) by using -c with the switch command. Example:\n",
            "\n",
            "  git switch -c <new-branch-name>\n",
            "\n",
            "Or undo this operation with:\n",
            "\n",
            "  git switch -\n",
            "\n",
            "Turn off this advice by setting config variable advice.detachedHead to false\n",
            "\n",
            "Collecting pip\n",
            "  Downloading pip-25.1.1-py3-none-any.whl.metadata (3.6 kB)\n",
            "Collecting setuptools\n",
            "  Downloading setuptools-80.9.0-py3-none-any.whl.metadata (6.6 kB)\n",
            "Collecting wheel\n",
            "  Downloading wheel-0.45.1-py3-none-any.whl.metadata (2.3 kB)\n",
            "Downloading pip-25.1.1-py3-none-any.whl (1.8 MB)\n",
            "\u001b[2K   \u001b[90m━━━━━━━━━━━━━━━━━━━━━━━━━━━━━━━━━━━━━━━━\u001b[0m \u001b[32m1.8/1.8 MB\u001b[0m \u001b[31m4.8 MB/s\u001b[0m eta \u001b[36m0:00:00\u001b[0m\n",
            "\u001b[?25hDownloading setuptools-80.9.0-py3-none-any.whl (1.2 MB)\n",
            "\u001b[2K   \u001b[90m━━━━━━━━━━━━━━━━━━━━━━━━━━━━━━━━━━━━━━━━\u001b[0m \u001b[32m1.2/1.2 MB\u001b[0m \u001b[31m23.8 MB/s\u001b[0m eta \u001b[36m0:00:00\u001b[0m\n",
            "\u001b[?25hDownloading wheel-0.45.1-py3-none-any.whl (72 kB)\n",
            "Installing collected packages: wheel, setuptools, pip\n",
            "\u001b[2K   \u001b[90m━━━━━━━━━━━━━━━━━━━━━━━━━━━━━━━━━━━━━━━━\u001b[0m \u001b[32m3/3\u001b[0m [pip]\n",
            "\u001b[1A\u001b[2KSuccessfully installed pip-25.1.1 setuptools-80.9.0 wheel-0.45.1\n",
            "Looking in indexes: https://download.pytorch.org/whl/cu124\n",
            "Collecting torch==2.4.0\n",
            "  Downloading https://download.pytorch.org/whl/cu124/torch-2.4.0%2Bcu124-cp310-cp310-linux_x86_64.whl (797.3 MB)\n",
            "\u001b[2K     \u001b[90m━━━━━━━━━━━━━━━━━━━━━━━━━━━━━━━━━━━━━━\u001b[0m \u001b[32m797.3/797.3 MB\u001b[0m \u001b[31m16.5 MB/s\u001b[0m eta \u001b[36m0:00:00\u001b[0m\n",
            "\u001b[?25hCollecting torchvision==0.19.0\n",
            "  Downloading https://download.pytorch.org/whl/cu124/torchvision-0.19.0%2Bcu124-cp310-cp310-linux_x86_64.whl (7.1 MB)\n",
            "\u001b[2K     \u001b[90m━━━━━━━━━━━━━━━━━━━━━━━━━━━━━━━━━━━━━━━━\u001b[0m \u001b[32m7.1/7.1 MB\u001b[0m \u001b[31m110.5 MB/s\u001b[0m eta \u001b[36m0:00:00\u001b[0m\n",
            "\u001b[?25hCollecting torchaudio==2.4.0\n",
            "  Downloading https://download.pytorch.org/whl/cu124/torchaudio-2.4.0%2Bcu124-cp310-cp310-linux_x86_64.whl (3.4 MB)\n",
            "\u001b[2K     \u001b[90m━━━━━━━━━━━━━━━━━━━━━━━━━━━━━━━━━━━━━━━━\u001b[0m \u001b[32m3.4/3.4 MB\u001b[0m \u001b[31m116.8 MB/s\u001b[0m eta \u001b[36m0:00:00\u001b[0m\n",
            "\u001b[?25hCollecting filelock (from torch==2.4.0)\n",
            "  Downloading https://download.pytorch.org/whl/filelock-3.13.1-py3-none-any.whl.metadata (2.8 kB)\n",
            "Collecting typing-extensions>=4.8.0 (from torch==2.4.0)\n",
            "  Downloading https://download.pytorch.org/whl/typing_extensions-4.12.2-py3-none-any.whl.metadata (3.0 kB)\n",
            "Collecting sympy (from torch==2.4.0)\n",
            "  Downloading https://download.pytorch.org/whl/sympy-1.13.3-py3-none-any.whl.metadata (12 kB)\n",
            "Collecting networkx (from torch==2.4.0)\n",
            "  Downloading https://download.pytorch.org/whl/networkx-3.3-py3-none-any.whl.metadata (5.1 kB)\n",
            "Collecting jinja2 (from torch==2.4.0)\n",
            "  Downloading https://download.pytorch.org/whl/Jinja2-3.1.4-py3-none-any.whl.metadata (2.6 kB)\n",
            "Collecting fsspec (from torch==2.4.0)\n",
            "  Downloading https://download.pytorch.org/whl/fsspec-2024.6.1-py3-none-any.whl.metadata (11 kB)\n",
            "Collecting nvidia-cuda-nvrtc-cu12==12.4.99 (from torch==2.4.0)\n",
            "  Downloading https://download.pytorch.org/whl/cu124/nvidia_cuda_nvrtc_cu12-12.4.99-py3-none-manylinux2014_x86_64.whl (24.7 MB)\n",
            "\u001b[2K     \u001b[90m━━━━━━━━━━━━━━━━━━━━━━━━━━━━━━━━━━━━━━━\u001b[0m \u001b[32m24.7/24.7 MB\u001b[0m \u001b[31m186.1 MB/s\u001b[0m eta \u001b[36m0:00:00\u001b[0m\n",
            "\u001b[?25hCollecting nvidia-cuda-runtime-cu12==12.4.99 (from torch==2.4.0)\n",
            "  Downloading https://download.pytorch.org/whl/cu124/nvidia_cuda_runtime_cu12-12.4.99-py3-none-manylinux2014_x86_64.whl (883 kB)\n",
            "\u001b[2K     \u001b[90m━━━━━━━━━━━━━━━━━━━━━━━━━━━━━━━━━━━━━━\u001b[0m \u001b[32m883.4/883.4 kB\u001b[0m \u001b[31m41.8 MB/s\u001b[0m eta \u001b[36m0:00:00\u001b[0m\n",
            "\u001b[?25hCollecting nvidia-cuda-cupti-cu12==12.4.99 (from torch==2.4.0)\n",
            "  Downloading https://download.pytorch.org/whl/cu124/nvidia_cuda_cupti_cu12-12.4.99-py3-none-manylinux2014_x86_64.whl (13.8 MB)\n",
            "\u001b[2K     \u001b[90m━━━━━━━━━━━━━━━━━━━━━━━━━━━━━━━━━━━━━━━\u001b[0m \u001b[32m13.8/13.8 MB\u001b[0m \u001b[31m180.7 MB/s\u001b[0m eta \u001b[36m0:00:00\u001b[0m\n",
            "\u001b[?25hCollecting nvidia-cudnn-cu12==9.1.0.70 (from torch==2.4.0)\n",
            "  Downloading https://download.pytorch.org/whl/cu124/nvidia_cudnn_cu12-9.1.0.70-py3-none-manylinux2014_x86_64.whl (664.8 MB)\n",
            "\u001b[2K     \u001b[90m━━━━━━━━━━━━━━━━━━━━━━━━━━━━━━━━━━━━━━\u001b[0m \u001b[32m664.8/664.8 MB\u001b[0m \u001b[31m38.8 MB/s\u001b[0m eta \u001b[36m0:00:00\u001b[0m\n",
            "\u001b[?25hCollecting nvidia-cublas-cu12==12.4.2.65 (from torch==2.4.0)\n",
            "  Downloading https://download.pytorch.org/whl/cu124/nvidia_cublas_cu12-12.4.2.65-py3-none-manylinux2014_x86_64.whl (363.0 MB)\n",
            "\u001b[2K     \u001b[90m━━━━━━━━━━━━━━━━━━━━━━━━━━━━━━━━━━━━━━\u001b[0m \u001b[32m363.0/363.0 MB\u001b[0m \u001b[31m37.6 MB/s\u001b[0m eta \u001b[36m0:00:00\u001b[0m\n",
            "\u001b[?25hCollecting nvidia-cufft-cu12==11.2.0.44 (from torch==2.4.0)\n",
            "  Downloading https://download.pytorch.org/whl/cu124/nvidia_cufft_cu12-11.2.0.44-py3-none-manylinux2014_x86_64.whl (211.5 MB)\n",
            "\u001b[2K     \u001b[90m━━━━━━━━━━━━━━━━━━━━━━━━━━━━━━━━━━━━━━\u001b[0m \u001b[32m211.5/211.5 MB\u001b[0m \u001b[31m73.8 MB/s\u001b[0m eta \u001b[36m0:00:00\u001b[0m\n",
            "\u001b[?25hCollecting nvidia-curand-cu12==10.3.5.119 (from torch==2.4.0)\n",
            "  Downloading https://download.pytorch.org/whl/cu124/nvidia_curand_cu12-10.3.5.119-py3-none-manylinux2014_x86_64.whl (56.3 MB)\n",
            "\u001b[2K     \u001b[90m━━━━━━━━━━━━━━━━━━━━━━━━━━━━━━━━━━━━━━━━\u001b[0m \u001b[32m56.3/56.3 MB\u001b[0m \u001b[31m63.7 MB/s\u001b[0m eta \u001b[36m0:00:00\u001b[0m\n",
            "\u001b[?25hCollecting nvidia-cusolver-cu12==11.6.0.99 (from torch==2.4.0)\n",
            "  Downloading https://download.pytorch.org/whl/cu124/nvidia_cusolver_cu12-11.6.0.99-py3-none-manylinux2014_x86_64.whl (128.4 MB)\n",
            "\u001b[2K     \u001b[90m━━━━━━━━━━━━━━━━━━━━━━━━━━━━━━━━━━━━━━\u001b[0m \u001b[32m128.4/128.4 MB\u001b[0m \u001b[31m69.0 MB/s\u001b[0m eta \u001b[36m0:00:00\u001b[0m\n",
            "\u001b[?25hCollecting nvidia-cusparse-cu12==12.3.0.142 (from torch==2.4.0)\n",
            "  Downloading https://download.pytorch.org/whl/cu124/nvidia_cusparse_cu12-12.3.0.142-py3-none-manylinux2014_x86_64.whl (207.5 MB)\n",
            "\u001b[2K     \u001b[90m━━━━━━━━━━━━━━━━━━━━━━━━━━━━━━━━━━━━━━\u001b[0m \u001b[32m207.5/207.5 MB\u001b[0m \u001b[31m69.8 MB/s\u001b[0m eta \u001b[36m0:00:00\u001b[0m\n",
            "\u001b[?25hCollecting nvidia-nccl-cu12==2.20.5 (from torch==2.4.0)\n",
            "  Downloading https://download.pytorch.org/whl/cu124/nvidia_nccl_cu12-2.20.5-py3-none-manylinux2014_x86_64.whl (176.2 MB)\n",
            "\u001b[2K     \u001b[90m━━━━━━━━━━━━━━━━━━━━━━━━━━━━━━━━━━━━━━\u001b[0m \u001b[32m176.2/176.2 MB\u001b[0m \u001b[31m70.0 MB/s\u001b[0m eta \u001b[36m0:00:00\u001b[0m\n",
            "\u001b[?25hCollecting nvidia-nvtx-cu12==12.4.99 (from torch==2.4.0)\n",
            "  Downloading https://download.pytorch.org/whl/cu124/nvidia_nvtx_cu12-12.4.99-py3-none-manylinux2014_x86_64.whl (99 kB)\n",
            "Collecting nvidia-nvjitlink-cu12==12.4.99 (from torch==2.4.0)\n",
            "  Downloading https://download.pytorch.org/whl/cu124/nvidia_nvjitlink_cu12-12.4.99-py3-none-manylinux2014_x86_64.whl (21.1 MB)\n",
            "\u001b[2K     \u001b[90m━━━━━━━━━━━━━━━━━━━━━━━━━━━━━━━━━━━━━━━\u001b[0m \u001b[32m21.1/21.1 MB\u001b[0m \u001b[31m184.5 MB/s\u001b[0m eta \u001b[36m0:00:00\u001b[0m\n",
            "\u001b[?25hCollecting triton==3.0.0 (from torch==2.4.0)\n",
            "  Downloading https://download.pytorch.org/whl/triton-3.0.0-1-cp310-cp310-manylinux2014_x86_64.manylinux_2_17_x86_64.whl (209.4 MB)\n",
            "\u001b[2K     \u001b[90m━━━━━━━━━━━━━━━━━━━━━━━━━━━━━━━━━━━━━━\u001b[0m \u001b[32m209.4/209.4 MB\u001b[0m \u001b[31m51.1 MB/s\u001b[0m eta \u001b[36m0:00:00\u001b[0m\n",
            "\u001b[?25hCollecting numpy (from torchvision==0.19.0)\n",
            "  Downloading https://download.pytorch.org/whl/numpy-2.1.2-cp310-cp310-manylinux_2_17_x86_64.manylinux2014_x86_64.whl.metadata (60 kB)\n",
            "Collecting pillow!=8.3.*,>=5.3.0 (from torchvision==0.19.0)\n",
            "  Downloading https://download.pytorch.org/whl/pillow-11.0.0-cp310-cp310-manylinux_2_28_x86_64.whl.metadata (9.1 kB)\n",
            "Requirement already satisfied: MarkupSafe>=2.0 in /usr/lib/python3/dist-packages (from jinja2->torch==2.4.0) (2.0.1)\n",
            "Collecting mpmath<1.4,>=1.1.0 (from sympy->torch==2.4.0)\n",
            "  Downloading https://download.pytorch.org/whl/mpmath-1.3.0-py3-none-any.whl (536 kB)\n",
            "\u001b[2K     \u001b[90m━━━━━━━━━━━━━━━━━━━━━━━━━━━━━━━━━━━━━━\u001b[0m \u001b[32m536.2/536.2 kB\u001b[0m \u001b[31m21.1 MB/s\u001b[0m eta \u001b[36m0:00:00\u001b[0m\n",
            "\u001b[?25hDownloading https://download.pytorch.org/whl/pillow-11.0.0-cp310-cp310-manylinux_2_28_x86_64.whl (4.4 MB)\n",
            "\u001b[2K   \u001b[90m━━━━━━━━━━━━━━━━━━━━━━━━━━━━━━━━━━━━━━━━\u001b[0m \u001b[32m4.4/4.4 MB\u001b[0m \u001b[31m106.8 MB/s\u001b[0m eta \u001b[36m0:00:00\u001b[0m\n",
            "\u001b[?25hDownloading https://download.pytorch.org/whl/typing_extensions-4.12.2-py3-none-any.whl (37 kB)\n",
            "Downloading https://download.pytorch.org/whl/filelock-3.13.1-py3-none-any.whl (11 kB)\n",
            "Downloading https://download.pytorch.org/whl/fsspec-2024.6.1-py3-none-any.whl (177 kB)\n",
            "Downloading https://download.pytorch.org/whl/Jinja2-3.1.4-py3-none-any.whl (133 kB)\n",
            "Downloading https://download.pytorch.org/whl/networkx-3.3-py3-none-any.whl (1.7 MB)\n",
            "\u001b[2K   \u001b[90m━━━━━━━━━━━━━━━━━━━━━━━━━━━━━━━━━━━━━━━━\u001b[0m \u001b[32m1.7/1.7 MB\u001b[0m \u001b[31m74.6 MB/s\u001b[0m eta \u001b[36m0:00:00\u001b[0m\n",
            "\u001b[?25hDownloading https://download.pytorch.org/whl/numpy-2.1.2-cp310-cp310-manylinux_2_17_x86_64.manylinux2014_x86_64.whl (16.3 MB)\n",
            "\u001b[2K   \u001b[90m━━━━━━━━━━━━━━━━━━━━━━━━━━━━━━━━━━━━━━━━\u001b[0m \u001b[32m16.3/16.3 MB\u001b[0m \u001b[31m154.9 MB/s\u001b[0m eta \u001b[36m0:00:00\u001b[0m\n",
            "\u001b[?25hDownloading https://download.pytorch.org/whl/sympy-1.13.3-py3-none-any.whl (6.2 MB)\n",
            "\u001b[2K   \u001b[90m━━━━━━━━━━━━━━━━━━━━━━━━━━━━━━━━━━━━━━━━\u001b[0m \u001b[32m6.2/6.2 MB\u001b[0m \u001b[31m128.2 MB/s\u001b[0m eta \u001b[36m0:00:00\u001b[0m\n",
            "\u001b[?25hInstalling collected packages: mpmath, typing-extensions, sympy, pillow, nvidia-nvtx-cu12, nvidia-nvjitlink-cu12, nvidia-nccl-cu12, nvidia-curand-cu12, nvidia-cufft-cu12, nvidia-cuda-runtime-cu12, nvidia-cuda-nvrtc-cu12, nvidia-cuda-cupti-cu12, nvidia-cublas-cu12, numpy, networkx, jinja2, fsspec, filelock, triton, nvidia-cusparse-cu12, nvidia-cudnn-cu12, nvidia-cusolver-cu12, torch, torchvision, torchaudio\n",
            "\u001b[2K   \u001b[90m━━━━━━━━━━━━━━━━━━━━━━━━━━━━━━━━━━━━━━━━\u001b[0m \u001b[32m25/25\u001b[0m [torchaudio]\n",
            "\u001b[1A\u001b[2KSuccessfully installed filelock-3.13.1 fsspec-2024.6.1 jinja2-3.1.4 mpmath-1.3.0 networkx-3.3 numpy-2.1.2 nvidia-cublas-cu12-12.4.2.65 nvidia-cuda-cupti-cu12-12.4.99 nvidia-cuda-nvrtc-cu12-12.4.99 nvidia-cuda-runtime-cu12-12.4.99 nvidia-cudnn-cu12-9.1.0.70 nvidia-cufft-cu12-11.2.0.44 nvidia-curand-cu12-10.3.5.119 nvidia-cusolver-cu12-11.6.0.99 nvidia-cusparse-cu12-12.3.0.142 nvidia-nccl-cu12-2.20.5 nvidia-nvjitlink-cu12-12.4.99 nvidia-nvtx-cu12-12.4.99 pillow-11.0.0 sympy-1.13.3 torch-2.4.0+cu124 torchaudio-2.4.0+cu124 torchvision-0.19.0+cu124 triton-3.0.0 typing-extensions-4.12.2\n",
            "Collecting git+https://github.com/miu200521358/PHALP.git (from -r /content/mmd-auto-trace-4/requirements.txt (line 20))\n",
            "  Cloning https://github.com/miu200521358/PHALP.git to /tmp/pip-req-build-2_4ektpz\n",
            "  Running command git clone --filter=blob:none --quiet https://github.com/miu200521358/PHALP.git /tmp/pip-req-build-2_4ektpz\n",
            "  Resolved https://github.com/miu200521358/PHALP.git to commit 42c3181065561939189bd0022c437ac2c4f23393\n",
            "  Preparing metadata (setup.py) ... \u001b[?25l\u001b[?25hdone\n",
            "Collecting git+https://github.com/mattloper/chumpy (from -r /content/mmd-auto-trace-4/requirements.txt (line 21))\n",
            "  Cloning https://github.com/mattloper/chumpy to /tmp/pip-req-build-gm_69h21\n",
            "  Running command git clone --filter=blob:none --quiet https://github.com/mattloper/chumpy /tmp/pip-req-build-gm_69h21\n",
            "  Resolved https://github.com/mattloper/chumpy to commit 51d5afd92a8ded3637553be8cef41f328a1c863a\n",
            "  Preparing metadata (setup.py) ... \u001b[?25l\u001b[?25hdone\n",
            "Collecting git+https://github.com/miu200521358/4D-Humans.git (from -r /content/mmd-auto-trace-4/requirements.txt (line 22))\n",
            "  Cloning https://github.com/miu200521358/4D-Humans.git to /tmp/pip-req-build-oz_xkrmv\n",
            "  Running command git clone --filter=blob:none --quiet https://github.com/miu200521358/4D-Humans.git /tmp/pip-req-build-oz_xkrmv\n",
            "  Resolved https://github.com/miu200521358/4D-Humans.git to commit 740107e0dd9455c270848e4c3cc1bfcb462cdd58\n",
            "  Preparing metadata (setup.py) ... \u001b[?25l\u001b[?25hdone\n",
            "Collecting webdataset==0.2.86 (from -r /content/mmd-auto-trace-4/requirements.txt (line 2))\n",
            "  Downloading webdataset-0.2.86-py3-none-any.whl.metadata (29 kB)\n",
            "Collecting numpy==1.26.4 (from -r /content/mmd-auto-trace-4/requirements.txt (line 3))\n",
            "  Downloading numpy-1.26.4-cp310-cp310-manylinux_2_17_x86_64.manylinux2014_x86_64.whl.metadata (61 kB)\n",
            "Collecting matplotlib==3.8.4 (from -r /content/mmd-auto-trace-4/requirements.txt (line 4))\n",
            "  Downloading matplotlib-3.8.4-cp310-cp310-manylinux_2_17_x86_64.manylinux2014_x86_64.whl.metadata (5.8 kB)\n",
            "Collecting torchmetrics==1.3.2 (from -r /content/mmd-auto-trace-4/requirements.txt (line 5))\n",
            "  Downloading torchmetrics-1.3.2-py3-none-any.whl.metadata (19 kB)\n",
            "Collecting lightning-utilities==0.11.2 (from -r /content/mmd-auto-trace-4/requirements.txt (line 6))\n",
            "  Downloading lightning_utilities-0.11.2-py3-none-any.whl.metadata (4.7 kB)\n",
            "Collecting pytorch-lightning==2.4.0 (from -r /content/mmd-auto-trace-4/requirements.txt (line 7))\n",
            "  Downloading pytorch_lightning-2.4.0-py3-none-any.whl.metadata (21 kB)\n",
            "Collecting smplx==0.1.28 (from -r /content/mmd-auto-trace-4/requirements.txt (line 8))\n",
            "  Downloading smplx-0.1.28-py3-none-any.whl.metadata (10 kB)\n",
            "Collecting pyrender==0.1.45 (from -r /content/mmd-auto-trace-4/requirements.txt (line 9))\n",
            "  Downloading pyrender-0.1.45-py3-none-any.whl.metadata (1.5 kB)\n",
            "Collecting opencv-python (from -r /content/mmd-auto-trace-4/requirements.txt (line 10))\n",
            "  Downloading opencv_python-4.11.0.86-cp37-abi3-manylinux_2_17_x86_64.manylinux2014_x86_64.whl.metadata (20 kB)\n",
            "Collecting yacs==0.1.8 (from -r /content/mmd-auto-trace-4/requirements.txt (line 11))\n",
            "  Downloading yacs-0.1.8-py3-none-any.whl.metadata (639 bytes)\n",
            "Collecting scikit-image==0.23.1 (from -r /content/mmd-auto-trace-4/requirements.txt (line 12))\n",
            "  Downloading scikit_image-0.23.1-cp310-cp310-manylinux_2_17_x86_64.manylinux2014_x86_64.whl.metadata (14 kB)\n",
            "Collecting einops==0.8.0 (from -r /content/mmd-auto-trace-4/requirements.txt (line 13))\n",
            "  Downloading einops-0.8.0-py3-none-any.whl.metadata (12 kB)\n",
            "Collecting timm==1.0.3 (from -r /content/mmd-auto-trace-4/requirements.txt (line 14))\n",
            "  Downloading timm-1.0.3-py3-none-any.whl.metadata (43 kB)\n",
            "Collecting dill==0.3.9 (from -r /content/mmd-auto-trace-4/requirements.txt (line 15))\n",
            "  Downloading dill-0.3.9-py3-none-any.whl.metadata (10 kB)\n",
            "Collecting pandas==2.2.3 (from -r /content/mmd-auto-trace-4/requirements.txt (line 16))\n",
            "  Downloading pandas-2.2.3-cp310-cp310-manylinux_2_17_x86_64.manylinux2014_x86_64.whl.metadata (89 kB)\n",
            "Collecting PyOpenGL-accelerate==3.1.7 (from -r /content/mmd-auto-trace-4/requirements.txt (line 17))\n",
            "  Downloading PyOpenGL_accelerate-3.1.7-cp310-cp310-manylinux_2_5_x86_64.manylinux1_x86_64.manylinux_2_17_x86_64.manylinux2014_x86_64.whl.metadata (789 bytes)\n",
            "Collecting hydra-core==1.3.2 (from -r /content/mmd-auto-trace-4/requirements.txt (line 18))\n",
            "  Downloading hydra_core-1.3.2-py3-none-any.whl.metadata (5.5 kB)\n",
            "Collecting protobuf==4.21.6 (from -r /content/mmd-auto-trace-4/requirements.txt (line 19))\n",
            "  Downloading protobuf-4.21.6-cp37-abi3-manylinux2014_x86_64.whl.metadata (540 bytes)\n",
            "Collecting Babel==2.13.1 (from -r /content/mmd-auto-trace-4/requirements.txt (line 25))\n",
            "  Downloading Babel-2.13.1-py3-none-any.whl.metadata (1.6 kB)\n",
            "Collecting pykalman==0.9.7 (from -r /content/mmd-auto-trace-4/requirements.txt (line 26))\n",
            "  Downloading pykalman-0.9.7-py2.py3-none-any.whl.metadata (5.5 kB)\n",
            "Collecting joblib (from phalp==0.1.3->-r /content/mmd-auto-trace-4/requirements.txt (line 20))\n",
            "  Downloading joblib-1.5.1-py3-none-any.whl.metadata (5.6 kB)\n",
            "Collecting scikit-learn (from phalp==0.1.3->-r /content/mmd-auto-trace-4/requirements.txt (line 20))\n",
            "  Downloading scikit_learn-1.7.0-cp310-cp310-manylinux_2_17_x86_64.manylinux2014_x86_64.whl.metadata (17 kB)\n",
            "Collecting rich (from phalp==0.1.3->-r /content/mmd-auto-trace-4/requirements.txt (line 20))\n",
            "  Downloading rich-14.0.0-py3-none-any.whl.metadata (18 kB)\n",
            "Collecting scenedetect[opencv] (from phalp==0.1.3->-r /content/mmd-auto-trace-4/requirements.txt (line 20))\n",
            "  Downloading scenedetect-0.6.6-py3-none-any.whl.metadata (4.0 kB)\n",
            "Collecting av (from phalp==0.1.3->-r /content/mmd-auto-trace-4/requirements.txt (line 20))\n",
            "  Downloading av-14.4.0-cp310-cp310-manylinux_2_17_x86_64.manylinux2014_x86_64.whl.metadata (4.6 kB)\n",
            "Collecting detectron2@ git+https://github.com/facebookresearch/detectron2.git (from phalp==0.1.3->-r /content/mmd-auto-trace-4/requirements.txt (line 20))\n",
            "  Cloning https://github.com/facebookresearch/detectron2.git to /tmp/pip-install-tdmkf_60/detectron2_d4788ca0b1b748409dfae0863e7c7c64\n",
            "  Running command git clone --filter=blob:none --quiet https://github.com/facebookresearch/detectron2.git /tmp/pip-install-tdmkf_60/detectron2_d4788ca0b1b748409dfae0863e7c7c64\n",
            "  Resolved https://github.com/facebookresearch/detectron2.git to commit 65184fc057d4fab080a98564f6b60fae0b94edc4\n",
            "  Preparing metadata (setup.py) ... \u001b[?25l\u001b[?25hdone\n",
            "Collecting pytube@ git+https://github.com/pytube/pytube.git (from phalp==0.1.3->-r /content/mmd-auto-trace-4/requirements.txt (line 20))\n",
            "  Cloning https://github.com/pytube/pytube.git to /tmp/pip-install-tdmkf_60/pytube_1d35df7181a34544b4ad824eb065dec6\n",
            "  Running command git clone --filter=blob:none --quiet https://github.com/pytube/pytube.git /tmp/pip-install-tdmkf_60/pytube_1d35df7181a34544b4ad824eb065dec6\n",
            "  Resolved https://github.com/pytube/pytube.git to commit a32fff39058a6f7e5e59ecd06a7467b71197ce35\n",
            "  Preparing metadata (setup.py) ... \u001b[?25l\u001b[?25hdone\n",
            "Collecting pyopengl@ git+https://github.com/mmatl/pyopengl.git (from phalp==0.1.3->-r /content/mmd-auto-trace-4/requirements.txt (line 20))\n",
            "  Cloning https://github.com/mmatl/pyopengl.git to /tmp/pip-install-tdmkf_60/pyopengl_932c4e6a79f34642b10e3b471afc938b\n",
            "  Running command git clone --filter=blob:none --quiet https://github.com/mmatl/pyopengl.git /tmp/pip-install-tdmkf_60/pyopengl_932c4e6a79f34642b10e3b471afc938b\n",
            "  Resolved https://github.com/mmatl/pyopengl.git to commit 76d1261adee2d3fd99b418e75b0416bb7d2865e6\n",
            "  Preparing metadata (setup.py) ... \u001b[?25l\u001b[?25hdone\n",
            "Collecting neural-renderer-pytorch@ git+https://github.com/shubham-goel/NMR.git (from phalp==0.1.3->-r /content/mmd-auto-trace-4/requirements.txt (line 20))\n",
            "  Cloning https://github.com/shubham-goel/NMR.git to /tmp/pip-install-tdmkf_60/neural-renderer-pytorch_b86e5f9308a7401d8bbe1071c9ff2dc9\n",
            "  Running command git clone --filter=blob:none --quiet https://github.com/shubham-goel/NMR.git /tmp/pip-install-tdmkf_60/neural-renderer-pytorch_b86e5f9308a7401d8bbe1071c9ff2dc9\n",
            "  Resolved https://github.com/shubham-goel/NMR.git to commit e990b3c70f48d39231f607c79d76ce3db4bf7483\n",
            "  Preparing metadata (setup.py) ... \u001b[?25l\u001b[?25hdone\n",
            "Collecting scipy>=0.13.0 (from chumpy==0.71->-r /content/mmd-auto-trace-4/requirements.txt (line 21))\n",
            "  Downloading scipy-1.15.3-cp310-cp310-manylinux_2_17_x86_64.manylinux2014_x86_64.whl.metadata (61 kB)\n",
            "Requirement already satisfied: six>=1.11.0 in /usr/lib/python3/dist-packages (from chumpy==0.71->-r /content/mmd-auto-trace-4/requirements.txt (line 21)) (1.16.0)\n",
            "Collecting gdown (from hmr2==0.0.0->-r /content/mmd-auto-trace-4/requirements.txt (line 22))\n",
            "  Downloading gdown-5.2.0-py3-none-any.whl.metadata (5.8 kB)\n",
            "Requirement already satisfied: torch in /usr/local/lib/python3.10/dist-packages (from hmr2==0.0.0->-r /content/mmd-auto-trace-4/requirements.txt (line 22)) (2.4.0+cu124)\n",
            "Requirement already satisfied: torchvision in /usr/local/lib/python3.10/dist-packages (from hmr2==0.0.0->-r /content/mmd-auto-trace-4/requirements.txt (line 22)) (0.19.0+cu124)\n",
            "Requirement already satisfied: Pillow>=7.1 in /usr/local/lib/python3.10/dist-packages (from detectron2@ git+https://github.com/facebookresearch/detectron2.git->phalp==0.1.3->-r /content/mmd-auto-trace-4/requirements.txt (line 20)) (11.0.0)\n",
            "Collecting pycocotools>=2.0.2 (from detectron2@ git+https://github.com/facebookresearch/detectron2.git->phalp==0.1.3->-r /content/mmd-auto-trace-4/requirements.txt (line 20))\n",
            "  Downloading pycocotools-2.0.10-cp310-cp310-manylinux_2_17_x86_64.manylinux2014_x86_64.whl.metadata (1.3 kB)\n",
            "Collecting termcolor>=1.1 (from detectron2@ git+https://github.com/facebookresearch/detectron2.git->phalp==0.1.3->-r /content/mmd-auto-trace-4/requirements.txt (line 20))\n",
            "  Downloading termcolor-3.1.0-py3-none-any.whl.metadata (6.4 kB)\n",
            "Collecting tabulate (from detectron2@ git+https://github.com/facebookresearch/detectron2.git->phalp==0.1.3->-r /content/mmd-auto-trace-4/requirements.txt (line 20))\n",
            "  Downloading tabulate-0.9.0-py3-none-any.whl.metadata (34 kB)\n",
            "Collecting cloudpickle (from detectron2@ git+https://github.com/facebookresearch/detectron2.git->phalp==0.1.3->-r /content/mmd-auto-trace-4/requirements.txt (line 20))\n",
            "  Downloading cloudpickle-3.1.1-py3-none-any.whl.metadata (7.1 kB)\n",
            "Collecting tqdm>4.29.0 (from detectron2@ git+https://github.com/facebookresearch/detectron2.git->phalp==0.1.3->-r /content/mmd-auto-trace-4/requirements.txt (line 20))\n",
            "  Downloading tqdm-4.67.1-py3-none-any.whl.metadata (57 kB)\n",
            "Collecting tensorboard (from detectron2@ git+https://github.com/facebookresearch/detectron2.git->phalp==0.1.3->-r /content/mmd-auto-trace-4/requirements.txt (line 20))\n",
            "  Downloading tensorboard-2.19.0-py3-none-any.whl.metadata (1.8 kB)\n",
            "Collecting fvcore<0.1.6,>=0.1.5 (from detectron2@ git+https://github.com/facebookresearch/detectron2.git->phalp==0.1.3->-r /content/mmd-auto-trace-4/requirements.txt (line 20))\n",
            "  Downloading fvcore-0.1.5.post20221221.tar.gz (50 kB)\n",
            "  Preparing metadata (setup.py) ... \u001b[?25l\u001b[?25hdone\n",
            "Collecting iopath<0.1.10,>=0.1.7 (from detectron2@ git+https://github.com/facebookresearch/detectron2.git->phalp==0.1.3->-r /content/mmd-auto-trace-4/requirements.txt (line 20))\n",
            "  Downloading iopath-0.1.9-py3-none-any.whl.metadata (370 bytes)\n",
            "Collecting omegaconf<2.4,>=2.1 (from detectron2@ git+https://github.com/facebookresearch/detectron2.git->phalp==0.1.3->-r /content/mmd-auto-trace-4/requirements.txt (line 20))\n",
            "  Downloading omegaconf-2.3.0-py3-none-any.whl.metadata (3.9 kB)\n",
            "Collecting black (from detectron2@ git+https://github.com/facebookresearch/detectron2.git->phalp==0.1.3->-r /content/mmd-auto-trace-4/requirements.txt (line 20))\n",
            "  Downloading black-25.1.0-cp310-cp310-manylinux_2_17_x86_64.manylinux2014_x86_64.manylinux_2_28_x86_64.whl.metadata (81 kB)\n",
            "Collecting packaging (from detectron2@ git+https://github.com/facebookresearch/detectron2.git->phalp==0.1.3->-r /content/mmd-auto-trace-4/requirements.txt (line 20))\n",
            "  Downloading packaging-25.0-py3-none-any.whl.metadata (3.3 kB)\n",
            "Collecting braceexpand (from webdataset==0.2.86->-r /content/mmd-auto-trace-4/requirements.txt (line 2))\n",
            "  Downloading braceexpand-0.1.7-py2.py3-none-any.whl.metadata (3.0 kB)\n",
            "Collecting pyyaml (from webdataset==0.2.86->-r /content/mmd-auto-trace-4/requirements.txt (line 2))\n",
            "  Downloading PyYAML-6.0.2-cp310-cp310-manylinux_2_17_x86_64.manylinux2014_x86_64.whl.metadata (2.1 kB)\n",
            "Collecting contourpy>=1.0.1 (from matplotlib==3.8.4->-r /content/mmd-auto-trace-4/requirements.txt (line 4))\n",
            "  Downloading contourpy-1.3.2-cp310-cp310-manylinux_2_17_x86_64.manylinux2014_x86_64.whl.metadata (5.5 kB)\n",
            "Collecting cycler>=0.10 (from matplotlib==3.8.4->-r /content/mmd-auto-trace-4/requirements.txt (line 4))\n",
            "  Downloading cycler-0.12.1-py3-none-any.whl.metadata (3.8 kB)\n",
            "Collecting fonttools>=4.22.0 (from matplotlib==3.8.4->-r /content/mmd-auto-trace-4/requirements.txt (line 4))\n",
            "  Downloading fonttools-4.58.4-cp310-cp310-manylinux2014_x86_64.manylinux_2_17_x86_64.whl.metadata (106 kB)\n",
            "Collecting kiwisolver>=1.3.1 (from matplotlib==3.8.4->-r /content/mmd-auto-trace-4/requirements.txt (line 4))\n",
            "  Downloading kiwisolver-1.4.8-cp310-cp310-manylinux_2_12_x86_64.manylinux2010_x86_64.whl.metadata (6.2 kB)\n",
            "Requirement already satisfied: pyparsing>=2.3.1 in /usr/lib/python3/dist-packages (from matplotlib==3.8.4->-r /content/mmd-auto-trace-4/requirements.txt (line 4)) (2.4.7)\n",
            "Collecting python-dateutil>=2.7 (from matplotlib==3.8.4->-r /content/mmd-auto-trace-4/requirements.txt (line 4))\n",
            "  Downloading python_dateutil-2.9.0.post0-py2.py3-none-any.whl.metadata (8.4 kB)\n",
            "Requirement already satisfied: setuptools in /usr/local/lib/python3.10/dist-packages (from lightning-utilities==0.11.2->-r /content/mmd-auto-trace-4/requirements.txt (line 6)) (80.9.0)\n",
            "Requirement already satisfied: typing-extensions in /usr/local/lib/python3.10/dist-packages (from lightning-utilities==0.11.2->-r /content/mmd-auto-trace-4/requirements.txt (line 6)) (4.12.2)\n",
            "Requirement already satisfied: fsspec>=2022.5.0 in /usr/local/lib/python3.10/dist-packages (from fsspec[http]>=2022.5.0->pytorch-lightning==2.4.0->-r /content/mmd-auto-trace-4/requirements.txt (line 7)) (2024.6.1)\n",
            "Collecting freetype-py (from pyrender==0.1.45->-r /content/mmd-auto-trace-4/requirements.txt (line 9))\n",
            "  Downloading freetype_py-2.5.1-py3-none-manylinux_2_5_x86_64.manylinux1_x86_64.manylinux_2_12_x86_64.manylinux2010_x86_64.whl.metadata (6.3 kB)\n",
            "Collecting imageio (from pyrender==0.1.45->-r /content/mmd-auto-trace-4/requirements.txt (line 9))\n",
            "  Downloading imageio-2.37.0-py3-none-any.whl.metadata (5.2 kB)\n",
            "Requirement already satisfied: networkx in /usr/local/lib/python3.10/dist-packages (from pyrender==0.1.45->-r /content/mmd-auto-trace-4/requirements.txt (line 9)) (3.3)\n",
            "Collecting pyglet>=1.4.10 (from pyrender==0.1.45->-r /content/mmd-auto-trace-4/requirements.txt (line 9))\n",
            "  Downloading pyglet-2.1.6-py3-none-any.whl.metadata (7.7 kB)\n",
            "Collecting trimesh (from pyrender==0.1.45->-r /content/mmd-auto-trace-4/requirements.txt (line 9))\n",
            "  Downloading trimesh-4.6.12-py3-none-any.whl.metadata (18 kB)\n",
            "Collecting tifffile>=2022.8.12 (from scikit-image==0.23.1->-r /content/mmd-auto-trace-4/requirements.txt (line 12))\n",
            "  Downloading tifffile-2025.5.10-py3-none-any.whl.metadata (31 kB)\n",
            "Collecting lazy-loader>=0.4 (from scikit-image==0.23.1->-r /content/mmd-auto-trace-4/requirements.txt (line 12))\n",
            "  Downloading lazy_loader-0.4-py3-none-any.whl.metadata (7.6 kB)\n",
            "Collecting huggingface_hub (from timm==1.0.3->-r /content/mmd-auto-trace-4/requirements.txt (line 14))\n",
            "  Downloading huggingface_hub-0.33.0-py3-none-any.whl.metadata (14 kB)\n",
            "Collecting safetensors (from timm==1.0.3->-r /content/mmd-auto-trace-4/requirements.txt (line 14))\n",
            "  Downloading safetensors-0.5.3-cp38-abi3-manylinux_2_17_x86_64.manylinux2014_x86_64.whl.metadata (3.8 kB)\n",
            "Collecting pytz>=2020.1 (from pandas==2.2.3->-r /content/mmd-auto-trace-4/requirements.txt (line 16))\n",
            "  Downloading pytz-2025.2-py2.py3-none-any.whl.metadata (22 kB)\n",
            "Collecting tzdata>=2022.7 (from pandas==2.2.3->-r /content/mmd-auto-trace-4/requirements.txt (line 16))\n",
            "  Downloading tzdata-2025.2-py2.py3-none-any.whl.metadata (1.4 kB)\n",
            "Collecting antlr4-python3-runtime==4.9.* (from hydra-core==1.3.2->-r /content/mmd-auto-trace-4/requirements.txt (line 18))\n",
            "  Downloading antlr4-python3-runtime-4.9.3.tar.gz (117 kB)\n",
            "  Preparing metadata (setup.py) ... \u001b[?25l\u001b[?25hdone\n",
            "Collecting portalocker (from iopath<0.1.10,>=0.1.7->detectron2@ git+https://github.com/facebookresearch/detectron2.git->phalp==0.1.3->-r /content/mmd-auto-trace-4/requirements.txt (line 20))\n",
            "  Downloading portalocker-3.1.1-py3-none-any.whl.metadata (8.6 kB)\n",
            "Collecting aiohttp!=4.0.0a0,!=4.0.0a1 (from fsspec[http]>=2022.5.0->pytorch-lightning==2.4.0->-r /content/mmd-auto-trace-4/requirements.txt (line 7))\n",
            "  Downloading aiohttp-3.12.12-cp310-cp310-manylinux_2_17_x86_64.manylinux2014_x86_64.whl.metadata (7.6 kB)\n",
            "Collecting aiohappyeyeballs>=2.5.0 (from aiohttp!=4.0.0a0,!=4.0.0a1->fsspec[http]>=2022.5.0->pytorch-lightning==2.4.0->-r /content/mmd-auto-trace-4/requirements.txt (line 7))\n",
            "  Downloading aiohappyeyeballs-2.6.1-py3-none-any.whl.metadata (5.9 kB)\n",
            "Collecting aiosignal>=1.1.2 (from aiohttp!=4.0.0a0,!=4.0.0a1->fsspec[http]>=2022.5.0->pytorch-lightning==2.4.0->-r /content/mmd-auto-trace-4/requirements.txt (line 7))\n",
            "  Downloading aiosignal-1.3.2-py2.py3-none-any.whl.metadata (3.8 kB)\n",
            "Collecting async-timeout<6.0,>=4.0 (from aiohttp!=4.0.0a0,!=4.0.0a1->fsspec[http]>=2022.5.0->pytorch-lightning==2.4.0->-r /content/mmd-auto-trace-4/requirements.txt (line 7))\n",
            "  Downloading async_timeout-5.0.1-py3-none-any.whl.metadata (5.1 kB)\n",
            "Collecting attrs>=17.3.0 (from aiohttp!=4.0.0a0,!=4.0.0a1->fsspec[http]>=2022.5.0->pytorch-lightning==2.4.0->-r /content/mmd-auto-trace-4/requirements.txt (line 7))\n",
            "  Downloading attrs-25.3.0-py3-none-any.whl.metadata (10 kB)\n",
            "Collecting frozenlist>=1.1.1 (from aiohttp!=4.0.0a0,!=4.0.0a1->fsspec[http]>=2022.5.0->pytorch-lightning==2.4.0->-r /content/mmd-auto-trace-4/requirements.txt (line 7))\n",
            "  Downloading frozenlist-1.7.0-cp310-cp310-manylinux_2_5_x86_64.manylinux1_x86_64.manylinux_2_17_x86_64.manylinux2014_x86_64.whl.metadata (18 kB)\n",
            "Collecting multidict<7.0,>=4.5 (from aiohttp!=4.0.0a0,!=4.0.0a1->fsspec[http]>=2022.5.0->pytorch-lightning==2.4.0->-r /content/mmd-auto-trace-4/requirements.txt (line 7))\n",
            "  Downloading multidict-6.4.4-cp310-cp310-manylinux_2_17_x86_64.manylinux2014_x86_64.whl.metadata (5.3 kB)\n",
            "Collecting propcache>=0.2.0 (from aiohttp!=4.0.0a0,!=4.0.0a1->fsspec[http]>=2022.5.0->pytorch-lightning==2.4.0->-r /content/mmd-auto-trace-4/requirements.txt (line 7))\n",
            "  Downloading propcache-0.3.2-cp310-cp310-manylinux_2_17_x86_64.manylinux2014_x86_64.whl.metadata (12 kB)\n",
            "Collecting yarl<2.0,>=1.17.0 (from aiohttp!=4.0.0a0,!=4.0.0a1->fsspec[http]>=2022.5.0->pytorch-lightning==2.4.0->-r /content/mmd-auto-trace-4/requirements.txt (line 7))\n",
            "  Downloading yarl-1.20.1-cp310-cp310-manylinux_2_17_x86_64.manylinux2014_x86_64.whl.metadata (73 kB)\n",
            "Collecting idna>=2.0 (from yarl<2.0,>=1.17.0->aiohttp!=4.0.0a0,!=4.0.0a1->fsspec[http]>=2022.5.0->pytorch-lightning==2.4.0->-r /content/mmd-auto-trace-4/requirements.txt (line 7))\n",
            "  Downloading idna-3.10-py3-none-any.whl.metadata (10 kB)\n",
            "Requirement already satisfied: filelock in /usr/local/lib/python3.10/dist-packages (from torch->hmr2==0.0.0->-r /content/mmd-auto-trace-4/requirements.txt (line 22)) (3.13.1)\n",
            "Requirement already satisfied: sympy in /usr/local/lib/python3.10/dist-packages (from torch->hmr2==0.0.0->-r /content/mmd-auto-trace-4/requirements.txt (line 22)) (1.13.3)\n",
            "Requirement already satisfied: jinja2 in /usr/local/lib/python3.10/dist-packages (from torch->hmr2==0.0.0->-r /content/mmd-auto-trace-4/requirements.txt (line 22)) (3.1.4)\n",
            "Requirement already satisfied: nvidia-cuda-nvrtc-cu12==12.4.99 in /usr/local/lib/python3.10/dist-packages (from torch->hmr2==0.0.0->-r /content/mmd-auto-trace-4/requirements.txt (line 22)) (12.4.99)\n",
            "Requirement already satisfied: nvidia-cuda-runtime-cu12==12.4.99 in /usr/local/lib/python3.10/dist-packages (from torch->hmr2==0.0.0->-r /content/mmd-auto-trace-4/requirements.txt (line 22)) (12.4.99)\n",
            "Requirement already satisfied: nvidia-cuda-cupti-cu12==12.4.99 in /usr/local/lib/python3.10/dist-packages (from torch->hmr2==0.0.0->-r /content/mmd-auto-trace-4/requirements.txt (line 22)) (12.4.99)\n",
            "Requirement already satisfied: nvidia-cudnn-cu12==9.1.0.70 in /usr/local/lib/python3.10/dist-packages (from torch->hmr2==0.0.0->-r /content/mmd-auto-trace-4/requirements.txt (line 22)) (9.1.0.70)\n",
            "Requirement already satisfied: nvidia-cublas-cu12==12.4.2.65 in /usr/local/lib/python3.10/dist-packages (from torch->hmr2==0.0.0->-r /content/mmd-auto-trace-4/requirements.txt (line 22)) (12.4.2.65)\n",
            "Requirement already satisfied: nvidia-cufft-cu12==11.2.0.44 in /usr/local/lib/python3.10/dist-packages (from torch->hmr2==0.0.0->-r /content/mmd-auto-trace-4/requirements.txt (line 22)) (11.2.0.44)\n",
            "Requirement already satisfied: nvidia-curand-cu12==10.3.5.119 in /usr/local/lib/python3.10/dist-packages (from torch->hmr2==0.0.0->-r /content/mmd-auto-trace-4/requirements.txt (line 22)) (10.3.5.119)\n",
            "Requirement already satisfied: nvidia-cusolver-cu12==11.6.0.99 in /usr/local/lib/python3.10/dist-packages (from torch->hmr2==0.0.0->-r /content/mmd-auto-trace-4/requirements.txt (line 22)) (11.6.0.99)\n",
            "Requirement already satisfied: nvidia-cusparse-cu12==12.3.0.142 in /usr/local/lib/python3.10/dist-packages (from torch->hmr2==0.0.0->-r /content/mmd-auto-trace-4/requirements.txt (line 22)) (12.3.0.142)\n",
            "Requirement already satisfied: nvidia-nccl-cu12==2.20.5 in /usr/local/lib/python3.10/dist-packages (from torch->hmr2==0.0.0->-r /content/mmd-auto-trace-4/requirements.txt (line 22)) (2.20.5)\n",
            "Requirement already satisfied: nvidia-nvtx-cu12==12.4.99 in /usr/local/lib/python3.10/dist-packages (from torch->hmr2==0.0.0->-r /content/mmd-auto-trace-4/requirements.txt (line 22)) (12.4.99)\n",
            "Requirement already satisfied: nvidia-nvjitlink-cu12==12.4.99 in /usr/local/lib/python3.10/dist-packages (from torch->hmr2==0.0.0->-r /content/mmd-auto-trace-4/requirements.txt (line 22)) (12.4.99)\n",
            "Requirement already satisfied: triton==3.0.0 in /usr/local/lib/python3.10/dist-packages (from torch->hmr2==0.0.0->-r /content/mmd-auto-trace-4/requirements.txt (line 22)) (3.0.0)\n",
            "Collecting click>=8.0.0 (from black->detectron2@ git+https://github.com/facebookresearch/detectron2.git->phalp==0.1.3->-r /content/mmd-auto-trace-4/requirements.txt (line 20))\n",
            "  Downloading click-8.2.1-py3-none-any.whl.metadata (2.5 kB)\n",
            "Collecting mypy-extensions>=0.4.3 (from black->detectron2@ git+https://github.com/facebookresearch/detectron2.git->phalp==0.1.3->-r /content/mmd-auto-trace-4/requirements.txt (line 20))\n",
            "  Downloading mypy_extensions-1.1.0-py3-none-any.whl.metadata (1.1 kB)\n",
            "Collecting pathspec>=0.9.0 (from black->detectron2@ git+https://github.com/facebookresearch/detectron2.git->phalp==0.1.3->-r /content/mmd-auto-trace-4/requirements.txt (line 20))\n",
            "  Downloading pathspec-0.12.1-py3-none-any.whl.metadata (21 kB)\n",
            "Collecting platformdirs>=2 (from black->detectron2@ git+https://github.com/facebookresearch/detectron2.git->phalp==0.1.3->-r /content/mmd-auto-trace-4/requirements.txt (line 20))\n",
            "  Downloading platformdirs-4.3.8-py3-none-any.whl.metadata (12 kB)\n",
            "Collecting tomli>=1.1.0 (from black->detectron2@ git+https://github.com/facebookresearch/detectron2.git->phalp==0.1.3->-r /content/mmd-auto-trace-4/requirements.txt (line 20))\n",
            "  Downloading tomli-2.2.1-py3-none-any.whl.metadata (10 kB)\n",
            "Collecting beautifulsoup4 (from gdown->hmr2==0.0.0->-r /content/mmd-auto-trace-4/requirements.txt (line 22))\n",
            "  Downloading beautifulsoup4-4.13.4-py3-none-any.whl.metadata (3.8 kB)\n",
            "Collecting requests[socks] (from gdown->hmr2==0.0.0->-r /content/mmd-auto-trace-4/requirements.txt (line 22))\n",
            "  Downloading requests-2.32.4-py3-none-any.whl.metadata (4.9 kB)\n",
            "Collecting soupsieve>1.2 (from beautifulsoup4->gdown->hmr2==0.0.0->-r /content/mmd-auto-trace-4/requirements.txt (line 22))\n",
            "  Downloading soupsieve-2.7-py3-none-any.whl.metadata (4.6 kB)\n",
            "Collecting hf-xet<2.0.0,>=1.1.2 (from huggingface_hub->timm==1.0.3->-r /content/mmd-auto-trace-4/requirements.txt (line 14))\n",
            "  Downloading hf_xet-1.1.3-cp37-abi3-manylinux_2_17_x86_64.manylinux2014_x86_64.whl.metadata (879 bytes)\n",
            "Requirement already satisfied: MarkupSafe>=2.0 in /usr/lib/python3/dist-packages (from jinja2->torch->hmr2==0.0.0->-r /content/mmd-auto-trace-4/requirements.txt (line 22)) (2.0.1)\n",
            "Collecting charset_normalizer<4,>=2 (from requests[socks]->gdown->hmr2==0.0.0->-r /content/mmd-auto-trace-4/requirements.txt (line 22))\n",
            "  Downloading charset_normalizer-3.4.2-cp310-cp310-manylinux_2_17_x86_64.manylinux2014_x86_64.whl.metadata (35 kB)\n",
            "Collecting urllib3<3,>=1.21.1 (from requests[socks]->gdown->hmr2==0.0.0->-r /content/mmd-auto-trace-4/requirements.txt (line 22))\n",
            "  Downloading urllib3-2.4.0-py3-none-any.whl.metadata (6.5 kB)\n",
            "Collecting certifi>=2017.4.17 (from requests[socks]->gdown->hmr2==0.0.0->-r /content/mmd-auto-trace-4/requirements.txt (line 22))\n",
            "  Downloading certifi-2025.4.26-py3-none-any.whl.metadata (2.5 kB)\n",
            "Collecting PySocks!=1.5.7,>=1.5.6 (from requests[socks]->gdown->hmr2==0.0.0->-r /content/mmd-auto-trace-4/requirements.txt (line 22))\n",
            "  Downloading PySocks-1.7.1-py3-none-any.whl.metadata (13 kB)\n",
            "Collecting markdown-it-py>=2.2.0 (from rich->phalp==0.1.3->-r /content/mmd-auto-trace-4/requirements.txt (line 20))\n",
            "  Downloading markdown_it_py-3.0.0-py3-none-any.whl.metadata (6.9 kB)\n",
            "Collecting pygments<3.0.0,>=2.13.0 (from rich->phalp==0.1.3->-r /content/mmd-auto-trace-4/requirements.txt (line 20))\n",
            "  Downloading pygments-2.19.1-py3-none-any.whl.metadata (2.5 kB)\n",
            "Collecting mdurl~=0.1 (from markdown-it-py>=2.2.0->rich->phalp==0.1.3->-r /content/mmd-auto-trace-4/requirements.txt (line 20))\n",
            "  Downloading mdurl-0.1.2-py3-none-any.whl.metadata (1.6 kB)\n",
            "Collecting threadpoolctl>=3.1.0 (from scikit-learn->phalp==0.1.3->-r /content/mmd-auto-trace-4/requirements.txt (line 20))\n",
            "  Downloading threadpoolctl-3.6.0-py3-none-any.whl.metadata (13 kB)\n",
            "Requirement already satisfied: mpmath<1.4,>=1.1.0 in /usr/local/lib/python3.10/dist-packages (from sympy->torch->hmr2==0.0.0->-r /content/mmd-auto-trace-4/requirements.txt (line 22)) (1.3.0)\n",
            "Collecting absl-py>=0.4 (from tensorboard->detectron2@ git+https://github.com/facebookresearch/detectron2.git->phalp==0.1.3->-r /content/mmd-auto-trace-4/requirements.txt (line 20))\n",
            "  Downloading absl_py-2.3.0-py3-none-any.whl.metadata (2.4 kB)\n",
            "Collecting grpcio>=1.48.2 (from tensorboard->detectron2@ git+https://github.com/facebookresearch/detectron2.git->phalp==0.1.3->-r /content/mmd-auto-trace-4/requirements.txt (line 20))\n",
            "  Downloading grpcio-1.73.0-cp310-cp310-manylinux_2_17_x86_64.manylinux2014_x86_64.whl.metadata (3.8 kB)\n",
            "Requirement already satisfied: markdown>=2.6.8 in /usr/lib/python3/dist-packages (from tensorboard->detectron2@ git+https://github.com/facebookresearch/detectron2.git->phalp==0.1.3->-r /content/mmd-auto-trace-4/requirements.txt (line 20)) (3.3.6)\n",
            "Collecting tensorboard-data-server<0.8.0,>=0.7.0 (from tensorboard->detectron2@ git+https://github.com/facebookresearch/detectron2.git->phalp==0.1.3->-r /content/mmd-auto-trace-4/requirements.txt (line 20))\n",
            "  Downloading tensorboard_data_server-0.7.2-py3-none-manylinux_2_31_x86_64.whl.metadata (1.1 kB)\n",
            "Collecting werkzeug>=1.0.1 (from tensorboard->detectron2@ git+https://github.com/facebookresearch/detectron2.git->phalp==0.1.3->-r /content/mmd-auto-trace-4/requirements.txt (line 20))\n",
            "  Downloading werkzeug-3.1.3-py3-none-any.whl.metadata (3.7 kB)\n",
            "Collecting MarkupSafe>=2.0 (from jinja2->torch->hmr2==0.0.0->-r /content/mmd-auto-trace-4/requirements.txt (line 22))\n",
            "  Downloading MarkupSafe-3.0.2-cp310-cp310-manylinux_2_17_x86_64.manylinux2014_x86_64.whl.metadata (4.0 kB)\n",
            "Downloading webdataset-0.2.86-py3-none-any.whl (70 kB)\n",
            "Downloading numpy-1.26.4-cp310-cp310-manylinux_2_17_x86_64.manylinux2014_x86_64.whl (18.2 MB)\n",
            "\u001b[2K   \u001b[90m━━━━━━━━━━━━━━━━━━━━━━━━━━━━━━━━━━━━━━━━\u001b[0m \u001b[32m18.2/18.2 MB\u001b[0m \u001b[31m137.1 MB/s\u001b[0m eta \u001b[36m0:00:00\u001b[0m\n",
            "\u001b[?25hDownloading matplotlib-3.8.4-cp310-cp310-manylinux_2_17_x86_64.manylinux2014_x86_64.whl (11.6 MB)\n",
            "\u001b[2K   \u001b[90m━━━━━━━━━━━━━━━━━━━━━━━━━━━━━━━━━━━━━━━━\u001b[0m \u001b[32m11.6/11.6 MB\u001b[0m \u001b[31m93.9 MB/s\u001b[0m eta \u001b[36m0:00:00\u001b[0m\n",
            "\u001b[?25hDownloading torchmetrics-1.3.2-py3-none-any.whl (841 kB)\n",
            "\u001b[2K   \u001b[90m━━━━━━━━━━━━━━━━━━━━━━━━━━━━━━━━━━━━━━━━\u001b[0m \u001b[32m841.5/841.5 kB\u001b[0m \u001b[31m48.0 MB/s\u001b[0m eta \u001b[36m0:00:00\u001b[0m\n",
            "\u001b[?25hDownloading lightning_utilities-0.11.2-py3-none-any.whl (26 kB)\n",
            "Downloading pytorch_lightning-2.4.0-py3-none-any.whl (815 kB)\n",
            "\u001b[2K   \u001b[90m━━━━━━━━━━━━━━━━━━━━━━━━━━━━━━━━━━━━━━━━\u001b[0m \u001b[32m815.2/815.2 kB\u001b[0m \u001b[31m35.6 MB/s\u001b[0m eta \u001b[36m0:00:00\u001b[0m\n",
            "\u001b[?25hDownloading smplx-0.1.28-py3-none-any.whl (29 kB)\n",
            "Downloading pyrender-0.1.45-py3-none-any.whl (1.2 MB)\n",
            "\u001b[2K   \u001b[90m━━━━━━━━━━━━━━━━━━━━━━━━━━━━━━━━━━━━━━━━\u001b[0m \u001b[32m1.2/1.2 MB\u001b[0m \u001b[31m62.2 MB/s\u001b[0m eta \u001b[36m0:00:00\u001b[0m\n",
            "\u001b[?25hDownloading yacs-0.1.8-py3-none-any.whl (14 kB)\n",
            "Downloading scikit_image-0.23.1-cp310-cp310-manylinux_2_17_x86_64.manylinux2014_x86_64.whl (14.7 MB)\n",
            "\u001b[2K   \u001b[90m━━━━━━━━━━━━━━━━━━━━━━━━━━━━━━━━━━━━━━━━\u001b[0m \u001b[32m14.7/14.7 MB\u001b[0m \u001b[31m131.4 MB/s\u001b[0m eta \u001b[36m0:00:00\u001b[0m\n",
            "\u001b[?25hDownloading einops-0.8.0-py3-none-any.whl (43 kB)\n",
            "Downloading timm-1.0.3-py3-none-any.whl (2.3 MB)\n",
            "\u001b[2K   \u001b[90m━━━━━━━━━━━━━━━━━━━━━━━━━━━━━━━━━━━━━━━━\u001b[0m \u001b[32m2.3/2.3 MB\u001b[0m \u001b[31m97.0 MB/s\u001b[0m eta \u001b[36m0:00:00\u001b[0m\n",
            "\u001b[?25hDownloading dill-0.3.9-py3-none-any.whl (119 kB)\n",
            "Downloading pandas-2.2.3-cp310-cp310-manylinux_2_17_x86_64.manylinux2014_x86_64.whl (13.1 MB)\n",
            "\u001b[2K   \u001b[90m━━━━━━━━━━━━━━━━━━━━━━━━━━━━━━━━━━━━━━━━\u001b[0m \u001b[32m13.1/13.1 MB\u001b[0m \u001b[31m173.5 MB/s\u001b[0m eta \u001b[36m0:00:00\u001b[0m\n",
            "\u001b[?25hDownloading PyOpenGL_accelerate-3.1.7-cp310-cp310-manylinux_2_5_x86_64.manylinux1_x86_64.manylinux_2_17_x86_64.manylinux2014_x86_64.whl (2.3 MB)\n",
            "\u001b[2K   \u001b[90m━━━━━━━━━━━━━━━━━━━━━━━━━━━━━━━━━━━━━━━━\u001b[0m \u001b[32m2.3/2.3 MB\u001b[0m \u001b[31m104.4 MB/s\u001b[0m eta \u001b[36m0:00:00\u001b[0m\n",
            "\u001b[?25hDownloading hydra_core-1.3.2-py3-none-any.whl (154 kB)\n",
            "Downloading protobuf-4.21.6-cp37-abi3-manylinux2014_x86_64.whl (408 kB)\n",
            "Downloading Babel-2.13.1-py3-none-any.whl (10.1 MB)\n",
            "\u001b[2K   \u001b[90m━━━━━━━━━━━━━━━━━━━━━━━━━━━━━━━━━━━━━━━━\u001b[0m \u001b[32m10.1/10.1 MB\u001b[0m \u001b[31m30.0 MB/s\u001b[0m eta \u001b[36m0:00:00\u001b[0m\n",
            "\u001b[?25hDownloading pykalman-0.9.7-py2.py3-none-any.whl (251 kB)\n",
            "Downloading iopath-0.1.9-py3-none-any.whl (27 kB)\n",
            "Downloading omegaconf-2.3.0-py3-none-any.whl (79 kB)\n",
            "Downloading opencv_python-4.11.0.86-cp37-abi3-manylinux_2_17_x86_64.manylinux2014_x86_64.whl (63.0 MB)\n",
            "\u001b[2K   \u001b[90m━━━━━━━━━━━━━━━━━━━━━━━━━━━━━━━━━━━━━━━━\u001b[0m \u001b[32m63.0/63.0 MB\u001b[0m \u001b[31m58.6 MB/s\u001b[0m eta \u001b[36m0:00:00\u001b[0m\n",
            "\u001b[?25hDownloading contourpy-1.3.2-cp310-cp310-manylinux_2_17_x86_64.manylinux2014_x86_64.whl (325 kB)\n",
            "Downloading cycler-0.12.1-py3-none-any.whl (8.3 kB)\n",
            "Downloading fonttools-4.58.4-cp310-cp310-manylinux2014_x86_64.manylinux_2_17_x86_64.whl (4.8 MB)\n",
            "\u001b[2K   \u001b[90m━━━━━━━━━━━━━━━━━━━━━━━━━━━━━━━━━━━━━━━━\u001b[0m \u001b[32m4.8/4.8 MB\u001b[0m \u001b[31m56.8 MB/s\u001b[0m eta \u001b[36m0:00:00\u001b[0m\n",
            "\u001b[?25hDownloading aiohttp-3.12.12-cp310-cp310-manylinux_2_17_x86_64.manylinux2014_x86_64.whl (1.6 MB)\n",
            "\u001b[2K   \u001b[90m━━━━━━━━━━━━━━━━━━━━━━━━━━━━━━━━━━━━━━━━\u001b[0m \u001b[32m1.6/1.6 MB\u001b[0m \u001b[31m80.7 MB/s\u001b[0m eta \u001b[36m0:00:00\u001b[0m\n",
            "\u001b[?25hDownloading async_timeout-5.0.1-py3-none-any.whl (6.2 kB)\n",
            "Downloading multidict-6.4.4-cp310-cp310-manylinux_2_17_x86_64.manylinux2014_x86_64.whl (219 kB)\n",
            "Downloading yarl-1.20.1-cp310-cp310-manylinux_2_17_x86_64.manylinux2014_x86_64.whl (326 kB)\n",
            "Downloading aiohappyeyeballs-2.6.1-py3-none-any.whl (15 kB)\n",
            "Downloading aiosignal-1.3.2-py2.py3-none-any.whl (7.6 kB)\n",
            "Downloading attrs-25.3.0-py3-none-any.whl (63 kB)\n",
            "Downloading frozenlist-1.7.0-cp310-cp310-manylinux_2_5_x86_64.manylinux1_x86_64.manylinux_2_17_x86_64.manylinux2014_x86_64.whl (222 kB)\n",
            "Downloading idna-3.10-py3-none-any.whl (70 kB)\n",
            "Downloading imageio-2.37.0-py3-none-any.whl (315 kB)\n",
            "Downloading kiwisolver-1.4.8-cp310-cp310-manylinux_2_12_x86_64.manylinux2010_x86_64.whl (1.6 MB)\n",
            "\u001b[2K   \u001b[90m━━━━━━━━━━━━━━━━━━━━━━━━━━━━━━━━━━━━━━━━\u001b[0m \u001b[32m1.6/1.6 MB\u001b[0m \u001b[31m85.0 MB/s\u001b[0m eta \u001b[36m0:00:00\u001b[0m\n",
            "\u001b[?25hDownloading lazy_loader-0.4-py3-none-any.whl (12 kB)\n",
            "Downloading packaging-25.0-py3-none-any.whl (66 kB)\n",
            "Downloading propcache-0.3.2-cp310-cp310-manylinux_2_17_x86_64.manylinux2014_x86_64.whl (198 kB)\n",
            "Downloading pycocotools-2.0.10-cp310-cp310-manylinux_2_17_x86_64.manylinux2014_x86_64.whl (455 kB)\n",
            "Downloading pyglet-2.1.6-py3-none-any.whl (983 kB)\n",
            "\u001b[2K   \u001b[90m━━━━━━━━━━━━━━━━━━━━━━━━━━━━━━━━━━━━━━━━\u001b[0m \u001b[32m984.0/984.0 kB\u001b[0m \u001b[31m33.1 MB/s\u001b[0m eta \u001b[36m0:00:00\u001b[0m\n",
            "\u001b[?25hDownloading python_dateutil-2.9.0.post0-py2.py3-none-any.whl (229 kB)\n",
            "Downloading pytz-2025.2-py2.py3-none-any.whl (509 kB)\n",
            "Downloading PyYAML-6.0.2-cp310-cp310-manylinux_2_17_x86_64.manylinux2014_x86_64.whl (751 kB)\n",
            "\u001b[2K   \u001b[90m━━━━━━━━━━━━━━━━━━━━━━━━━━━━━━━━━━━━━━━━\u001b[0m \u001b[32m751.2/751.2 kB\u001b[0m \u001b[31m41.0 MB/s\u001b[0m eta \u001b[36m0:00:00\u001b[0m\n",
            "\u001b[?25hDownloading scipy-1.15.3-cp310-cp310-manylinux_2_17_x86_64.manylinux2014_x86_64.whl (37.7 MB)\n",
            "\u001b[2K   \u001b[90m━━━━━━━━━━━━━━━━━━━━━━━━━━━━━━━━━━━━━━━━\u001b[0m \u001b[32m37.7/37.7 MB\u001b[0m \u001b[31m83.4 MB/s\u001b[0m eta \u001b[36m0:00:00\u001b[0m\n",
            "\u001b[?25hDownloading termcolor-3.1.0-py3-none-any.whl (7.7 kB)\n",
            "Downloading tifffile-2025.5.10-py3-none-any.whl (226 kB)\n",
            "Downloading tqdm-4.67.1-py3-none-any.whl (78 kB)\n",
            "Downloading tzdata-2025.2-py2.py3-none-any.whl (347 kB)\n",
            "Downloading av-14.4.0-cp310-cp310-manylinux_2_17_x86_64.manylinux2014_x86_64.whl (34.8 MB)\n",
            "\u001b[2K   \u001b[90m━━━━━━━━━━━━━━━━━━━━━━━━━━━━━━━━━━━━━━━━\u001b[0m \u001b[32m34.8/34.8 MB\u001b[0m \u001b[31m57.2 MB/s\u001b[0m eta \u001b[36m0:00:00\u001b[0m\n",
            "\u001b[?25hDownloading black-25.1.0-cp310-cp310-manylinux_2_17_x86_64.manylinux2014_x86_64.manylinux_2_28_x86_64.whl (1.8 MB)\n",
            "\u001b[2K   \u001b[90m━━━━━━━━━━━━━━━━━━━━━━━━━━━━━━━━━━━━━━━━\u001b[0m \u001b[32m1.8/1.8 MB\u001b[0m \u001b[31m68.9 MB/s\u001b[0m eta \u001b[36m0:00:00\u001b[0m\n",
            "\u001b[?25hDownloading click-8.2.1-py3-none-any.whl (102 kB)\n",
            "Downloading mypy_extensions-1.1.0-py3-none-any.whl (5.0 kB)\n",
            "Downloading pathspec-0.12.1-py3-none-any.whl (31 kB)\n",
            "Downloading platformdirs-4.3.8-py3-none-any.whl (18 kB)\n",
            "Downloading tomli-2.2.1-py3-none-any.whl (14 kB)\n",
            "Downloading braceexpand-0.1.7-py2.py3-none-any.whl (5.9 kB)\n",
            "Downloading cloudpickle-3.1.1-py3-none-any.whl (20 kB)\n",
            "Downloading freetype_py-2.5.1-py3-none-manylinux_2_5_x86_64.manylinux1_x86_64.manylinux_2_12_x86_64.manylinux2010_x86_64.whl (1.0 MB)\n",
            "\u001b[2K   \u001b[90m━━━━━━━━━━━━━━━━━━━━━━━━━━━━━━━━━━━━━━━━\u001b[0m \u001b[32m1.0/1.0 MB\u001b[0m \u001b[31m50.7 MB/s\u001b[0m eta \u001b[36m0:00:00\u001b[0m\n",
            "\u001b[?25hDownloading gdown-5.2.0-py3-none-any.whl (18 kB)\n",
            "Downloading beautifulsoup4-4.13.4-py3-none-any.whl (187 kB)\n",
            "Downloading soupsieve-2.7-py3-none-any.whl (36 kB)\n",
            "Downloading huggingface_hub-0.33.0-py3-none-any.whl (514 kB)\n",
            "Downloading hf_xet-1.1.3-cp37-abi3-manylinux_2_17_x86_64.manylinux2014_x86_64.whl (4.8 MB)\n",
            "\u001b[2K   \u001b[90m━━━━━━━━━━━━━━━━━━━━━━━━━━━━━━━━━━━━━━━━\u001b[0m \u001b[32m4.8/4.8 MB\u001b[0m \u001b[31m146.0 MB/s\u001b[0m eta \u001b[36m0:00:00\u001b[0m\n",
            "\u001b[?25hDownloading joblib-1.5.1-py3-none-any.whl (307 kB)\n",
            "Downloading portalocker-3.1.1-py3-none-any.whl (19 kB)\n",
            "Downloading requests-2.32.4-py3-none-any.whl (64 kB)\n",
            "Downloading charset_normalizer-3.4.2-cp310-cp310-manylinux_2_17_x86_64.manylinux2014_x86_64.whl (149 kB)\n",
            "Downloading urllib3-2.4.0-py3-none-any.whl (128 kB)\n",
            "Downloading certifi-2025.4.26-py3-none-any.whl (159 kB)\n",
            "Downloading PySocks-1.7.1-py3-none-any.whl (16 kB)\n",
            "Downloading rich-14.0.0-py3-none-any.whl (243 kB)\n",
            "Downloading pygments-2.19.1-py3-none-any.whl (1.2 MB)\n",
            "\u001b[2K   \u001b[90m━━━━━━━━━━━━━━━━━━━━━━━━━━━━━━━━━━━━━━━━\u001b[0m \u001b[32m1.2/1.2 MB\u001b[0m \u001b[31m64.2 MB/s\u001b[0m eta \u001b[36m0:00:00\u001b[0m\n",
            "\u001b[?25hDownloading markdown_it_py-3.0.0-py3-none-any.whl (87 kB)\n",
            "Downloading mdurl-0.1.2-py3-none-any.whl (10.0 kB)\n",
            "Downloading safetensors-0.5.3-cp38-abi3-manylinux_2_17_x86_64.manylinux2014_x86_64.whl (471 kB)\n",
            "Downloading scenedetect-0.6.6-py3-none-any.whl (131 kB)\n",
            "Downloading scikit_learn-1.7.0-cp310-cp310-manylinux_2_17_x86_64.manylinux2014_x86_64.whl (12.9 MB)\n",
            "\u001b[2K   \u001b[90m━━━━━━━━━━━━━━━━━━━━━━━━━━━━━━━━━━━━━━━━\u001b[0m \u001b[32m12.9/12.9 MB\u001b[0m \u001b[31m179.5 MB/s\u001b[0m eta \u001b[36m0:00:00\u001b[0m\n",
            "\u001b[?25hDownloading threadpoolctl-3.6.0-py3-none-any.whl (18 kB)\n",
            "Downloading tabulate-0.9.0-py3-none-any.whl (35 kB)\n",
            "Downloading tensorboard-2.19.0-py3-none-any.whl (5.5 MB)\n",
            "\u001b[2K   \u001b[90m━━━━━━━━━━━━━━━━━━━━━━━━━━━━━━━━━━━━━━━━\u001b[0m \u001b[32m5.5/5.5 MB\u001b[0m \u001b[31m153.0 MB/s\u001b[0m eta \u001b[36m0:00:00\u001b[0m\n",
            "\u001b[?25hDownloading tensorboard_data_server-0.7.2-py3-none-manylinux_2_31_x86_64.whl (6.6 MB)\n",
            "\u001b[2K   \u001b[90m━━━━━━━━━━━━━━━━━━━━━━━━━━━━━━━━━━━━━━━━\u001b[0m \u001b[32m6.6/6.6 MB\u001b[0m \u001b[31m135.3 MB/s\u001b[0m eta \u001b[36m0:00:00\u001b[0m\n",
            "\u001b[?25hDownloading absl_py-2.3.0-py3-none-any.whl (135 kB)\n",
            "Downloading grpcio-1.73.0-cp310-cp310-manylinux_2_17_x86_64.manylinux2014_x86_64.whl (6.0 MB)\n",
            "\u001b[2K   \u001b[90m━━━━━━━━━━━━━━━━━━━━━━━━━━━━━━━━━━━━━━━━\u001b[0m \u001b[32m6.0/6.0 MB\u001b[0m \u001b[31m139.2 MB/s\u001b[0m eta \u001b[36m0:00:00\u001b[0m\n",
            "\u001b[?25hDownloading werkzeug-3.1.3-py3-none-any.whl (224 kB)\n",
            "Downloading MarkupSafe-3.0.2-cp310-cp310-manylinux_2_17_x86_64.manylinux2014_x86_64.whl (20 kB)\n",
            "Downloading trimesh-4.6.12-py3-none-any.whl (711 kB)\n",
            "\u001b[2K   \u001b[90m━━━━━━━━━━━━━━━━━━━━━━━━━━━━━━━━━━━━━━━━\u001b[0m \u001b[32m712.0/712.0 kB\u001b[0m \u001b[31m34.0 MB/s\u001b[0m eta \u001b[36m0:00:00\u001b[0m\n",
            "\u001b[?25hBuilding wheels for collected packages: phalp, chumpy, hmr2, detectron2, neural-renderer-pytorch, pyopengl, pytube, antlr4-python3-runtime, fvcore\n",
            "\u001b[33m  DEPRECATION: Building 'phalp' using the legacy setup.py bdist_wheel mechanism, which will be removed in a future version. pip 25.3 will enforce this behaviour change. A possible replacement is to use the standardized build interface by setting the `--use-pep517` option, (possibly combined with `--no-build-isolation`), or adding a `pyproject.toml` file to the source tree of 'phalp'. Discussion can be found at https://github.com/pypa/pip/issues/6334\u001b[0m\u001b[33m\n",
            "\u001b[0m  Building wheel for phalp (setup.py) ... \u001b[?25l\u001b[?25hdone\n",
            "  Created wheel for phalp: filename=phalp-0.1.3-py3-none-any.whl size=70775 sha256=ae3e60ea2bfd3145ba7cee6ace817859fda04707a595505053c366181365e740\n",
            "  Stored in directory: /tmp/pip-ephem-wheel-cache-anp28q5f/wheels/14/83/bf/03b7475e8b2011385f5450b65f783ea0ae9088763330f940bc\n",
            "\u001b[33m  DEPRECATION: Building 'chumpy' using the legacy setup.py bdist_wheel mechanism, which will be removed in a future version. pip 25.3 will enforce this behaviour change. A possible replacement is to use the standardized build interface by setting the `--use-pep517` option, (possibly combined with `--no-build-isolation`), or adding a `pyproject.toml` file to the source tree of 'chumpy'. Discussion can be found at https://github.com/pypa/pip/issues/6334\u001b[0m\u001b[33m\n",
            "\u001b[0m  Building wheel for chumpy (setup.py) ... \u001b[?25l\u001b[?25hdone\n",
            "  Created wheel for chumpy: filename=chumpy-0.71-py3-none-any.whl size=60918 sha256=0e0d3e1e0f97aa87985aaf5e012bfeb393b513b4d408571f7860cadf591c673c\n",
            "  Stored in directory: /tmp/pip-ephem-wheel-cache-anp28q5f/wheels/3d/6e/b3/63d5237bbf06b75024f88ff227ac2d77a7a6b77663f01dade2\n",
            "\u001b[33m  DEPRECATION: Building 'hmr2' using the legacy setup.py bdist_wheel mechanism, which will be removed in a future version. pip 25.3 will enforce this behaviour change. A possible replacement is to use the standardized build interface by setting the `--use-pep517` option, (possibly combined with `--no-build-isolation`), or adding a `pyproject.toml` file to the source tree of 'hmr2'. Discussion can be found at https://github.com/pypa/pip/issues/6334\u001b[0m\u001b[33m\n",
            "\u001b[0m  Building wheel for hmr2 (setup.py) ... \u001b[?25l\u001b[?25hdone\n",
            "  Created wheel for hmr2: filename=hmr2-0.0.0-py3-none-any.whl size=206608 sha256=3bb41e941cf8da71d392d78de17419ff1fafefc6a38fe6fbd014e3b165ebb7d0\n",
            "  Stored in directory: /tmp/pip-ephem-wheel-cache-anp28q5f/wheels/36/85/f2/4b72846c9e4dfc5d82e5c8a46b2a06e789933b1d344cbf8399\n",
            "\u001b[33m  DEPRECATION: Building 'detectron2' using the legacy setup.py bdist_wheel mechanism, which will be removed in a future version. pip 25.3 will enforce this behaviour change. A possible replacement is to use the standardized build interface by setting the `--use-pep517` option, (possibly combined with `--no-build-isolation`), or adding a `pyproject.toml` file to the source tree of 'detectron2'. Discussion can be found at https://github.com/pypa/pip/issues/6334\u001b[0m\u001b[33m\n",
            "\u001b[0m  Building wheel for detectron2 (setup.py) ... \u001b[?25l\u001b[?25hdone\n",
            "  Created wheel for detectron2: filename=detectron2-0.6-cp310-cp310-linux_x86_64.whl size=6342149 sha256=37eb002d2c38f1dd22ca14d76eaa0f2a33a1cd9182d753f4d36b65d98e943408\n",
            "  Stored in directory: /tmp/pip-ephem-wheel-cache-anp28q5f/wheels/47/e5/15/94c80df2ba85500c5d76599cc307c0a7079d0e221bb6fc4375\n",
            "\u001b[33m  DEPRECATION: Building 'neural-renderer-pytorch' using the legacy setup.py bdist_wheel mechanism, which will be removed in a future version. pip 25.3 will enforce this behaviour change. A possible replacement is to use the standardized build interface by setting the `--use-pep517` option, (possibly combined with `--no-build-isolation`), or adding a `pyproject.toml` file to the source tree of 'neural-renderer-pytorch'. Discussion can be found at https://github.com/pypa/pip/issues/6334\u001b[0m\u001b[33m\n",
            "\u001b[0m  Building wheel for neural-renderer-pytorch (setup.py) ... \u001b[?25l\u001b[?25hdone\n",
            "  Created wheel for neural-renderer-pytorch: filename=neural_renderer_pytorch-1.1.3-cp310-cp310-linux_x86_64.whl size=8319214 sha256=14eed7e2d0ad5af9d92cfa8e54697ddc3174b57a7254fbdd52815f1afcffa108\n",
            "  Stored in directory: /tmp/pip-ephem-wheel-cache-anp28q5f/wheels/9f/7a/86/2e98acdc9b54233377868f5cf10ab13383e28d4f1733cdd28f\n",
            "\u001b[33m  DEPRECATION: Building 'pyopengl' using the legacy setup.py bdist_wheel mechanism, which will be removed in a future version. pip 25.3 will enforce this behaviour change. A possible replacement is to use the standardized build interface by setting the `--use-pep517` option, (possibly combined with `--no-build-isolation`), or adding a `pyproject.toml` file to the source tree of 'pyopengl'. Discussion can be found at https://github.com/pypa/pip/issues/6334\u001b[0m\u001b[33m\n",
            "\u001b[0m  Building wheel for pyopengl (setup.py) ... \u001b[?25l\u001b[?25hdone\n",
            "  Created wheel for pyopengl: filename=pyopengl-3.1.0-py3-none-any.whl size=2349680 sha256=625aaa566bbd0451c2ffcf8f62994af6e1c0c462bd099c5da8e503f6036a9a55\n",
            "  Stored in directory: /tmp/pip-ephem-wheel-cache-anp28q5f/wheels/b6/ed/b3/8541b9fe7ffafb294a299450783a5b7816c976d21ed0cb224d\n",
            "\u001b[33m  DEPRECATION: Building 'pytube' using the legacy setup.py bdist_wheel mechanism, which will be removed in a future version. pip 25.3 will enforce this behaviour change. A possible replacement is to use the standardized build interface by setting the `--use-pep517` option, (possibly combined with `--no-build-isolation`), or adding a `pyproject.toml` file to the source tree of 'pytube'. Discussion can be found at https://github.com/pypa/pip/issues/6334\u001b[0m\u001b[33m\n",
            "\u001b[0m  Building wheel for pytube (setup.py) ... \u001b[?25l\u001b[?25hdone\n",
            "  Created wheel for pytube: filename=pytube-15.0.0-py3-none-any.whl size=57675 sha256=b4c0a7b84c8d7d20c3ad5c2bd80a92e93aa5657539021906b27c7699a40a6b69\n",
            "  Stored in directory: /tmp/pip-ephem-wheel-cache-anp28q5f/wheels/5a/12/87/c8ebc234373bbbfaa9bd27af202f15d1016cfcac72952cc0ec\n",
            "\u001b[33m  DEPRECATION: Building 'antlr4-python3-runtime' using the legacy setup.py bdist_wheel mechanism, which will be removed in a future version. pip 25.3 will enforce this behaviour change. A possible replacement is to use the standardized build interface by setting the `--use-pep517` option, (possibly combined with `--no-build-isolation`), or adding a `pyproject.toml` file to the source tree of 'antlr4-python3-runtime'. Discussion can be found at https://github.com/pypa/pip/issues/6334\u001b[0m\u001b[33m\n",
            "\u001b[0m  Building wheel for antlr4-python3-runtime (setup.py) ... \u001b[?25l\u001b[?25hdone\n",
            "  Created wheel for antlr4-python3-runtime: filename=antlr4_python3_runtime-4.9.3-py3-none-any.whl size=144591 sha256=e2df57c4965566f1605070b9bb34f731b2fa7532741d0a813174c6b4707fa757\n",
            "  Stored in directory: /root/.cache/pip/wheels/12/93/dd/1f6a127edc45659556564c5730f6d4e300888f4bca2d4c5a88\n",
            "\u001b[33m  DEPRECATION: Building 'fvcore' using the legacy setup.py bdist_wheel mechanism, which will be removed in a future version. pip 25.3 will enforce this behaviour change. A possible replacement is to use the standardized build interface by setting the `--use-pep517` option, (possibly combined with `--no-build-isolation`), or adding a `pyproject.toml` file to the source tree of 'fvcore'. Discussion can be found at https://github.com/pypa/pip/issues/6334\u001b[0m\u001b[33m\n",
            "\u001b[0m  Building wheel for fvcore (setup.py) ... \u001b[?25l\u001b[?25hdone\n",
            "  Created wheel for fvcore: filename=fvcore-0.1.5.post20221221-py3-none-any.whl size=61445 sha256=7d4f80c702af9f706c5a42cb0358dbd0818c325a0322618d9b8c2f48e846dce9\n",
            "  Stored in directory: /root/.cache/pip/wheels/01/c0/af/77c1cf53a1be9e42a52b48e5af2169d40ec2e89f7362489dd0\n",
            "Successfully built phalp chumpy hmr2 detectron2 neural-renderer-pytorch pyopengl pytube antlr4-python3-runtime fvcore\n",
            "Installing collected packages: pytz, PyOpenGL-accelerate, pyopengl, neural-renderer-pytorch, braceexpand, antlr4-python3-runtime, urllib3, tzdata, tqdm, tomli, threadpoolctl, termcolor, tensorboard-data-server, tabulate, soupsieve, safetensors, pyyaml, pytube, python-dateutil, PySocks, pygments, pyglet, protobuf, propcache, portalocker, platformdirs, pathspec, packaging, numpy, mypy-extensions, multidict, mdurl, MarkupSafe, kiwisolver, joblib, idna, hf-xet, grpcio, frozenlist, freetype-py, fonttools, einops, dill, cycler, cloudpickle, click, charset_normalizer, certifi, Babel, av, attrs, async-timeout, aiohappyeyeballs, absl-py, yarl, yacs, werkzeug, webdataset, trimesh, tifffile, scipy, scenedetect, requests, pycocotools, pandas, opencv-python, omegaconf, markdown-it-py, lightning-utilities, lazy-loader, iopath, imageio, contourpy, black, beautifulsoup4, aiosignal, tensorboard, scikit-learn, scikit-image, rich, pyrender, pykalman, matplotlib, hydra-core, huggingface_hub, fvcore, chumpy, aiohttp, torchmetrics, smplx, gdown, detectron2, timm, pytorch-lightning, phalp, hmr2\n",
            "\u001b[2K  Attempting uninstall: numpy\n",
            "\u001b[2K    Found existing installation: numpy 2.1.2\n",
            "\u001b[2K    Uninstalling numpy-2.1.2:\n",
            "\u001b[2K      Successfully uninstalled numpy-2.1.2\n",
            "\u001b[2K  Attempting uninstall: MarkupSafe\n",
            "\u001b[2K    Found existing installation: MarkupSafe 2.0.1\n",
            "\u001b[2K    Uninstalling MarkupSafe-2.0.1:\n",
            "\u001b[2K      Successfully uninstalled MarkupSafe-2.0.1\n",
            "\u001b[2K   \u001b[90m━━━━━━━━━━━━━━━━━━━━━━━━━━━━━━━━━━━━━━━━\u001b[0m \u001b[32m96/96\u001b[0m [hmr2]\n",
            "\u001b[1A\u001b[2KSuccessfully installed Babel-2.13.1 MarkupSafe-3.0.2 PyOpenGL-accelerate-3.1.7 PySocks-1.7.1 absl-py-2.3.0 aiohappyeyeballs-2.6.1 aiohttp-3.12.12 aiosignal-1.3.2 antlr4-python3-runtime-4.9.3 async-timeout-5.0.1 attrs-25.3.0 av-14.4.0 beautifulsoup4-4.13.4 black-25.1.0 braceexpand-0.1.7 certifi-2025.4.26 charset_normalizer-3.4.2 chumpy-0.71 click-8.2.1 cloudpickle-3.1.1 contourpy-1.3.2 cycler-0.12.1 detectron2-0.6 dill-0.3.9 einops-0.8.0 fonttools-4.58.4 freetype-py-2.5.1 frozenlist-1.7.0 fvcore-0.1.5.post20221221 gdown-5.2.0 grpcio-1.73.0 hf-xet-1.1.3 hmr2-0.0.0 huggingface_hub-0.33.0 hydra-core-1.3.2 idna-3.10 imageio-2.37.0 iopath-0.1.9 joblib-1.5.1 kiwisolver-1.4.8 lazy-loader-0.4 lightning-utilities-0.11.2 markdown-it-py-3.0.0 matplotlib-3.8.4 mdurl-0.1.2 multidict-6.4.4 mypy-extensions-1.1.0 neural-renderer-pytorch-1.1.3 numpy-1.26.4 omegaconf-2.3.0 opencv-python-4.11.0.86 packaging-25.0 pandas-2.2.3 pathspec-0.12.1 phalp-0.1.3 platformdirs-4.3.8 portalocker-3.1.1 propcache-0.3.2 protobuf-4.21.6 pycocotools-2.0.10 pyglet-2.1.6 pygments-2.19.1 pykalman-0.9.7 pyopengl-3.1.0 pyrender-0.1.45 python-dateutil-2.9.0.post0 pytorch-lightning-2.4.0 pytube-15.0.0 pytz-2025.2 pyyaml-6.0.2 requests-2.32.4 rich-14.0.0 safetensors-0.5.3 scenedetect-0.6.6 scikit-image-0.23.1 scikit-learn-1.7.0 scipy-1.15.3 smplx-0.1.28 soupsieve-2.7 tabulate-0.9.0 tensorboard-2.19.0 tensorboard-data-server-0.7.2 termcolor-3.1.0 threadpoolctl-3.6.0 tifffile-2025.5.10 timm-1.0.3 tomli-2.2.1 torchmetrics-1.3.2 tqdm-4.67.1 trimesh-4.6.12 tzdata-2025.2 urllib3-2.4.0 webdataset-0.2.86 werkzeug-3.1.3 yacs-0.1.8 yarl-1.20.1\n"
          ]
        },
        {
          "output_type": "display_data",
          "data": {
            "text/plain": [
              "<IPython.lib.display.Audio object>"
            ],
            "text/html": [
              "\n",
              "                <audio  controls=\"controls\" autoplay=\"autoplay\">\n",
              "                    <source src=\"data:audio/mpeg;base64,SUQzBAAAAAAAI1RTU0UAAAAPAAADTGF2ZjU3LjE0LjEwMAAAAAAAAAAAAAAA//OAAAAAAAAAAAAAAAAAAAAAAAAASW5mbwAAAA8AAAAOAAAMPQAhISEhISEhMzMzMzMzM0RERERERERVVVVVVVVVZmZmZmZmZnd3d3d3d3eIiIiIiIiImZmZmZmZmZmqqqqqqqqqu7u7u7u7u8zMzMzMzMzd3d3d3d3d7u7u7u7u7v////////8AAAAATGF2YzU3LjE1AAAAAAAAAAAAAAAAJAAAAAAAAAAADD0QTLGFAAAAAAAAAAAAAAAAAAAAAAAAAAAAAAAAAAAAAAAAAP/zgGQADQFe3mCgjACNSAHRkUAAAG0eMbjWYx4wA4x7v//13d3d//93dC///d3d+O7u7u7on/+heiIiO7u7/u7u4GBu5aJ//+iIiO7u7/9d3d3dERP///0QDAxbh4/MPDw8PABH///wADw8PH5h4eHn//AD+v+AHh4e//6PKPDWQMuf4nP/g/1g+f4nP+XD/rB//y4P8HwfB9//Lg+D5+mD4f/5cHwffxO//lwfB///lw+qAgCDJBwIjAAiFQCAHga1GBlQvjTAeb2TAzo0Z7v/84JkHRCVjTEfylAADgACGl2BEACyYGjEkkQfvgBEw28if+K0EFCWAaAfTeuF8xB4yghQUp//i4D0nDAnBkP/qa3HLImJQFADgGYIoThE//960EEXUmyE3TIoXFniGDgIuLPGTGYJz/////QIAOYRAi5fN0y+bkUNGQLhpgJBSYQQShGCAAUIICWwfUhi0ZDnXTCYs7fztyDFvZp6e4UfR9Cl4q3RGOk3It9P/TRou/+vo/9NsDAYDAgDAYDAgEIiAARjYUv5i9+zgIx7fGXMhf/zgmQcEYUxay/MPAEKEAYiKYAQACCdBT9eGtB+DJC7TuJDIDbRY/NUvSJqBAVa7V5wXheuI94LJtjQ9nv7f92hjgzoY6Z4M80O+8zX/pMx1hwIG9TR73zHvbXxu+/u0GDiBbG73oz0iwKR7+mvrFPrevT/+Sb7t/9f/6Z4HNOU7STX7czhmAAAqRBAy1+2rj5lkfv+v0L/R9/b+zfV/6t3s6f//Sv+8UJXej09aoiADjKlC+gOBiVNJ5yXzVWnmFjtbZLL4Nb+84NPfmHVUalk//OCZCMStYFxB+wwAYyAAhABwAAANZGQIwpxjAaWXvr0iwfATfclFA69RhE70N6Zttaz7N3y79+dfbv7r9aWh923PsUuhq23PjrVY6w5E/rczWzHO3j7KV+l75T/ve/TNpvn1vv/a+T/0pR+m7udf5yrdqXPjykDSzWLQn7r+VtOt/zluPe5P/t7kWMYdp+luxzpfZjx9e+s+Kb1djKN5LV9UE32Yf0yi94zfN3ClHgITNvs2M604q594JVEJLqc66q55EhL7MuT8PtVnARsOU7/84JkFxBVkXBTPMOZjRAGFMAAAABcuMpkoolzFBMAgapSu0pHVjAr0LWXg2DCQ0cE+lUW+YK5XEyRLHSQkC9DLIewRGcChJ/lbN9sEm2KePp4pCEGHdGkKqKiLRQmMEr2iwhwjaxa6cty+ktzTRiI4ucjKo4SxIcpc/3M/730BZCB97LpSjss1LZrQ999MUv6l91q1OpEj61fak6hRT5nVFqO1yyyjCVE2fTu78kRH9Dci/uQEJWFCXnQGWbRLDdGFuyki2CjVWZymZBakIIGuv/zgmQcEMU7cFMl5l2LqAYQAAAAAFOT9zLtAfHuzoSrmJWIBFz7P1PsSORahaka2r0qjeK6z2dDY+nkCeLeZYisIoVIoyYs7MOMYgGj27QghvbEDSnnYqp5dN6XUuWMnJulNsZHjPkPt/fnzX7FTv+KXMqVbkDVFouu///ix0b9vxNqxqljtFst0jd+L1/TbO9LEKapXOCnVKHrOz8fR97VSQ5umZ/21ylbVVxfpl6kXgkgemRIESAqjfcigeL4WxCrOBsFg03YrChPPthQ+1DC//OCZCMNxV14oyRiuYsAAhTAAAAA5lK4I9zoQZPItIHLtWAFFwQIIYJ/E1areYtSPJ53apjtbRnZXKofzmz3gWBzD1Ov4U19aUjveyP92381lIiEFOErl8L7yXcQ/zquBl/QwzXmFqFt+X2/09n6/po+rbvroItrJocvlPMf7B3d0zT9GUaY9oWaa/RVmrgU8CI00RNUibch8F01taEUJGRSrFUikuJUJQ05MvXFAEICY0DGkkyKhMlc1J6wnRzKqFHpERspxKgXZ9jlbQzGpRz/84JkRA1NJXazJMOFjVgCFYgAAADnZ98/+SnENJ+aF5Ltf6WQSA9uHBwn/xeYcKtGN9dfKf15//wYN6VgIQtaF/fh1l7lqpvo/rLvnHf7u9VWY9D07VCpJyksd2lEI+zRucxG3X2fLUxVjzT0U3nWpa+4EJVB2GyYtExpcbOkRc5SxMVtlaruN90X9unqJMXm0z+SbOxLcLXYy4Ey6sXBlAV3u5BxQjEkaJ61AA5VKKNktnIj1J8Ks8rYU89LYcPywQLKaWLEyrDYESLsFXsKiP/zgmRgDXDzcLcww6UNEAIMAABETJLqnkUvA5VSVnf4//cUFB+lCLWt31KO5X/t1PW7RXxVzvUAEM5YbmlSVFT9VqZhhDZpahhI+J69f3KcjpexPkmbpgClQHYep1KWIlUQmjAmwtHrPP/y2np3Fq2BdlHDpKXa3EpPEYokc2tj7sDtfdmXsxKCW0VphgNCkBXQ4dEG3TBchLdDDDr5Q2b5SmpMq0MsPl6t389/8jMU5MuDCirhUUhsFgo4XOltAqj4iEqRZKANjjiGpYyMMvrV//OCZHwNuTdswzDDlQxoAhowAEQAtF/dWLdy1PU84vdt3Uf7H0blfGo/er+VPfcJbjvp9fp2f6VqRja5EaT4FZMhUMwmJ4SnTQ+hRvM4zpTOL0WWSmTSKDHbyNotwciclRymtQUZIKPgVQUMm+ayHfWoczdFQxpVITYx5Q/yffuRZnDdd1bJwTGgcY5wmQSB0JwKMgVaXgEcRjwXb1v5QFBX0X+AF01frcjc++pUc9iuelWdViTinh1yxtbmoX/1ptb/SxtifYzkakOFKAmzjs7/84JkmA0ZB20XMMNnDNgGEAAAAAA4IJ/N1b/5AKWBcyUxRx2X2aOr1U6nmSLZGcW3Hmj53WLa/YBCjhQcXmWBBROHCiGg+6pDpAhJsMxt3WHmUnatVfEsepFrsz7X84fSy82Zk1MrS4ZZzNjJZzMqT3zhK1cI7faMCoKnTx4Ra0eEHkvlmdy2pTXUNszv+P9009xfbWevpfV5u3xexiF+a6SXa5iEESNjy29TtzZJ1zwsK0vweimjQkzHFICOCCCd+Y4Udc8ZwCtFzTBG0GhI4P/zgmS3DTlXXsOnjAENOAIMAUAAANAC6zpBA9eSRqC7LoJnWnIY0rEnK+rS2GcgRrrP6rmU0UNJjISlHLMOuK60A6prvtLbkKiCB09Wdnn0gbHHHWT1oeNbYA2dbK74zLn9dmCGTRv/1/44omF3pYwxZ0PuPJV2wdbiMOuzSxJnVrn///+PuDAL6Om3liB3TijT2Y0jLZbVhp2pe4MNRyW4yuC5N///fx1ruOPFhY45MD1ngfJ/neXNN9pN5VYzQRGjm7lJS442a/Kbm62squ8a//OCZNQa8Xs3Ec1gAAfABiihgBgCxFRWoBfp1W6X/t/zFt9nTae1ep3/7qP+y539f2f+z1f3fqqBIKQFQamwLCx1FCws2qrcrw3K9VVVVX+Mzf+zdCiTUBBUsDQwGvwVKhpT+5Xyuz/6eCsGlA08q4ShpQNcSnSp3KhqHfBWS/BW2WPfyF+YQuEKxC//MapQE8CtT+DUOwVO/iXxEDSg6VO4KqBoYDX/qPcGr/wVeCp0sHFA1/1A0MDv/lTvqPVHgafVTEFNRTMuOTkuNVVVVVX/84JkmQlscugB5AwAD7C1zAHBEABVVVVVVVVVVVVVVVVVVVVVVVVVVVVVVVVVVVVVVVVVVVVVVVVVVVVVVVVVVVVVVVVVVVVVVVVVVVVVVVVVVVVVVVVVVVVVVVVVVVVVVVVVVVVVVVVVVVVVVVVVVVVVVVVVVVVVVVVVVVVVVVVVVVVVVVVVVVVVVVVVVVVVVVVVVVVVVVVVVVVVVVVVVVVVVVVVVVVVVVVVVVVVVVVVVVVVVVVVVVVVVVVVVVVVVVVVVVVVVVVVVVVVVVVVVQ==\" type=\"audio/mpeg\" />\n",
              "                    Your browser does not support the audio element.\n",
              "                </audio>\n",
              "              "
            ]
          },
          "metadata": {}
        },
        {
          "output_type": "stream",
          "name": "stdout",
          "text": [
            "■■■■■■■■■■■■■■■\n",
            "■　** OK **\n",
            "■　セル【①-E】の実行に成功しました。\n",
            "■■■■■■■■■■■■■■■\n"
          ]
        }
      ]
    },
    {
      "cell_type": "markdown",
      "source": [
        "## ①-F　データ配置\n",
        "\n",
        "MMD自動トレースに必要なデータを配置します\n",
        "\n",
        "下の【①-F】のセルを実行して下さい"
      ],
      "metadata": {
        "id": "0wpzqPQ4ihVn"
      }
    },
    {
      "cell_type": "code",
      "source": [
        "#@markdown ■■■■■■■■■■■■■■■■■■\n",
        "\n",
        "#@markdown 【①-F】　データ配置\n",
        "\n",
        "#@markdown ■■■■■■■■■■■■■■■■■■\n",
        "\n",
        "# セル実行可否\n",
        "ckey = \"①-F\"\n",
        "check_exec_dict(ckey)\n",
        "\n",
        "!mkdir -p '/content/mmd-auto-trace-4/data/'\n",
        "\n",
        "# ----------------------------\n",
        "\n",
        "# basicModel_neutral_lbs_10_207_0_v1.0.0.pkl\n",
        "downloaded = drive.CreateFile({'id': '1wWDlhqrQsp9j0MpOYF6FCmMmgdxI53M6'})\n",
        "downloaded.GetContentFile('/content/mmd-auto-trace-4/data/basicModel_neutral_lbs_10_207_0_v1.0.0.pkl')\n",
        "\n",
        "! mkdir -p '/content/mmd-auto-trace-4/cache/phalp/3D/models/smpl'\n",
        "! cp '/content/mmd-auto-trace-4/data/basicModel_neutral_lbs_10_207_0_v1.0.0.pkl' '/content/mmd-auto-trace-4/cache/phalp/3D/models/smpl/SMPL_NEUTRAL.pkl'\n",
        "\n",
        "# # pose_landmarker_full.task\n",
        "# downloaded = drive.CreateFile({'id': '1Qyu3BB61rYSprkK-p4RswWrXcO8zyN7W'})\n",
        "# downloaded.GetContentFile('/content/mmd-auto-trace-4/data/pose_landmarker_full.task')\n",
        "\n",
        "! chmod 744 '/content/mmd-auto-trace-4/build/mat4'\n",
        "\n",
        "# ----------------------------\n",
        "\n",
        "# セル終了\n",
        "finish_cell(ckey)"
      ],
      "metadata": {
        "id": "VGB11PgjisJ1",
        "colab": {
          "base_uri": "https://localhost:8080/",
          "height": 203
        },
        "outputId": "2456ea14-8802-416c-8919-e96d51732e79"
      },
      "execution_count": 6,
      "outputs": [
        {
          "output_type": "display_data",
          "data": {
            "text/plain": [
              "<IPython.lib.display.Audio object>"
            ],
            "text/html": [
              "\n",
              "                <audio  controls=\"controls\" autoplay=\"autoplay\">\n",
              "                    <source src=\"data:audio/mpeg;base64,SUQzBAAAAAAAI1RTU0UAAAAPAAADTGF2ZjU3LjE0LjEwMAAAAAAAAAAAAAAA//OAAAAAAAAAAAAAAAAAAAAAAAAASW5mbwAAAA8AAAAOAAAMPQAhISEhISEhMzMzMzMzM0RERERERERVVVVVVVVVZmZmZmZmZnd3d3d3d3eIiIiIiIiImZmZmZmZmZmqqqqqqqqqu7u7u7u7u8zMzMzMzMzd3d3d3d3d7u7u7u7u7v////////8AAAAATGF2YzU3LjE1AAAAAAAAAAAAAAAAJAAAAAAAAAAADD0QTLGFAAAAAAAAAAAAAAAAAAAAAAAAAAAAAAAAAAAAAAAAAP/zgGQADQFe3mCgjACNSAHRkUAAAG0eMbjWYx4wA4x7v//13d3d//93dC///d3d+O7u7u7on/+heiIiO7u7/u7u4GBu5aJ//+iIiO7u7/9d3d3dERP///0QDAxbh4/MPDw8PABH///wADw8PH5h4eHn//AD+v+AHh4e//6PKPDWQMuf4nP/g/1g+f4nP+XD/rB//y4P8HwfB9//Lg+D5+mD4f/5cHwffxO//lwfB///lw+qAgCDJBwIjAAiFQCAHga1GBlQvjTAeb2TAzo0Z7v/84JkHRCVjTEfylAADgACGl2BEACyYGjEkkQfvgBEw28if+K0EFCWAaAfTeuF8xB4yghQUp//i4D0nDAnBkP/qa3HLImJQFADgGYIoThE//960EEXUmyE3TIoXFniGDgIuLPGTGYJz/////QIAOYRAi5fN0y+bkUNGQLhpgJBSYQQShGCAAUIICWwfUhi0ZDnXTCYs7fztyDFvZp6e4UfR9Cl4q3RGOk3It9P/TRou/+vo/9NsDAYDAgDAYDAgEIiAARjYUv5i9+zgIx7fGXMhf/zgmQcEYUxay/MPAEKEAYiKYAQACCdBT9eGtB+DJC7TuJDIDbRY/NUvSJqBAVa7V5wXheuI94LJtjQ9nv7f92hjgzoY6Z4M80O+8zX/pMx1hwIG9TR73zHvbXxu+/u0GDiBbG73oz0iwKR7+mvrFPrevT/+Sb7t/9f/6Z4HNOU7STX7czhmAAAqRBAy1+2rj5lkfv+v0L/R9/b+zfV/6t3s6f//Sv+8UJXej09aoiADjKlC+gOBiVNJ5yXzVWnmFjtbZLL4Nb+84NPfmHVUalk//OCZCMStYFxB+wwAYyAAhABwAAANZGQIwpxjAaWXvr0iwfATfclFA69RhE70N6Zttaz7N3y79+dfbv7r9aWh923PsUuhq23PjrVY6w5E/rczWzHO3j7KV+l75T/ve/TNpvn1vv/a+T/0pR+m7udf5yrdqXPjykDSzWLQn7r+VtOt/zluPe5P/t7kWMYdp+luxzpfZjx9e+s+Kb1djKN5LV9UE32Yf0yi94zfN3ClHgITNvs2M604q594JVEJLqc66q55EhL7MuT8PtVnARsOU7/84JkFxBVkXBTPMOZjRAGFMAAAABcuMpkoolzFBMAgapSu0pHVjAr0LWXg2DCQ0cE+lUW+YK5XEyRLHSQkC9DLIewRGcChJ/lbN9sEm2KePp4pCEGHdGkKqKiLRQmMEr2iwhwjaxa6cty+ktzTRiI4ucjKo4SxIcpc/3M/730BZCB97LpSjss1LZrQ999MUv6l91q1OpEj61fak6hRT5nVFqO1yyyjCVE2fTu78kRH9Dci/uQEJWFCXnQGWbRLDdGFuyki2CjVWZymZBakIIGuv/zgmQcEMU7cFMl5l2LqAYQAAAAAFOT9zLtAfHuzoSrmJWIBFz7P1PsSORahaka2r0qjeK6z2dDY+nkCeLeZYisIoVIoyYs7MOMYgGj27QghvbEDSnnYqp5dN6XUuWMnJulNsZHjPkPt/fnzX7FTv+KXMqVbkDVFouu///ix0b9vxNqxqljtFst0jd+L1/TbO9LEKapXOCnVKHrOz8fR97VSQ5umZ/21ylbVVxfpl6kXgkgemRIESAqjfcigeL4WxCrOBsFg03YrChPPthQ+1DC//OCZCMNxV14oyRiuYsAAhTAAAAA5lK4I9zoQZPItIHLtWAFFwQIIYJ/E1areYtSPJ53apjtbRnZXKofzmz3gWBzD1Ov4U19aUjveyP92381lIiEFOErl8L7yXcQ/zquBl/QwzXmFqFt+X2/09n6/po+rbvroItrJocvlPMf7B3d0zT9GUaY9oWaa/RVmrgU8CI00RNUibch8F01taEUJGRSrFUikuJUJQ05MvXFAEICY0DGkkyKhMlc1J6wnRzKqFHpERspxKgXZ9jlbQzGpRz/84JkRA1NJXazJMOFjVgCFYgAAADnZ98/+SnENJ+aF5Ltf6WQSA9uHBwn/xeYcKtGN9dfKf15//wYN6VgIQtaF/fh1l7lqpvo/rLvnHf7u9VWY9D07VCpJyksd2lEI+zRucxG3X2fLUxVjzT0U3nWpa+4EJVB2GyYtExpcbOkRc5SxMVtlaruN90X9unqJMXm0z+SbOxLcLXYy4Ey6sXBlAV3u5BxQjEkaJ61AA5VKKNktnIj1J8Ks8rYU89LYcPywQLKaWLEyrDYESLsFXsKiP/zgmRgDXDzcLcww6UNEAIMAABETJLqnkUvA5VSVnf4//cUFB+lCLWt31KO5X/t1PW7RXxVzvUAEM5YbmlSVFT9VqZhhDZpahhI+J69f3KcjpexPkmbpgClQHYep1KWIlUQmjAmwtHrPP/y2np3Fq2BdlHDpKXa3EpPEYokc2tj7sDtfdmXsxKCW0VphgNCkBXQ4dEG3TBchLdDDDr5Q2b5SmpMq0MsPl6t389/8jMU5MuDCirhUUhsFgo4XOltAqj4iEqRZKANjjiGpYyMMvrV//OCZHwNuTdswzDDlQxoAhowAEQAtF/dWLdy1PU84vdt3Uf7H0blfGo/er+VPfcJbjvp9fp2f6VqRja5EaT4FZMhUMwmJ4SnTQ+hRvM4zpTOL0WWSmTSKDHbyNotwciclRymtQUZIKPgVQUMm+ayHfWoczdFQxpVITYx5Q/yffuRZnDdd1bJwTGgcY5wmQSB0JwKMgVaXgEcRjwXb1v5QFBX0X+AF01frcjc++pUc9iuelWdViTinh1yxtbmoX/1ptb/SxtifYzkakOFKAmzjs7/84JkmA0ZB20XMMNnDNgGEAAAAAA4IJ/N1b/5AKWBcyUxRx2X2aOr1U6nmSLZGcW3Hmj53WLa/YBCjhQcXmWBBROHCiGg+6pDpAhJsMxt3WHmUnatVfEsepFrsz7X84fSy82Zk1MrS4ZZzNjJZzMqT3zhK1cI7faMCoKnTx4Ra0eEHkvlmdy2pTXUNszv+P9009xfbWevpfV5u3xexiF+a6SXa5iEESNjy29TtzZJ1zwsK0vweimjQkzHFICOCCCd+Y4Udc8ZwCtFzTBG0GhI4P/zgmS3DTlXXsOnjAENOAIMAUAAANAC6zpBA9eSRqC7LoJnWnIY0rEnK+rS2GcgRrrP6rmU0UNJjISlHLMOuK60A6prvtLbkKiCB09Wdnn0gbHHHWT1oeNbYA2dbK74zLn9dmCGTRv/1/44omF3pYwxZ0PuPJV2wdbiMOuzSxJnVrn///+PuDAL6Om3liB3TijT2Y0jLZbVhp2pe4MNRyW4yuC5N///fx1ruOPFhY45MD1ngfJ/neXNN9pN5VYzQRGjm7lJS442a/Kbm62squ8a//OCZNQa8Xs3Ec1gAAfABiihgBgCxFRWoBfp1W6X/t/zFt9nTae1ep3/7qP+y539f2f+z1f3fqqBIKQFQamwLCx1FCws2qrcrw3K9VVVVX+Mzf+zdCiTUBBUsDQwGvwVKhpT+5Xyuz/6eCsGlA08q4ShpQNcSnSp3KhqHfBWS/BW2WPfyF+YQuEKxC//MapQE8CtT+DUOwVO/iXxEDSg6VO4KqBoYDX/qPcGr/wVeCp0sHFA1/1A0MDv/lTvqPVHgafVTEFNRTMuOTkuNVVVVVX/84JkmQlscugB5AwAD7C1zAHBEABVVVVVVVVVVVVVVVVVVVVVVVVVVVVVVVVVVVVVVVVVVVVVVVVVVVVVVVVVVVVVVVVVVVVVVVVVVVVVVVVVVVVVVVVVVVVVVVVVVVVVVVVVVVVVVVVVVVVVVVVVVVVVVVVVVVVVVVVVVVVVVVVVVVVVVVVVVVVVVVVVVVVVVVVVVVVVVVVVVVVVVVVVVVVVVVVVVVVVVVVVVVVVVVVVVVVVVVVVVVVVVVVVVVVVVVVVVVVVVVVVVVVVVVVVVQ==\" type=\"audio/mpeg\" />\n",
              "                    Your browser does not support the audio element.\n",
              "                </audio>\n",
              "              "
            ]
          },
          "metadata": {}
        },
        {
          "output_type": "display_data",
          "data": {
            "text/plain": [
              "<IPython.lib.display.Audio object>"
            ],
            "text/html": [
              "\n",
              "                <audio  controls=\"controls\" autoplay=\"autoplay\">\n",
              "                    <source src=\"data:audio/mpeg;base64,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\" type=\"audio/mpeg\" />\n",
              "                    Your browser does not support the audio element.\n",
              "                </audio>\n",
              "              "
            ]
          },
          "metadata": {}
        },
        {
          "output_type": "stream",
          "name": "stdout",
          "text": [
            "■■■■■■■■■■■■■■■\n",
            "■　** OK **\n",
            "■　セル【①-F】の実行に成功しました。\n",
            "■■■■■■■■■■■■■■■\n"
          ]
        }
      ]
    },
    {
      "cell_type": "markdown",
      "source": [
        "# ②　MMD自動トレースv4 実行"
      ],
      "metadata": {
        "id": "5ek2ZWYJkMqb"
      }
    },
    {
      "cell_type": "markdown",
      "source": [
        "## ②-A　トレース元動画配置\n",
        "\n",
        "トレースを行いたい動画ファイルを準備してください\n",
        "\n",
        "- ファイル名は **半角英数字のみ** にしてください。opencvは2バイト文字を読み込めません\n",
        "- 1人の動画30秒（30fpsの1000F）につき、**1時間** ほどかかります\n",
        "   - 大体3時間が無料枠で使える1日あたりの上限となります\n",
        "   - 【②-C】を繰り返し最後まで実行すればモーションデータが生成されます\n",
        "- Googleドライブの **autotrace** フォルダ 直下に置いてください\n",
        "- **マウント後のGooleドライブ上のファイルの上書きや更新は正しく認識されません**\n",
        "    - 新しいファイルはこれまでとは違う名前でアップロードしてから処理して下さい\n",
        "- 入力するのは、ファイル名（拡張子含む）のみです\n",
        "- ファイルをアップロードできたら、下の【②-A】のセルを実行して下さい\n",
        "- 最初に試される場合は、短い動画で確認してください\n",
        "    - 動画を最後までトレースしないと、モーションデータが作成できません"
      ],
      "metadata": {
        "id": "30ajJ1K3kW69"
      }
    },
    {
      "cell_type": "code",
      "source": [
        "#@markdown ■■■■■■■■■■■■■■■■■■\n",
        "\n",
        "#@markdown 【②-A】　トレース元動画配置\n",
        "\n",
        "#@markdown ■■■■■■■■■■■■■■■■■■\n",
        "\n",
        "# セル実行可否\n",
        "ckey = \"②-A\"\n",
        "check_exec_dict(ckey)\n",
        "\n",
        "# ----------------------------\n",
        "\n",
        "input_video_name = \"input.mp4\"  #@param {type: \"string\"}\n",
        "\n",
        "import os, shutil\n",
        "input_drive_video_path = os.path.join(base_dir_path, input_video_name)\n",
        "input_video_path = \"/content/hoge.mp4\"\n",
        "\n",
        "print(input_drive_video_path)\n",
        "\n",
        "if not os.path.exists(input_drive_video_path):\n",
        "    print(\"■■■■■■■■■■■■■■■\")\n",
        "    print(\"■　** ERROR **\")\n",
        "    print(\"■　autotrace 直下に 指定動画 が見つかりませんでした。\")\n",
        "    print(\"■　・マイドライブ > 「autotrace」フォルダ > 指定画像 の順番でファイルが配置されているか再確認してください\")\n",
        "    print(\"■　・配置した直後だと、認識が間に合わない場合がありますので、10秒ほど待ってから再度実行してください\")\n",
        "    print(\"■　ファイルパス: \" + input_drive_video_path)\n",
        "    print(\"■■■■■■■■■■■■■■■\")\n",
        "    raise IpyExit\n",
        "else:\n",
        "    shutil.copy(input_drive_video_path, \"/content/\")\n",
        "\n",
        "    input_video_path = f\"/content/{input_video_name}\"\n",
        "\n",
        "    print(\"■■■■■■■■■■■■■■■\")\n",
        "    print(\"■　** OK **\")\n",
        "    print(\"■　トレース元動画の配置が完了しました。\")\n",
        "    print(\"■　ファイルパス: \" + input_video_path)\n",
        "    print(\"■■■■■■■■■■■■■■■\")\n",
        "\n",
        "\n",
        "# ----------------------------\n",
        "\n",
        "# セル終了\n",
        "finish_cell(ckey)"
      ],
      "metadata": {
        "id": "625x35Vaky9I",
        "colab": {
          "base_uri": "https://localhost:8080/",
          "height": 362
        },
        "outputId": "01eda132-bfa4-4739-d497-5a34609f5715"
      },
      "execution_count": 7,
      "outputs": [
        {
          "output_type": "display_data",
          "data": {
            "text/plain": [
              "<IPython.lib.display.Audio object>"
            ],
            "text/html": [
              "\n",
              "                <audio  controls=\"controls\" autoplay=\"autoplay\">\n",
              "                    <source src=\"data:audio/mpeg;base64,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\" type=\"audio/mpeg\" />\n",
              "                    Your browser does not support the audio element.\n",
              "                </audio>\n",
              "              "
            ]
          },
          "metadata": {}
        },
        {
          "output_type": "stream",
          "name": "stdout",
          "text": [
            "■■■■■■■■■■■■■■■\n",
            "■　** ERROR **\n",
            "■　autotrace 直下に 指定動画 が見つかりませんでした。\n",
            "■　・マイドライブ > 「autotrace」フォルダ > 指定画像 の順番でファイルが配置されているか再確認してください\n",
            "■　・配置した直後だと、認識が間に合わない場合がありますので、10秒ほど待ってから再度実行してください\n",
            "■　ファイルパス: /gdrive/My Drive/autotrace/input.mp4\n",
            "■■■■■■■■■■■■■■■\n"
          ]
        },
        {
          "output_type": "display_data",
          "data": {
            "text/plain": [
              "<IPython.lib.display.Audio object>"
            ],
            "text/html": [
              "\n",
              "                <audio  controls=\"controls\" autoplay=\"autoplay\">\n",
              "                    <source src=\"data:audio/mpeg;base64,SUQzBAAAAAAAI1RTU0UAAAAPAAADTGF2ZjU3LjE0LjEwMAAAAAAAAAAAAAAA//OAAAAAAAAAAAAAAAAAAAAAAAAASW5mbwAAAA8AAAAOAAAMPQAhISEhISEhMzMzMzMzM0RERERERERVVVVVVVVVZmZmZmZmZnd3d3d3d3eIiIiIiIiImZmZmZmZmZmqqqqqqqqqu7u7u7u7u8zMzMzMzMzd3d3d3d3d7u7u7u7u7v////////8AAAAATGF2YzU3LjE1AAAAAAAAAAAAAAAAJAAAAAAAAAAADD0QTLGFAAAAAAAAAAAAAAAAAAAAAAAAAAAAAAAAAAAAAAAAAP/zgGQADQFe3mCgjACNSAHRkUAAAG0eMbjWYx4wA4x7v//13d3d//93dC///d3d+O7u7u7on/+heiIiO7u7/u7u4GBu5aJ//+iIiO7u7/9d3d3dERP///0QDAxbh4/MPDw8PABH///wADw8PH5h4eHn//AD+v+AHh4e//6PKPDWQMuf4nP/g/1g+f4nP+XD/rB//y4P8HwfB9//Lg+D5+mD4f/5cHwffxO//lwfB///lw+qAgCDJBwIjAAiFQCAHga1GBlQvjTAeb2TAzo0Z7v/84JkHRCVjTEfylAADgACGl2BEACyYGjEkkQfvgBEw28if+K0EFCWAaAfTeuF8xB4yghQUp//i4D0nDAnBkP/qa3HLImJQFADgGYIoThE//960EEXUmyE3TIoXFniGDgIuLPGTGYJz/////QIAOYRAi5fN0y+bkUNGQLhpgJBSYQQShGCAAUIICWwfUhi0ZDnXTCYs7fztyDFvZp6e4UfR9Cl4q3RGOk3It9P/TRou/+vo/9NsDAYDAgDAYDAgEIiAARjYUv5i9+zgIx7fGXMhf/zgmQcEYUxay/MPAEKEAYiKYAQACCdBT9eGtB+DJC7TuJDIDbRY/NUvSJqBAVa7V5wXheuI94LJtjQ9nv7f92hjgzoY6Z4M80O+8zX/pMx1hwIG9TR73zHvbXxu+/u0GDiBbG73oz0iwKR7+mvrFPrevT/+Sb7t/9f/6Z4HNOU7STX7czhmAAAqRBAy1+2rj5lkfv+v0L/R9/b+zfV/6t3s6f//Sv+8UJXej09aoiADjKlC+gOBiVNJ5yXzVWnmFjtbZLL4Nb+84NPfmHVUalk//OCZCMStYFxB+wwAYyAAhABwAAANZGQIwpxjAaWXvr0iwfATfclFA69RhE70N6Zttaz7N3y79+dfbv7r9aWh923PsUuhq23PjrVY6w5E/rczWzHO3j7KV+l75T/ve/TNpvn1vv/a+T/0pR+m7udf5yrdqXPjykDSzWLQn7r+VtOt/zluPe5P/t7kWMYdp+luxzpfZjx9e+s+Kb1djKN5LV9UE32Yf0yi94zfN3ClHgITNvs2M604q594JVEJLqc66q55EhL7MuT8PtVnARsOU7/84JkFxBVkXBTPMOZjRAGFMAAAABcuMpkoolzFBMAgapSu0pHVjAr0LWXg2DCQ0cE+lUW+YK5XEyRLHSQkC9DLIewRGcChJ/lbN9sEm2KePp4pCEGHdGkKqKiLRQmMEr2iwhwjaxa6cty+ktzTRiI4ucjKo4SxIcpc/3M/730BZCB97LpSjss1LZrQ999MUv6l91q1OpEj61fak6hRT5nVFqO1yyyjCVE2fTu78kRH9Dci/uQEJWFCXnQGWbRLDdGFuyki2CjVWZymZBakIIGuv/zgmQcEMU7cFMl5l2LqAYQAAAAAFOT9zLtAfHuzoSrmJWIBFz7P1PsSORahaka2r0qjeK6z2dDY+nkCeLeZYisIoVIoyYs7MOMYgGj27QghvbEDSnnYqp5dN6XUuWMnJulNsZHjPkPt/fnzX7FTv+KXMqVbkDVFouu///ix0b9vxNqxqljtFst0jd+L1/TbO9LEKapXOCnVKHrOz8fR97VSQ5umZ/21ylbVVxfpl6kXgkgemRIESAqjfcigeL4WxCrOBsFg03YrChPPthQ+1DC//OCZCMNxV14oyRiuYsAAhTAAAAA5lK4I9zoQZPItIHLtWAFFwQIIYJ/E1areYtSPJ53apjtbRnZXKofzmz3gWBzD1Ov4U19aUjveyP92381lIiEFOErl8L7yXcQ/zquBl/QwzXmFqFt+X2/09n6/po+rbvroItrJocvlPMf7B3d0zT9GUaY9oWaa/RVmrgU8CI00RNUibch8F01taEUJGRSrFUikuJUJQ05MvXFAEICY0DGkkyKhMlc1J6wnRzKqFHpERspxKgXZ9jlbQzGpRz/84JkRA1NJXazJMOFjVgCFYgAAADnZ98/+SnENJ+aF5Ltf6WQSA9uHBwn/xeYcKtGN9dfKf15//wYN6VgIQtaF/fh1l7lqpvo/rLvnHf7u9VWY9D07VCpJyksd2lEI+zRucxG3X2fLUxVjzT0U3nWpa+4EJVB2GyYtExpcbOkRc5SxMVtlaruN90X9unqJMXm0z+SbOxLcLXYy4Ey6sXBlAV3u5BxQjEkaJ61AA5VKKNktnIj1J8Ks8rYU89LYcPywQLKaWLEyrDYESLsFXsKiP/zgmRgDXDzcLcww6UNEAIMAABETJLqnkUvA5VSVnf4//cUFB+lCLWt31KO5X/t1PW7RXxVzvUAEM5YbmlSVFT9VqZhhDZpahhI+J69f3KcjpexPkmbpgClQHYep1KWIlUQmjAmwtHrPP/y2np3Fq2BdlHDpKXa3EpPEYokc2tj7sDtfdmXsxKCW0VphgNCkBXQ4dEG3TBchLdDDDr5Q2b5SmpMq0MsPl6t389/8jMU5MuDCirhUUhsFgo4XOltAqj4iEqRZKANjjiGpYyMMvrV//OCZHwNuTdswzDDlQxoAhowAEQAtF/dWLdy1PU84vdt3Uf7H0blfGo/er+VPfcJbjvp9fp2f6VqRja5EaT4FZMhUMwmJ4SnTQ+hRvM4zpTOL0WWSmTSKDHbyNotwciclRymtQUZIKPgVQUMm+ayHfWoczdFQxpVITYx5Q/yffuRZnDdd1bJwTGgcY5wmQSB0JwKMgVaXgEcRjwXb1v5QFBX0X+AF01frcjc++pUc9iuelWdViTinh1yxtbmoX/1ptb/SxtifYzkakOFKAmzjs7/84JkmA0ZB20XMMNnDNgGEAAAAAA4IJ/N1b/5AKWBcyUxRx2X2aOr1U6nmSLZGcW3Hmj53WLa/YBCjhQcXmWBBROHCiGg+6pDpAhJsMxt3WHmUnatVfEsepFrsz7X84fSy82Zk1MrS4ZZzNjJZzMqT3zhK1cI7faMCoKnTx4Ra0eEHkvlmdy2pTXUNszv+P9009xfbWevpfV5u3xexiF+a6SXa5iEESNjy29TtzZJ1zwsK0vweimjQkzHFICOCCCd+Y4Udc8ZwCtFzTBG0GhI4P/zgmS3DTlXXsOnjAENOAIMAUAAANAC6zpBA9eSRqC7LoJnWnIY0rEnK+rS2GcgRrrP6rmU0UNJjISlHLMOuK60A6prvtLbkKiCB09Wdnn0gbHHHWT1oeNbYA2dbK74zLn9dmCGTRv/1/44omF3pYwxZ0PuPJV2wdbiMOuzSxJnVrn///+PuDAL6Om3liB3TijT2Y0jLZbVhp2pe4MNRyW4yuC5N///fx1ruOPFhY45MD1ngfJ/neXNN9pN5VYzQRGjm7lJS442a/Kbm62squ8a//OCZNQa8Xs3Ec1gAAfABiihgBgCxFRWoBfp1W6X/t/zFt9nTae1ep3/7qP+y539f2f+z1f3fqqBIKQFQamwLCx1FCws2qrcrw3K9VVVVX+Mzf+zdCiTUBBUsDQwGvwVKhpT+5Xyuz/6eCsGlA08q4ShpQNcSnSp3KhqHfBWS/BW2WPfyF+YQuEKxC//MapQE8CtT+DUOwVO/iXxEDSg6VO4KqBoYDX/qPcGr/wVeCp0sHFA1/1A0MDv/lTvqPVHgafVTEFNRTMuOTkuNVVVVVX/84JkmQlscugB5AwAD7C1zAHBEABVVVVVVVVVVVVVVVVVVVVVVVVVVVVVVVVVVVVVVVVVVVVVVVVVVVVVVVVVVVVVVVVVVVVVVVVVVVVVVVVVVVVVVVVVVVVVVVVVVVVVVVVVVVVVVVVVVVVVVVVVVVVVVVVVVVVVVVVVVVVVVVVVVVVVVVVVVVVVVVVVVVVVVVVVVVVVVVVVVVVVVVVVVVVVVVVVVVVVVVVVVVVVVVVVVVVVVVVVVVVVVVVVVVVVVVVVVVVVVVVVVVVVVVVVVQ==\" type=\"audio/mpeg\" />\n",
              "                    Your browser does not support the audio element.\n",
              "                </audio>\n",
              "              "
            ]
          },
          "metadata": {}
        },
        {
          "output_type": "error",
          "ename": "IpyExit",
          "evalue": "",
          "traceback": [
            "An exception has occurred, use %tb to see the full traceback.\n",
            "\u001b[0;31mIpyExit\u001b[0m\n"
          ]
        },
        {
          "output_type": "stream",
          "name": "stderr",
          "text": [
            "/usr/local/lib/python3.11/dist-packages/IPython/core/interactiveshell.py:3561: UserWarning: To exit: use 'exit', 'quit', or Ctrl-D.\n",
            "  warn(\"To exit: use 'exit', 'quit', or Ctrl-D.\", stacklevel=1)\n"
          ]
        }
      ]
    },
    {
      "cell_type": "markdown",
      "source": [
        "## ②-B　トレース作業フォルダ配置\n",
        "\n",
        "前日以前に自動トレースを実行していて、途中で無料枠を使い切ってしまっていた場合、Googleドライブ上の作業フォルダを指定することでトレースを再開できます\n",
        "\n",
        "- フォルダ名は `autotrace` フォルダの中にある もっとも新しいフォルダ名を指定してください\n",
        "- 新しくトレースを開始したい場合、フォルダ名は空欄のままにしてください\n",
        "- 新規開始および再開のいずれの場合も、下の【②-B】のセルを実行して下さい"
      ],
      "metadata": {
        "id": "tbR3A1f8cCBJ"
      }
    },
    {
      "cell_type": "code",
      "source": [
        "#@markdown ■■■■■■■■■■■■■■■■■■\n",
        "\n",
        "#@markdown 【②-B】　トレース作業フォルダ配置\n",
        "\n",
        "#@markdown ■■■■■■■■■■■■■■■■■■\n",
        "\n",
        "# セル実行可否\n",
        "ckey = \"②-B\"\n",
        "check_exec_dict(ckey)\n",
        "\n",
        "# ----------------------------\n",
        "\n",
        "process_dir_name = \"\"  #@param {type: \"string\"}\n",
        "\n",
        "import os\n",
        "import shutil\n",
        "process_dir_path = os.path.join(base_dir_path, process_dir_name)\n",
        "\n",
        "if not process_dir_name:\n",
        "    print(\"■■■■■■■■■■■■■■■\")\n",
        "    print(\"■　** OK **\")\n",
        "    print(\"■　トレース作業フォルダが指定されていないため、新規にトレースを開始します\")\n",
        "    print(\"■■■■■■■■■■■■■■■\")\n",
        "else:\n",
        "    if not os.path.exists(process_dir_path):\n",
        "        print(\"■■■■■■■■■■■■■■■\")\n",
        "        print(\"■　** ERROR **\")\n",
        "        print(\"■　autotrace 直下に 指定フォルダ が見つかりませんでした。\")\n",
        "        print(\"■　・マイドライブ > 「autotrace」フォルダ の中のフォルダが名が指定できているか確認してください\")\n",
        "        print(\"■　フォルダパス: \" + process_dir_path)\n",
        "        print(\"■■■■■■■■■■■■■■■\")\n",
        "        raise IpyExit\n",
        "    else:\n",
        "        shutil.copytree(process_dir_path, f\"/content/output/{process_dir_name}\", dirs_exist_ok=True)\n",
        "\n",
        "        process_dir_path = f\"/content/output/{process_dir_name}\"\n",
        "\n",
        "        print(\"■■■■■■■■■■■■■■■\")\n",
        "        print(\"■　** OK **\")\n",
        "        print(\"■　トレース作業フォルダの配置が完了しました。\")\n",
        "        print(\"■　フォルダパス: \" + process_dir_path)\n",
        "        print(\"■■■■■■■■■■■■■■■\")\n",
        "\n",
        "# ----------------------------\n",
        "\n",
        "# セル終了\n",
        "finish_cell(ckey)"
      ],
      "metadata": {
        "cellView": "form",
        "id": "tpkiKYKScuzQ"
      },
      "execution_count": null,
      "outputs": []
    },
    {
      "cell_type": "markdown",
      "source": [
        "## ②-C　MMD自動トレースv4\n",
        "\n",
        "トレース元動画に対して、MMD自動トレースを実行します\n",
        "\n",
        "トレース作業フォルダが指定されていた場合、MMD自動トレースを再開します\n",
        "\n",
        "Googleドライブの `autotrace` フォルダに新しいフォルダを作成して、各ステップごとの結果を保存します\n",
        "\n",
        "経過時間等のメッセージが出ない場合がありますが、実行が中断されなければトレース作業は開始されていますので、セルを中断しないでください\n",
        "\n",
        "Colabの時間制限に対応するため、1000Fごとにセルの実行を完了して音（木琴）を鳴らします\n",
        "\n",
        "途中でセルの実行が完了した場合、vmdデータはまだ作成しません。代わりにpklファイルのみ保存します\n",
        "\n",
        "全てのトレース作業完了音（ラッパのファンファーレ）が鳴るまで、【②-C】のセルを何度も実行してください\n",
        "\n",
        "一回のトレースで処理するフレーム数を「block_frame_num」で調整出来ます\n",
        "\n",
        "トレース人数が4人以上の場合、1000 だと処理時間オーバーしてしまう場合があるので 800 位に抑えると安全です\n",
        "\n",
        "それ以下の場合はそのままで問題ありません\n",
        "\n",
        "無料枠の場合、大体3時間程度が1日の利用上限となっています"
      ],
      "metadata": {
        "id": "9Tinu8_mlnzN"
      }
    },
    {
      "cell_type": "code",
      "source": [
        "#@markdown ■■■■■■■■■■■■■■■■■■\n",
        "\n",
        "#@markdown 【②-C】　MMD自動トレースv4 実行\n",
        "\n",
        "#@markdown ■■■■■■■■■■■■■■■■■■\n",
        "\n",
        "# セル実行可否\n",
        "ckey = \"②-C\"\n",
        "check_exec_dict(ckey)\n",
        "\n",
        "block_frame_num = 1000  #@param {type: \"number\"}\n",
        "\n",
        "# ----------------------------\n",
        "\n",
        "%cd /content/mmd-auto-trace-4\n",
        "\n",
        "import datetime\n",
        "import os\n",
        "import shutil\n",
        "from glob import glob\n",
        "import os\n",
        "\n",
        "if not os.path.exists(input_video_path):\n",
        "    print(\"■■■■■■■■■■■■■■■\")\n",
        "    print(\"■　** ERROR **\")\n",
        "    print(\"■　ファイルのコピーに失敗しています。\")\n",
        "    print(\"■　【②-A】【②-B】【②-C】の順番で再実行してみてください。\")\n",
        "    print(\"■　ファイルパス: \" + input_video_path)\n",
        "    print(\"■■■■■■■■■■■■■■■\")\n",
        "    raise IpyExit\n",
        "\n",
        "if not process_dir_name:\n",
        "    # JST生成\n",
        "    jst_delta = datetime.timedelta(hours=9)\n",
        "    now_utc = datetime.datetime.utcnow()\n",
        "    now_jst = now_utc + jst_delta\n",
        "    formatted_jst = now_jst.strftime('%Y%m%d_%H%M%S')\n",
        "\n",
        "    # 新規作成の場合、新しくディレクトリ名を作成する\n",
        "    process_dir_name = f\"{os.path.basename(input_video_path).replace('.', '_')}_{formatted_jst}\"\n",
        "    process_dir_path = os.path.join(os.path.join('/content', 'output', process_dir_name))\n",
        "    os.makedirs(process_dir_path, exist_ok=True)\n",
        "\n",
        "! python3.10 py/exec_gpu.py $input_video_path $process_dir_path $block_frame_num\n",
        "\n",
        "if os.path.exists(os.path.join(process_dir_path, \"end_of_frame\")):\n",
        "    shutil.copytree(process_dir_path, os.path.join(base_dir_path, process_dir_name), dirs_exist_ok=True)\n",
        "\n",
        "    if not os.path.exists(os.path.join(process_dir_path, \"all_complete\")):\n",
        "        ! python3.10 py/exec_cpu.py $process_dir_path 30\n",
        "\n",
        "if os.path.exists(os.path.join(process_dir_path, \"all_complete\")):\n",
        "    # 結果をGoogleドライブにコピー\n",
        "    output_path = os.path.join(base_dir_path, f\"{process_dir_name}_complete\")\n",
        "    os.makedirs(output_path, exist_ok=True)\n",
        "\n",
        "    output_original_json_path = os.path.join(output_path, \"json\", \"original\")\n",
        "    os.makedirs(output_original_json_path, exist_ok=True)\n",
        "\n",
        "    output_smooth_json_path = os.path.join(output_path, \"json\", \"smooth\")\n",
        "    os.makedirs(output_smooth_json_path, exist_ok=True)\n",
        "\n",
        "    # original.json\n",
        "    for json_path in glob(os.path.join(process_dir_path, \"*_original.json\")):\n",
        "        json_file_name = os.path.basename(json_path)\n",
        "        shutil.copy(json_path, os.path.join(output_original_json_path, json_file_name))\n",
        "\n",
        "    # smooth.json\n",
        "    for json_path in glob(os.path.join(process_dir_path, \"*_smooth.json\")):\n",
        "        json_file_name = os.path.basename(json_path)\n",
        "        shutil.copy(json_path, os.path.join(output_smooth_json_path, json_file_name))\n",
        "\n",
        "    # visualize.html\n",
        "    shutil.copy(\"/content/mmd-auto-trace-4/data/vis/visualize.html\", os.path.join(output_path, \"json\", \"visualize.html\"))\n",
        "\n",
        "    output_full_motion_path = os.path.join(output_path, \"motion\", \"full\")\n",
        "    os.makedirs(output_full_motion_path, exist_ok=True)\n",
        "\n",
        "    output_reduce_wide_motion_path = os.path.join(output_path, \"motion\", \"reduce_wide\")\n",
        "    os.makedirs(output_reduce_wide_motion_path, exist_ok=True)\n",
        "\n",
        "    output_reduce_narrow_motion_path = os.path.join(output_path, \"motion\", \"reduce_narrow\")\n",
        "    os.makedirs(output_reduce_narrow_motion_path, exist_ok=True)\n",
        "\n",
        "    # vmd\n",
        "    for vmd_path in glob(os.path.join(process_dir_path, \"*_full.vmd\")):\n",
        "        vmd_name = os.path.basename(vmd_path)\n",
        "        shutil.copy(vmd_path, os.path.join(output_full_motion_path, vmd_name))\n",
        "\n",
        "    for vmd_path in glob(os.path.join(process_dir_path, \"*_reduce_wide.vmd\")):\n",
        "        vmd_name = os.path.basename(vmd_path)\n",
        "        shutil.copy(vmd_path, os.path.join(output_reduce_wide_motion_path, vmd_name))\n",
        "\n",
        "    for vmd_path in glob(os.path.join(process_dir_path, \"*_reduce_narrow.vmd\")):\n",
        "        vmd_name = os.path.basename(vmd_path)\n",
        "        shutil.copy(vmd_path, os.path.join(output_reduce_narrow_motion_path, vmd_name))\n",
        "\n",
        "    output_model_path = os.path.join(output_path, \"model\")\n",
        "\n",
        "    # pmx\n",
        "    shutil.copytree(\"/content/mmd-auto-trace-4/data/pmx/tex/\", os.path.join(output_model_path, \"tex\"), dirs_exist_ok=True)\n",
        "    shutil.copy(\"/content/mmd-auto-trace-4/data/pmx/v4_trace_model.pmx\", os.path.join(output_model_path, \"v4_trace_model.pmx\"))\n",
        "    shutil.copy(\"/content/mmd-auto-trace-4/data/pmx/v4_trace_model_red.pmx\", os.path.join(output_model_path, \"v4_trace_model_red.pmx\"))\n",
        "    shutil.copy(\"/content/mmd-auto-trace-4/data/pmx/v4_trace_model_blue.pmx\", os.path.join(output_model_path, \"v4_trace_model_blue.pmx\"))\n",
        "    shutil.copy(\"/content/mmd-auto-trace-4/data/pmx/v4_trace_model_green.pmx\", os.path.join(output_model_path, \"v4_trace_model_green.pmx\"))\n",
        "\n",
        "    # readme\n",
        "    shutil.copy(os.path.join(\"/content/mmd-auto-trace-4/data/txt/readme_ja.txt\"), os.path.join(output_path, \"readme.txt\"))\n",
        "\n",
        "    ! sleep 10\n",
        "\n",
        "    play_sound(SoundType.COMPLETE)\n",
        "\n",
        "    print(\"■■■■■■■■■■■■■■■\")\n",
        "    print(\"■　* COMPLETE *\")\n",
        "    print(\"■　全ての自動トレース処理が完了しました\")\n",
        "    print(f\"■　Googleドライブ上の「{process_dir_name}_complete」フォルダをダウンロードして確認してください\")\n",
        "    print(f\"■　ダウンロード完了後、Googleドライブ上の 「{process_dir_name}」「{process_dir_name}_complete」フォルダは削除していただいて構いません\")\n",
        "    print(\"■■■■■■■■■■■■■■■\")\n",
        "\n",
        "else:\n",
        "    shutil.copytree(process_dir_path, os.path.join(base_dir_path, process_dir_name), dirs_exist_ok=True)\n",
        "\n",
        "    ! sleep 10\n",
        "\n",
        "    play_sound(SoundType.SUCCESS)\n",
        "\n",
        "    print(\"■■■■■■■■■■■■■■■\")\n",
        "    print(\"■　* PROCESS *\")\n",
        "    print(\"■　自動トレース処理が途中まで終わりました\")\n",
        "    print(\"■　まだGPUが使える場合は、このセルを再実行してください\")\n",
        "    print(\"■　GPUを使い切った場合は、一旦作業を中断し、後日①-Aから再度実行してください\")\n",
        "    print(f\"■　Googleドライブ上の作業フォルダ ({process_dir_name}) はまだ削除しないでください\")\n",
        "    print(\"■■■■■■■■■■■■■■■\")\n"
      ],
      "metadata": {
        "id": "Q32Z-oOqlZLd",
        "cellView": "form"
      },
      "execution_count": null,
      "outputs": []
    }
  ]
}